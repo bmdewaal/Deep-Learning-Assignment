{
 "cells": [
  {
   "cell_type": "markdown",
   "id": "38e77c3c",
   "metadata": {},
   "source": [
    "## Setup DirectML on Windows (Python 3.11)\n",
    "This notebook adds the necessary pip install commands to get torch-directml working on Python 3.11 with your AMD RX 7800 XT. After running the setup cells, simply paste in your existing model training and data loading code below."
   ]
  },
  {
   "cell_type": "code",
   "execution_count": 1,
   "id": "b291f2da",
   "metadata": {},
   "outputs": [
    {
     "name": "stdout",
     "output_type": "stream",
     "text": [
      "Requirement already satisfied: pip in c:\\users\\bram\\appdata\\local\\packages\\pythonsoftwarefoundation.python.3.11_qbz5n2kfra8p0\\localcache\\local-packages\\python311\\site-packages (25.1)\n"
     ]
    }
   ],
   "source": [
    "# 1) Upgrade pip\n",
    "!pip install --upgrade pip"
   ]
  },
  {
   "cell_type": "code",
   "execution_count": 4,
   "id": "7b7b412a",
   "metadata": {},
   "outputs": [
    {
     "name": "stdout",
     "output_type": "stream",
     "text": [
      "Collecting torch-directml==0.2.5.dev240914\n",
      "  Using cached torch_directml-0.2.5.dev240914-cp311-cp311-win_amd64.whl (9.0 MB)\n",
      "Requirement already satisfied: torch==2.4.1 in c:\\users\\bram\\appdata\\local\\packages\\pythonsoftwarefoundation.python.3.11_qbz5n2kfra8p0\\localcache\\local-packages\\python311\\site-packages (from torch-directml==0.2.5.dev240914) (2.4.1)\n",
      "Requirement already satisfied: torchvision==0.19.1 in c:\\users\\bram\\appdata\\local\\packages\\pythonsoftwarefoundation.python.3.11_qbz5n2kfra8p0\\localcache\\local-packages\\python311\\site-packages (from torch-directml==0.2.5.dev240914) (0.19.1)\n",
      "Requirement already satisfied: filelock in c:\\users\\bram\\appdata\\local\\packages\\pythonsoftwarefoundation.python.3.11_qbz5n2kfra8p0\\localcache\\local-packages\\python311\\site-packages (from torch==2.4.1->torch-directml==0.2.5.dev240914) (3.18.0)\n",
      "Requirement already satisfied: typing-extensions>=4.8.0 in c:\\users\\bram\\appdata\\local\\packages\\pythonsoftwarefoundation.python.3.11_qbz5n2kfra8p0\\localcache\\local-packages\\python311\\site-packages (from torch==2.4.1->torch-directml==0.2.5.dev240914) (4.12.2)\n",
      "Requirement already satisfied: sympy in c:\\users\\bram\\appdata\\local\\packages\\pythonsoftwarefoundation.python.3.11_qbz5n2kfra8p0\\localcache\\local-packages\\python311\\site-packages (from torch==2.4.1->torch-directml==0.2.5.dev240914) (1.14.0)\n",
      "Requirement already satisfied: networkx in c:\\users\\bram\\appdata\\local\\packages\\pythonsoftwarefoundation.python.3.11_qbz5n2kfra8p0\\localcache\\local-packages\\python311\\site-packages (from torch==2.4.1->torch-directml==0.2.5.dev240914) (3.4.2)\n",
      "Requirement already satisfied: jinja2 in c:\\users\\bram\\appdata\\local\\packages\\pythonsoftwarefoundation.python.3.11_qbz5n2kfra8p0\\localcache\\local-packages\\python311\\site-packages (from torch==2.4.1->torch-directml==0.2.5.dev240914) (3.1.6)\n",
      "Requirement already satisfied: fsspec in c:\\users\\bram\\appdata\\local\\packages\\pythonsoftwarefoundation.python.3.11_qbz5n2kfra8p0\\localcache\\local-packages\\python311\\site-packages (from torch==2.4.1->torch-directml==0.2.5.dev240914) (2025.3.2)\n",
      "Requirement already satisfied: numpy in c:\\users\\bram\\appdata\\local\\packages\\pythonsoftwarefoundation.python.3.11_qbz5n2kfra8p0\\localcache\\local-packages\\python311\\site-packages (from torchvision==0.19.1->torch-directml==0.2.5.dev240914) (2.2.5)\n",
      "Requirement already satisfied: pillow!=8.3.*,>=5.3.0 in c:\\users\\bram\\appdata\\local\\packages\\pythonsoftwarefoundation.python.3.11_qbz5n2kfra8p0\\localcache\\local-packages\\python311\\site-packages (from torchvision==0.19.1->torch-directml==0.2.5.dev240914) (11.2.1)\n",
      "Requirement already satisfied: MarkupSafe>=2.0 in c:\\users\\bram\\appdata\\local\\packages\\pythonsoftwarefoundation.python.3.11_qbz5n2kfra8p0\\localcache\\local-packages\\python311\\site-packages (from jinja2->torch==2.4.1->torch-directml==0.2.5.dev240914) (3.0.2)\n",
      "Requirement already satisfied: mpmath<1.4,>=1.1.0 in c:\\users\\bram\\appdata\\local\\packages\\pythonsoftwarefoundation.python.3.11_qbz5n2kfra8p0\\localcache\\local-packages\\python311\\site-packages (from sympy->torch==2.4.1->torch-directml==0.2.5.dev240914) (1.3.0)\n"
     ]
    }
   ],
   "source": [
    "!pip install https://files.pythonhosted.org/packages/84/8b/00528e6c75e030cc5f1fc1d08c58c46ecdbec9cd406b1dfd03023e3af4aa/torch_directml-0.2.5.dev240914-cp311-cp311-win_amd64.whl  "
   ]
  },
  {
   "cell_type": "code",
   "execution_count": 5,
   "id": "47d7e965",
   "metadata": {},
   "outputs": [
    {
     "name": "stdout",
     "output_type": "stream",
     "text": [
      "Using DirectML on AMD GPU: privateuseone:0\n"
     ]
    }
   ],
   "source": [
    "# 3) Device selection\n",
    "try:\n",
    "    import torch_directml\n",
    "    device = torch_directml.device()\n",
    "    print(\"Using DirectML on AMD GPU:\", device)\n",
    "except ImportError:\n",
    "    import torch\n",
    "    device = torch.device(\"cpu\")\n",
    "    print(\"DirectML unavailable—using CPU:\", device)\n",
    "\n",
    "# 4) Paste your existing import, data loading, model, and training code below unchanged"
   ]
  },
  {
   "cell_type": "code",
   "execution_count": null,
   "id": "a86eff45",
   "metadata": {},
   "outputs": [],
   "source": []
  }
 ],
 "metadata": {
  "kernelspec": {
   "display_name": "Python 3",
   "language": "python",
   "name": "python3"
  },
  "language_info": {
   "codemirror_mode": {
    "name": "ipython",
    "version": 3
   },
   "file_extension": ".py",
   "mimetype": "text/x-python",
   "name": "python",
   "nbconvert_exporter": "python",
   "pygments_lexer": "ipython3",
   "version": "3.11.9"
  }
 },
 "nbformat": 4,
 "nbformat_minor": 5
}
