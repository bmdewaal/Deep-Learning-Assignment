{
 "cells": [
  {
   "cell_type": "markdown",
   "id": "1875b3c1",
   "metadata": {},
   "source": [
    "# Deep Learning assignment\n",
    "\n",
    "## Imports"
   ]
  },
  {
   "cell_type": "code",
   "execution_count": 2,
   "id": "cac379ea",
   "metadata": {},
   "outputs": [
    {
     "name": "stdout",
     "output_type": "stream",
     "text": [
      "Using device: mps\n"
     ]
    }
   ],
   "source": [
    "import os\n",
    "import torch\n",
    "import torchaudio\n",
    "from torch.utils.data import Dataset, DataLoader\n",
    "import torch.nn as nn\n",
    "import torch.optim as optim\n",
    "\n",
    "# Use MPS on Apple Silicon if available\n",
    "device = torch.device(\"mps\") if torch.backends.mps.is_available() else torch.device(\"cpu\")\n",
    "print(f\"Using device: {device}\")\n"
   ]
  },
  {
   "cell_type": "markdown",
   "id": "66954fa6",
   "metadata": {},
   "source": [
    "----------------------"
   ]
  },
  {
   "cell_type": "markdown",
   "id": "7cf823d6",
   "metadata": {},
   "source": [
    "## Exploring the dataset"
   ]
  },
  {
   "cell_type": "code",
   "execution_count": 3,
   "id": "e11a1cd7",
   "metadata": {},
   "outputs": [],
   "source": [
    "class AccentDataset(Dataset):\n",
    "    def __init__(self, data_dir, sample_rate=16000, max_length=16000, num_classes=5):\n",
    "        self.sample_rate = sample_rate\n",
    "        self.max_length  = max_length\n",
    "        self.num_classes = num_classes\n",
    "        self.files = []\n",
    "\n",
    "        for root, _, fns in os.walk(data_dir):\n",
    "            for fn in sorted(fns):\n",
    "                if not fn.lower().endswith('.wav'):\n",
    "                    continue\n",
    "                label = int(fn[0]) - 1\n",
    "                # keep only accents 1–5 → labels 0–4\n",
    "                if 0 <= label < self.num_classes:\n",
    "                    self.files.append(os.path.join(root, fn))\n",
    "\n",
    "    def __len__(self):\n",
    "        return len(self.files)\n",
    "\n",
    "    def __getitem__(self, idx):\n",
    "        path = self.files[idx]\n",
    "        waveform, sr = torchaudio.load(path)\n",
    "        if sr != self.sample_rate:\n",
    "            waveform = torchaudio.transforms.Resample(sr, self.sample_rate)(waveform)\n",
    "        waveform = waveform.mean(dim=0, keepdim=True)  # mono\n",
    "        if waveform.size(1) < self.max_length:\n",
    "            pad = self.max_length - waveform.size(1)\n",
    "            waveform = nn.functional.pad(waveform, (0, pad))\n",
    "        else:\n",
    "            waveform = waveform[:, :self.max_length]\n",
    "        waveform = (waveform - waveform.mean()) / (waveform.std() + 1e-5)\n",
    "        label = int(os.path.basename(path)[0]) - 1\n",
    "        return waveform.to(device), torch.tensor(label, dtype=torch.long, device=device)\n"
   ]
  },
  {
   "cell_type": "code",
   "execution_count": 4,
   "id": "fb683cb0",
   "metadata": {},
   "outputs": [],
   "source": [
    "train_dir = 'Train'        \n",
    "test_dir  = 'Test set'     \n",
    "\n",
    "train_ds     = AccentDataset(train_dir,  num_classes=5)\n",
    "test_ds      = AccentDataset(test_dir,   num_classes=5)\n",
    "train_loader = DataLoader(train_ds, batch_size=32, shuffle=True)\n",
    "test_loader  = DataLoader(test_ds,  batch_size=32)"
   ]
  },
  {
   "cell_type": "code",
   "execution_count": 5,
   "id": "556ad2bd",
   "metadata": {},
   "outputs": [
    {
     "name": "stdout",
     "output_type": "stream",
     "text": [
      "Total train files: 3166\n",
      "Duration (s): min=1.67, max=12.97, mean=5.26, median=5.04\n",
      "Accent distribution: Counter({4: 754, 1: 740, 2: 626, 3: 564, 5: 482})\n",
      "Gender distribution: Counter({'f': 1639, 'm': 1527})\n"
     ]
    }
   ],
   "source": [
    "import os\n",
    "import torchaudio\n",
    "import numpy as np\n",
    "from collections import Counter\n",
    "\n",
    "\n",
    "durations = []\n",
    "accents   = []\n",
    "genders   = []\n",
    "\n",
    "for path in train_ds.files:\n",
    "    info = torchaudio.info(path)\n",
    "    dur = info.num_frames / info.sample_rate\n",
    "    durations.append(dur)\n",
    "    fn = os.path.basename(path)\n",
    "    accents.append(int(fn[0]))\n",
    "    genders.append(fn[1])\n",
    "\n",
    "# 2) Print stats\n",
    "print(f\"Total train files: {len(durations)}\")\n",
    "print(f\"Duration (s): min={min(durations):.2f}, max={max(durations):.2f}, \"\n",
    "      f\"mean={np.mean(durations):.2f}, median={np.median(durations):.2f}\")\n",
    "\n",
    "print(\"Accent distribution:\", Counter(accents))\n",
    "print(\"Gender distribution:\", Counter(genders))\n"
   ]
  },
  {
   "cell_type": "code",
   "execution_count": 6,
   "id": "832f9b8a",
   "metadata": {},
   "outputs": [
    {
     "name": "stdout",
     "output_type": "stream",
     "text": [
      "Axes(0.125,0.11;0.775x0.77)\n",
      "gender    f    m\n",
      "accent          \n",
      "1       520  220\n",
      "2       287  339\n",
      "3       242  322\n",
      "4       357  397\n",
      "5       233  249\n"
     ]
    },
    {
     "data": {
      "image/png": "[encoded data removed]",
      "text/plain": [
       "<Figure size 640x480 with 1 Axes>"
      ]
     },
     "metadata": {},
     "output_type": "display_data"
    }
   ],
   "source": [
    "import pandas as pd\n",
    "\n",
    "df = pd.DataFrame({\n",
    "    \"duration\": durations,\n",
    "    \"accent\":   accents,\n",
    "    \"gender\":   genders,\n",
    "})\n",
    "\n",
    "\n",
    "print(df.duration.hist(bins=10))\n",
    "\n",
    "\n",
    "print(df.groupby([\"accent\",\"gender\"]).size().unstack(fill_value=0))\n"
   ]
  },
  {
   "cell_type": "code",
   "execution_count": 7,
   "id": "6cf8eaf1",
   "metadata": {},
   "outputs": [
    {
     "name": "stdout",
     "output_type": "stream",
     "text": [
      "Found 3166 train files, 298 test files\n"
     ]
    }
   ],
   "source": [
    "\n",
    "import os\n",
    "import torchaudio\n",
    "import torch\n",
    "import matplotlib.pyplot as plt\n",
    "import pandas as pd\n",
    "\n",
    "\n",
    "print(f\"Found {len(train_ds)} train files, {len(test_ds)} test files\")\n"
   ]
  },
  {
   "cell_type": "code",
   "execution_count": 8,
   "id": "7a6e9f71",
   "metadata": {},
   "outputs": [
    {
     "name": "stdout",
     "output_type": "stream",
     "text": [
      "Durations (s): min=1.67, median=5.03, max=12.97\n"
     ]
    }
   ],
   "source": [
    "# Cell 2: gather durations (in seconds) and basic stats\n",
    "durations = []\n",
    "for path in train_ds.files:\n",
    "    info = torchaudio.info(path)\n",
    "    durations.append(info.num_frames / info.sample_rate)\n",
    "\n",
    "durations = torch.tensor(durations)\n",
    "print(f\"Durations (s): min={durations.min():.2f}, \"\n",
    "      f\"median={durations.median():.2f}, max={durations.max():.2f}\")\n"
   ]
  },
  {
   "cell_type": "code",
   "execution_count": 9,
   "id": "27ace593",
   "metadata": {},
   "outputs": [
    {
     "data": {
      "image/png": "[encoded data removed]",
      "text/plain": [
       "<Figure size 600x400 with 1 Axes>"
      ]
     },
     "metadata": {},
     "output_type": "display_data"
    }
   ],
   "source": [
    "# Cell 3: histogram of utterance lengths\n",
    "plt.figure(figsize=(6,4))\n",
    "plt.hist(durations.numpy(), bins=20, edgecolor='black')\n",
    "plt.xlabel(\"Duration (s)\")\n",
    "plt.ylabel(\"Count\")\n",
    "plt.title(\"Train-set Utterance Duration Distribution\")\n",
    "plt.grid(alpha=0.3)\n",
    "plt.show()\n"
   ]
  },
  {
   "cell_type": "code",
   "execution_count": 10,
   "id": "e34b5bb9",
   "metadata": {},
   "outputs": [
    {
     "data": {
      "text/html": [
       "<div>\n",
       "<style scoped>\n",
       "    .dataframe tbody tr th:only-of-type {\n",
       "        vertical-align: middle;\n",
       "    }\n",
       "\n",
       "    .dataframe tbody tr th {\n",
       "        vertical-align: top;\n",
       "    }\n",
       "\n",
       "    .dataframe thead th {\n",
       "        text-align: right;\n",
       "    }\n",
       "</style>\n",
       "<table border=\"1\" class=\"dataframe\">\n",
       "  <thead>\n",
       "    <tr style=\"text-align: right;\">\n",
       "      <th></th>\n",
       "      <th>accent</th>\n",
       "      <th>gender</th>\n",
       "    </tr>\n",
       "  </thead>\n",
       "  <tbody>\n",
       "    <tr>\n",
       "      <th>0</th>\n",
       "      <td>1</td>\n",
       "      <td>f</td>\n",
       "    </tr>\n",
       "    <tr>\n",
       "      <th>1</th>\n",
       "      <td>1</td>\n",
       "      <td>f</td>\n",
       "    </tr>\n",
       "    <tr>\n",
       "      <th>2</th>\n",
       "      <td>1</td>\n",
       "      <td>f</td>\n",
       "    </tr>\n",
       "    <tr>\n",
       "      <th>3</th>\n",
       "      <td>1</td>\n",
       "      <td>f</td>\n",
       "    </tr>\n",
       "    <tr>\n",
       "      <th>4</th>\n",
       "      <td>1</td>\n",
       "      <td>f</td>\n",
       "    </tr>\n",
       "  </tbody>\n",
       "</table>\n",
       "</div>"
      ],
      "text/plain": [
       "   accent gender\n",
       "0       1      f\n",
       "1       1      f\n",
       "2       1      f\n",
       "3       1      f\n",
       "4       1      f"
      ]
     },
     "execution_count": 10,
     "metadata": {},
     "output_type": "execute_result"
    }
   ],
   "source": [
    "rows = []\n",
    "for path in train_ds.files:\n",
    "    fn = os.path.basename(path)\n",
    "    accent = int(fn[0])\n",
    "    gender = fn[1]\n",
    "    rows.append({\"accent\": accent, \"gender\": gender})\n",
    "df = pd.DataFrame(rows)\n",
    "df.head()\n"
   ]
  },
  {
   "cell_type": "code",
   "execution_count": 11,
   "id": "a3fee08e",
   "metadata": {},
   "outputs": [
    {
     "name": "stdout",
     "output_type": "stream",
     "text": [
      "Counts per (accent, gender):\n",
      "gender    f    m\n",
      "accent          \n",
      "1       520  220\n",
      "2       287  339\n",
      "3       242  322\n",
      "4       357  397\n",
      "5       233  249\n"
     ]
    }
   ],
   "source": [
    "ct = pd.crosstab(df.accent, df.gender)\n",
    "print(\"Counts per (accent, gender):\")\n",
    "print(ct)\n"
   ]
  },
  {
   "cell_type": "markdown",
   "id": "e8b69ee2",
   "metadata": {},
   "source": [
    "-----"
   ]
  },
  {
   "cell_type": "markdown",
   "id": "b32f4ec3",
   "metadata": {},
   "source": [
    "## Dataset import/definitions"
   ]
  },
  {
   "cell_type": "code",
   "execution_count": 23,
   "id": "25f02b84",
   "metadata": {},
   "outputs": [],
   "source": [
    "class AccentDataset(Dataset):\n",
    "    def __init__(self, data_dir, sample_rate=16000, max_length=16000, num_classes=5):\n",
    "        self.sample_rate = sample_rate\n",
    "        self.max_length  = max_length\n",
    "        self.num_classes = num_classes\n",
    "        self.files = []\n",
    "\n",
    "        for root, _, fns in os.walk(data_dir):\n",
    "            for fn in sorted(fns):\n",
    "                if not fn.lower().endswith('.wav'):\n",
    "                    continue\n",
    "                label = int(fn[0]) - 1\n",
    "                # keep only accents 1–5 → labels 0–4\n",
    "                if 0 <= label < self.num_classes:\n",
    "                    self.files.append(os.path.join(root, fn))\n",
    "\n",
    "    def __len__(self):\n",
    "        return len(self.files)\n",
    "\n",
    "    def __getitem__(self, idx):\n",
    "        path = self.files[idx]\n",
    "        waveform, sr = torchaudio.load(path)\n",
    "        if sr != self.sample_rate:\n",
    "            waveform = torchaudio.transforms.Resample(sr, self.sample_rate)(waveform)\n",
    "        waveform = waveform.mean(dim=0, keepdim=True)  # mono\n",
    "        if waveform.size(1) < self.max_length:\n",
    "            pad = self.max_length - waveform.size(1)\n",
    "            waveform = nn.functional.pad(waveform, (0, pad))\n",
    "        else:\n",
    "            waveform = waveform[:, :self.max_length]\n",
    "        waveform = (waveform - waveform.mean()) / (waveform.std() + 1e-5)\n",
    "        label = int(os.path.basename(path)[0]) - 1\n",
    "        return waveform.to(device), torch.tensor(label, dtype=torch.long, device=device)\n"
   ]
  },
  {
   "cell_type": "markdown",
   "id": "09fcd637",
   "metadata": {},
   "source": [
    "------"
   ]
  },
  {
   "cell_type": "markdown",
   "id": "7e2b8398",
   "metadata": {},
   "source": [
    "## Dataloaders\n",
    "\n",
    "The dataloaders are used for..."
   ]
  },
  {
   "cell_type": "code",
   "execution_count": 24,
   "id": "55d49fcb",
   "metadata": {},
   "outputs": [],
   "source": [
    "train_dir = 'Train'        \n",
    "test_dir  = 'Test set'     \n",
    "\n",
    "train_ds     = AccentDataset(train_dir,  num_classes=5)\n",
    "test_ds      = AccentDataset(test_dir,   num_classes=5)\n",
    "train_loader = DataLoader(train_ds, batch_size=32, shuffle=True)\n",
    "test_loader  = DataLoader(test_ds,  batch_size=32)\n"
   ]
  },
  {
   "cell_type": "markdown",
   "id": "9a6fee6a",
   "metadata": {},
   "source": [
    "---------"
   ]
  },
  {
   "cell_type": "markdown",
   "id": "a33ba5a9",
   "metadata": {},
   "source": [
    "## Model - CNN (task 1.2a)"
   ]
  },
  {
   "cell_type": "code",
   "execution_count": 25,
   "id": "52c126d0",
   "metadata": {},
   "outputs": [],
   "source": [
    "# class RawCNN(nn.Module):\n",
    "#     def __init__(self, num_classes=5, max_length=16000):\n",
    "#         super().__init__()\n",
    "#         self.conv = nn.Sequential(\n",
    "#             nn.Conv1d(1, 16, kernel_size=5, padding=2),\n",
    "#             nn.ReLU(),\n",
    "#             nn.MaxPool1d(2),\n",
    "#             nn.Conv1d(16, 32, kernel_size=5, padding=2),\n",
    "#             nn.ReLU(),\n",
    "#             nn.MaxPool1d(2),\n",
    "#         )\n",
    "#         reduced = max_length // 4  # two poolings of 2\n",
    "#         self.fc = nn.Sequential(\n",
    "#             nn.Flatten(),\n",
    "#             nn.Linear(32 * reduced, 128),\n",
    "#             nn.ReLU(),\n",
    "#             nn.Dropout(0.5),\n",
    "#             nn.Linear(128, num_classes),\n",
    "#         )\n",
    "\n",
    "#     def forward(self, x):\n",
    "#         return self.fc(self.conv(x))\n",
    "\n",
    "# model = RawCNN(num_classes=5, max_length=train_ds.max_length).to(device)\n",
    "\n",
    "class RawCNNVarLenDeep(nn.Module):\n",
    "    def __init__(self, num_classes=5):\n",
    "        super().__init__()\n",
    "        self.conv = nn.Sequential(\n",
    "            # block 1\n",
    "            nn.Conv1d(1,   64, kernel_size=7, padding=3),  # wider kernel, more feature-maps\n",
    "            nn.BatchNorm1d(64),\n",
    "            nn.ReLU(),\n",
    "            nn.MaxPool1d(2),\n",
    "\n",
    "            # block 2\n",
    "            nn.Conv1d(64, 128, kernel_size=5, padding=2),\n",
    "            nn.BatchNorm1d(128),\n",
    "            nn.ReLU(),\n",
    "            nn.MaxPool1d(2),\n",
    "\n",
    "            # block 3\n",
    "            nn.Conv1d(128,256, kernel_size=3, padding=1),\n",
    "            nn.BatchNorm1d(256),\n",
    "            nn.ReLU(),\n",
    "            nn.MaxPool1d(2),\n",
    "        )\n",
    "        # still reduce variable-length to 10 timesteps\n",
    "        self.global_pool = nn.AdaptiveAvgPool1d(10)\n",
    "\n",
    "        # adjust classifier input dim = 256 channels × 10 timesteps\n",
    "        self.classifier = nn.Sequential(\n",
    "            nn.Flatten(),               # [batch, 256*10 = 2560]\n",
    "            nn.Linear(256*10, 512),\n",
    "            nn.ReLU(),\n",
    "            nn.Dropout(0.5),\n",
    "            nn.Linear(512, num_classes),\n",
    "        )\n",
    "\n",
    "    def forward(self, x):\n",
    "        x = self.conv(x)\n",
    "        x = self.global_pool(x)\n",
    "        return self.classifier(x)\n",
    "\n",
    "\n",
    "\n",
    "\n",
    "model = RawCNNVarLenDeep(num_classes=5).to(device)\n",
    "\n",
    "# Loss and optimizer:\n",
    "criterion = nn.CrossEntropyLoss()\n",
    "optimizer = optim.Adam(model.parameters(), lr=1e-3)\n",
    "\n"
   ]
  },
  {
   "cell_type": "code",
   "execution_count": 26,
   "id": "8222ae8c",
   "metadata": {},
   "outputs": [],
   "source": [
    "def run_epoch(loader, train=True):\n",
    "    if train:\n",
    "        model.train()\n",
    "    else:\n",
    "        model.eval()\n",
    "\n",
    "    total_loss = correct = total = 0\n",
    "    with torch.set_grad_enabled(train):\n",
    "        for X, y in loader:\n",
    "            logits = model(X)\n",
    "            loss   = criterion(logits, y)\n",
    "            if train:\n",
    "                optimizer.zero_grad()\n",
    "                loss.backward()\n",
    "                optimizer.step()\n",
    "            total_loss += loss.item() * X.size(0)\n",
    "            preds = logits.argmax(dim=1)\n",
    "            correct += (preds == y).sum().item()\n",
    "            total   += X.size(0)\n",
    "    return total_loss/total, correct/total\n"
   ]
  },
  {
   "cell_type": "markdown",
   "id": "cb5b92f4",
   "metadata": {},
   "source": [
    "### Training loop"
   ]
  },
  {
   "cell_type": "code",
   "execution_count": 27,
   "id": "308d2c1b",
   "metadata": {},
   "outputs": [
    {
     "name": "stdout",
     "output_type": "stream",
     "text": [
      "Epoch 01 | Train Loss: 1.6158, Acc: 0.2495 | Test  Loss: 1.7782, Acc: 0.1812\n",
      "Epoch 02 | Train Loss: 1.5396, Acc: 0.2884 | Test  Loss: 1.7434, Acc: 0.2047\n",
      "Epoch 03 | Train Loss: 1.5277, Acc: 0.2997 | Test  Loss: 1.7341, Acc: 0.1946\n",
      "Epoch 04 | Train Loss: 1.5085, Acc: 0.3133 | Test  Loss: 1.7630, Acc: 0.1913\n",
      "Epoch 05 | Train Loss: 1.5079, Acc: 0.3067 | Test  Loss: 1.8297, Acc: 0.1711\n",
      "Epoch 06 | Train Loss: 1.4825, Acc: 0.3307 | Test  Loss: 1.8164, Acc: 0.1946\n",
      "Epoch 07 | Train Loss: 1.4752, Acc: 0.3320 | Test  Loss: 1.9189, Acc: 0.1779\n",
      "Epoch 08 | Train Loss: 1.4780, Acc: 0.3323 | Test  Loss: 1.7614, Acc: 0.2047\n",
      "Epoch 09 | Train Loss: 1.4498, Acc: 0.3380 | Test  Loss: 1.8337, Acc: 0.1779\n",
      "Epoch 10 | Train Loss: 1.4432, Acc: 0.3443 | Test  Loss: 1.9310, Acc: 0.2047\n"
     ]
    }
   ],
   "source": [
    "num_epochs = 10\n",
    "\n",
    "for epoch in range(1, num_epochs + 1):\n",
    "    tl, ta = run_epoch(train_loader, train=True)\n",
    "    sl, sa = run_epoch(test_loader,  train=False)  \n",
    "    print(f\"Epoch {epoch:02d} | \"\n",
    "          f\"Train Loss: {tl:.4f}, Acc: {ta:.4f} | \"\n",
    "          f\"Test  Loss: {sl:.4f}, Acc: {sa:.4f}\")\n",
    "\n"
   ]
  },
  {
   "cell_type": "markdown",
   "id": "9218ef6c",
   "metadata": {},
   "source": [
    "-------------------"
   ]
  },
  {
   "cell_type": "code",
   "execution_count": 43,
   "id": "71ac2709",
   "metadata": {},
   "outputs": [
    {
     "name": "stdout",
     "output_type": "stream",
     "text": [
      "Train labels: tensor([740, 626, 564, 754, 482])\n",
      "Test  labels: tensor([54, 58, 65, 62, 59])\n"
     ]
    }
   ],
   "source": [
    "import torch\n",
    "print(\"Train labels:\", torch.bincount(torch.tensor([y for _,y in train_ds])))\n",
    "print(\"Test  labels:\", torch.bincount(torch.tensor([y for _,y in test_ds])))\n",
    "\n"
   ]
  },
  {
   "cell_type": "markdown",
   "id": "c5378aec",
   "metadata": {},
   "source": [
    "-------"
   ]
  },
  {
   "cell_type": "markdown",
   "id": "29da482f",
   "metadata": {},
   "source": [
    "## Task 1.2b - mel spectogram"
   ]
  },
  {
   "cell_type": "code",
   "execution_count": 4,
   "id": "2d2f5a56",
   "metadata": {},
   "outputs": [
    {
     "name": "stdout",
     "output_type": "stream",
     "text": [
      "Device: mps\n"
     ]
    }
   ],
   "source": [
    "# Cell A: Imports & device\n",
    "import torch\n",
    "import torch.nn as nn\n",
    "import torch.optim as optim\n",
    "import torchaudio\n",
    "from torch.utils.data import Dataset, DataLoader\n",
    "from torchaudio.transforms import MelSpectrogram, AmplitudeToDB\n",
    "import os\n",
    "\n",
    "device = torch.device(\"mps\") if torch.backends.mps.is_available() else torch.device(\"cpu\")\n",
    "print(\"Device:\", device)\n"
   ]
  },
  {
   "cell_type": "code",
   "execution_count": 13,
   "id": "2ca254fe",
   "metadata": {},
   "outputs": [],
   "source": [
    "# Cell B: Log‐Mel transforms & DataLoaders\n",
    "mel_spec      = MelSpectrogram(sample_rate=16000, n_fft=400, hop_length=160, n_mels=80)\n",
    "db_transform  = AmplitudeToDB()\n",
    "\n",
    "class LogMelDataset(Dataset):\n",
    "    def __init__(self, data_dir, mel_spec, dbt, max_length=16000, num_classes=5):\n",
    "        self.mel, self.dbt = mel_spec, dbt\n",
    "        self.max_length   = max_length\n",
    "        self.files        = []\n",
    "        for root,_,fns in os.walk(data_dir):\n",
    "            for fn in sorted(fns):\n",
    "                if fn.lower().endswith('.wav'):\n",
    "                    label = int(fn[0]) - 1\n",
    "                    if 0 <= label < num_classes:\n",
    "                        self.files.append((os.path.join(root,fn), label))\n",
    "    def __len__(self):\n",
    "        return len(self.files)\n",
    "    def __getitem__(self, idx):\n",
    "        path,label = self.files[idx]\n",
    "        wav, sr    = torchaudio.load(path)\n",
    "        if sr!=16000:\n",
    "            wav = torchaudio.transforms.Resample(sr,16000)(wav)\n",
    "        wav = wav.mean(0,keepdim=True)\n",
    "        if wav.size(1) < self.max_length:\n",
    "            pad = self.max_length - wav.size(1)\n",
    "            wav = nn.functional.pad(wav,(0,pad))\n",
    "        else:\n",
    "            wav = wav[:,:self.max_length]\n",
    "        spec   = self.mel(wav)\n",
    "        logspec= self.dbt(spec)\n",
    "        logspec= (logspec - logspec.mean())/(logspec.std()+1e-5)\n",
    "        return logspec.to(device), torch.tensor(label, device=device)\n",
    "\n",
    "logmel_train_ds = LogMelDataset(\"Train\", mel_spec, db_transform)\n",
    "logmel_test_ds  = LogMelDataset(\"Test set\", mel_spec, db_transform)\n",
    "logmel_train_loader = DataLoader(logmel_train_ds, batch_size=32, shuffle=True)\n",
    "logmel_test_loader  = DataLoader(logmel_test_ds,  batch_size=32)\n",
    "\n",
    "\n",
    "\n",
    "# ─── Cell G: AugmentedLogMelDataset ─────────────────────────────────────\n",
    "import random\n",
    "class AugmentedLogMelDataset(LogMelDataset):\n",
    "    def __getitem__(self, idx):\n",
    "        # 1) Load & pad/truncate waveform (same as LogMelDataset)\n",
    "        wav, label = super(LogMelDataset, self).__getitem__(idx)  # gets [1,max_len]\n",
    "        \n",
    "        # 2) Time-shift ±10%\n",
    "        max_shift = int(0.1 * self.max_length)\n",
    "        off = random.randint(-max_shift, max_shift)\n",
    "        if off>0:\n",
    "            wav = torch.cat([wav[:,off:], torch.zeros(1,off,device=wav.device)], dim=1)\n",
    "        elif off<0:\n",
    "            wav = torch.cat([torch.zeros(1,-off,device=wav.device), wav[:,:off]],   dim=1)\n",
    "        \n",
    "        # 3) Add Gaussian noise (std=0.05)\n",
    "        wav = wav + torch.randn_like(wav) * 0.05\n",
    "        \n",
    "        # 4) Recompute log-mel\n",
    "        spec    = mel_spec(wav)\n",
    "        logspec = db_transform(spec)\n",
    "        logspec = (logspec - logspec.mean())/(logspec.std()+1e-5)\n",
    "        return logspec.to(device), label\n",
    "\n"
   ]
  },
  {
   "cell_type": "code",
   "execution_count": 15,
   "id": "2c43fd88",
   "metadata": {},
   "outputs": [],
   "source": [
    "# ─── Cell H: rebuild augmented loader & retrain ──────────────────────────\n",
    "aug_logmel_train_ds     = AugmentedLogMelDataset(\"Train\", mel_spec, db_transform)\n",
    "aug_logmel_train_loader = DataLoader(aug_logmel_train_ds, batch_size=32, shuffle=True)\n",
    "\n",
    "# then rerun your existing train loop (Cells D–F) but with\n",
    "#   run_logmel_epoch(aug_logmel_train_loader, True)\n",
    "# instead of the clean loader.\n"
   ]
  },
  {
   "cell_type": "code",
   "execution_count": 16,
   "id": "ad4464af",
   "metadata": {},
   "outputs": [],
   "source": [
    "# Cell C: Minimal Log-Mel CNN\n",
    "class LogMel_CNN_Min(nn.Module):\n",
    "    def __init__(self):\n",
    "        super().__init__()\n",
    "        self.conv1 = nn.Conv2d(1, 32, 3, padding=1)\n",
    "        self.conv2 = nn.Conv2d(32, 64, 3, padding=1)\n",
    "        self.conv3 = nn.Conv2d(64,128, 3, padding=1)\n",
    "        self.pool  = nn.MaxPool2d(2,2)\n",
    "        flat_size  = 128 * (80//8) * (100//8)  # 128*10*12=15360\n",
    "        self.fc1   = nn.Linear(flat_size, 256)\n",
    "        self.fc2   = nn.Linear(256, 5)\n",
    "    def forward(self, x):\n",
    "        x = self.pool(torch.relu(self.conv1(x)))\n",
    "        x = self.pool(torch.relu(self.conv2(x)))\n",
    "        x = self.pool(torch.relu(self.conv3(x)))\n",
    "        x = x.flatten(1)\n",
    "        x = torch.relu(self.fc1(x))\n",
    "        return self.fc2(x)\n",
    "\n",
    "logmel_model = LogMel_CNN_Min().to(device)\n",
    "\n",
    "\n",
    "\n",
    "# ─── Cell I: Deeper LogMel CNN ───────────────────────────────────────────\n",
    "class LogMel_CNN_Deep(nn.Module):\n",
    "    def __init__(self, num_classes=5):\n",
    "        super().__init__()\n",
    "        def block(in_ch, out_ch):\n",
    "            return nn.Sequential(\n",
    "                nn.Conv2d(in_ch, out_ch, 3, padding=1),\n",
    "                nn.BatchNorm2d(out_ch), nn.ReLU(),\n",
    "                nn.Conv2d(out_ch, out_ch, 3, padding=1),\n",
    "                nn.BatchNorm2d(out_ch), nn.ReLU(),\n",
    "                nn.MaxPool2d(2,2)\n",
    "            )\n",
    "        self.b1 = block(1,  32)  # → [B,32,40,50]\n",
    "        self.b2 = block(32, 64)  # → [B,64,20,25]\n",
    "        self.b3 = block(64,128)  # → [B,128,10,12]\n",
    "        flat = 128 * 10 * 12    # 15360\n",
    "        self.fc = nn.Sequential(\n",
    "            nn.Flatten(),\n",
    "            nn.Linear(flat, 512), nn.ReLU(),\n",
    "            nn.Dropout(0.5),\n",
    "            nn.Linear(512, num_classes)\n",
    "        )\n",
    "    def forward(self, x):\n",
    "        x = self.b1(x)\n",
    "        x = self.b2(x)\n",
    "        x = self.b3(x)\n",
    "        return self.fc(x)\n",
    "\n",
    "logmel_model = LogMel_CNN_Deep().to(device)\n",
    "\n"
   ]
  },
  {
   "cell_type": "code",
   "execution_count": 17,
   "id": "3427f0fd",
   "metadata": {},
   "outputs": [
    {
     "name": "stdout",
     "output_type": "stream",
     "text": [
      "[LogMel] Epoch 01 | LR 1.0e-03 | Train Acc: 0.246 | Test Acc: 0.191\n",
      "[LogMel] Epoch 02 | LR 1.0e-03 | Train Acc: 0.269 | Test Acc: 0.191\n",
      "[LogMel] Epoch 03 | LR 1.0e-03 | Train Acc: 0.321 | Test Acc: 0.198\n",
      "[LogMel] Epoch 04 | LR 1.0e-03 | Train Acc: 0.476 | Test Acc: 0.205\n",
      "[LogMel] Epoch 05 | LR 5.0e-04 | Train Acc: 0.595 | Test Acc: 0.255\n",
      "[LogMel] Epoch 06 | LR 5.0e-04 | Train Acc: 0.686 | Test Acc: 0.238\n",
      "[LogMel] Epoch 07 | LR 5.0e-04 | Train Acc: 0.723 | Test Acc: 0.228\n",
      "[LogMel] Epoch 08 | LR 5.0e-04 | Train Acc: 0.746 | Test Acc: 0.255\n",
      "[LogMel] Epoch 09 | LR 5.0e-04 | Train Acc: 0.749 | Test Acc: 0.235\n",
      "[LogMel] Epoch 10 | LR 2.5e-04 | Train Acc: 0.775 | Test Acc: 0.255\n"
     ]
    }
   ],
   "source": [
    "# Cell D: Loss, Optimizer & Scheduler\n",
    "import torch.nn as nn\n",
    "import torch.optim as optim\n",
    "\n",
    "criterion        = nn.CrossEntropyLoss()\n",
    "logmel_optimizer = optim.Adam(\n",
    "    logmel_model.parameters(),\n",
    "    lr=1e-3,\n",
    "    weight_decay=1e-4\n",
    ")\n",
    "scheduler_lm     = optim.lr_scheduler.StepLR(\n",
    "    logmel_optimizer,\n",
    "    step_size=5,\n",
    "    gamma=0.5\n",
    ")\n",
    "\n",
    "# Cell E: run_logmel_epoch Function\n",
    "def run_logmel_epoch(loader, train=True):\n",
    "    model = logmel_model\n",
    "    if train:\n",
    "        model.train()\n",
    "    else:\n",
    "        model.eval()\n",
    "    total_loss = correct = total = 0\n",
    "    with torch.set_grad_enabled(train):\n",
    "        for X, y in loader:\n",
    "            logits = model(X)\n",
    "            loss   = criterion(logits, y)\n",
    "            if train:\n",
    "                logmel_optimizer.zero_grad()\n",
    "                loss.backward()\n",
    "                logmel_optimizer.step()\n",
    "            total_loss += loss.item() * X.size(0)\n",
    "            preds      = logits.argmax(dim=1)\n",
    "            correct   += (preds == y).sum().item()\n",
    "            total     += X.size(0)\n",
    "    return total_loss/total, correct/total\n",
    "\n",
    "# Cell F: Training Loop (Log-Mel CNN)\n",
    "num_epochs = 10\n",
    "for epoch in range(1, num_epochs + 1):\n",
    "    tr_loss, tr_acc = run_logmel_epoch(logmel_train_loader, train=True)\n",
    "    scheduler_lm.step()  # step the learning rate\n",
    "    te_loss, te_acc = run_logmel_epoch(logmel_test_loader, train=False)\n",
    "    print(f\"[LogMel] Epoch {epoch:02d} | \"\n",
    "          f\"LR {scheduler_lm.get_last_lr()[0]:.1e} | \"\n",
    "          f\"Train Acc: {tr_acc:.3f} | Test Acc: {te_acc:.3f}\")\n"
   ]
  },
  {
   "cell_type": "code",
   "execution_count": 10,
   "id": "d7dab8b8",
   "metadata": {},
   "outputs": [],
   "source": [
    "# Cell D (part 1): Loss & Optimizer\n",
    "import torch.nn as nn\n",
    "import torch.optim as optim\n",
    "\n",
    "criterion = nn.CrossEntropyLoss()\n",
    "logmel_optimizer = optim.Adam(logmel_model.parameters(), lr=1e-3, weight_decay=1e-4)\n"
   ]
  },
  {
   "cell_type": "code",
   "execution_count": 11,
   "id": "38337a3e",
   "metadata": {},
   "outputs": [],
   "source": [
    "# Cell D (part 2): Scheduler\n",
    "scheduler_lm = torch.optim.lr_scheduler.StepLR(logmel_optimizer, step_size=5, gamma=0.5)\n"
   ]
  },
  {
   "cell_type": "code",
   "execution_count": 12,
   "id": "72843925",
   "metadata": {},
   "outputs": [
    {
     "name": "stdout",
     "output_type": "stream",
     "text": [
      "[LogMel] Epoch 01 | LR 1.0e-03 | Train Acc: 0.915 | Test Acc: 0.238\n",
      "[LogMel] Epoch 02 | LR 1.0e-03 | Train Acc: 0.946 | Test Acc: 0.245\n",
      "[LogMel] Epoch 03 | LR 1.0e-03 | Train Acc: 0.957 | Test Acc: 0.248\n",
      "[LogMel] Epoch 04 | LR 1.0e-03 | Train Acc: 0.965 | Test Acc: 0.232\n",
      "[LogMel] Epoch 05 | LR 5.0e-04 | Train Acc: 0.952 | Test Acc: 0.225\n",
      "[LogMel] Epoch 06 | LR 5.0e-04 | Train Acc: 0.984 | Test Acc: 0.232\n",
      "[LogMel] Epoch 07 | LR 5.0e-04 | Train Acc: 0.993 | Test Acc: 0.228\n",
      "[LogMel] Epoch 08 | LR 5.0e-04 | Train Acc: 0.996 | Test Acc: 0.228\n",
      "[LogMel] Epoch 09 | LR 5.0e-04 | Train Acc: 0.998 | Test Acc: 0.218\n",
      "[LogMel] Epoch 10 | LR 2.5e-04 | Train Acc: 1.000 | Test Acc: 0.235\n"
     ]
    }
   ],
   "source": [
    "# Cell E & F: run_logmel_epoch & Training Loop\n",
    "def run_logmel_epoch(loader, train=True):\n",
    "    model = logmel_model\n",
    "    model.train() if train else model.eval()\n",
    "    total_loss = correct = total = 0\n",
    "    for X, y in loader:\n",
    "        logits = model(X)\n",
    "        loss   = criterion(logits, y)\n",
    "        if train:\n",
    "            logmel_optimizer.zero_grad()\n",
    "            loss.backward()\n",
    "            logmel_optimizer.step()\n",
    "        total_loss += loss.item() * X.size(0)\n",
    "        correct    += (logits.argmax(1) == y).sum().item()\n",
    "        total      += X.size(0)\n",
    "    return total_loss/total, correct/total\n",
    "\n",
    "for epoch in range(1, 11):\n",
    "    tr_loss, tr_acc = run_logmel_epoch(logmel_train_loader, True)\n",
    "    scheduler_lm.step()\n",
    "    te_loss, te_acc = run_logmel_epoch(logmel_test_loader, False)\n",
    "    print(f\"[LogMel] Epoch {epoch:02d} | \"\n",
    "          f\"LR {scheduler_lm.get_last_lr()[0]:.1e} | \"\n",
    "          f\"Train Acc: {tr_acc:.3f} | Test Acc: {te_acc:.3f}\")\n"
   ]
  },
  {
   "cell_type": "markdown",
   "id": "5146d7fe",
   "metadata": {},
   "source": [
    "-----------"
   ]
  },
  {
   "cell_type": "markdown",
   "id": "cda5ac0a",
   "metadata": {},
   "source": [
    "## Task 1.2b - bad version\n"
   ]
  },
  {
   "cell_type": "markdown",
   "id": "03310379",
   "metadata": {},
   "source": [
    "### Importing and assigning transformation from torchaudio"
   ]
  },
  {
   "cell_type": "code",
   "execution_count": 71,
   "id": "573f6776",
   "metadata": {},
   "outputs": [],
   "source": [
    "import torchaudio.transforms as T\n",
    "\n",
    "\n",
    "mfcc_transform = T.MFCC(\n",
    "    sample_rate=16000,\n",
    "    n_mfcc=40,            # common choice: 13–40 coefficients\n",
    "    melkwargs={\n",
    "        \"n_fft\": 400,      # 25 ms window @16 kHz\n",
    "        \"hop_length\": 160, # 10 ms hop\n",
    "        \"n_mels\": 64\n",
    "    }\n",
    ")\n"
   ]
  },
  {
   "cell_type": "markdown",
   "id": "a35bd581",
   "metadata": {},
   "source": [
    "### New MFCCdataset class (like the AccentDataset class, but now for MFCC)"
   ]
  },
  {
   "cell_type": "code",
   "execution_count": 72,
   "id": "ebde6196",
   "metadata": {},
   "outputs": [],
   "source": [
    "class MFCCDataset(Dataset):\n",
    "    def __init__(\n",
    "        self,\n",
    "        data_dir,\n",
    "        transform,\n",
    "        num_classes=5,\n",
    "        sample_rate=16000,\n",
    "        max_length=16000\n",
    "    ):\n",
    "        self.transform    = transform\n",
    "        self.num_classes  = num_classes\n",
    "        self.sample_rate  = sample_rate\n",
    "        self.max_length   = max_length\n",
    "        self.files        = []\n",
    "        for root, _, fns in os.walk(data_dir):\n",
    "            for fn in sorted(fns):\n",
    "                if not fn.lower().endswith('.wav'):\n",
    "                    continue\n",
    "                lbl = int(fn[0]) - 1\n",
    "                if 0 <= lbl < num_classes:\n",
    "                    self.files.append((os.path.join(root, fn), lbl))\n",
    "\n",
    "    def __len__(self):\n",
    "        return len(self.files)\n",
    "\n",
    "    def __getitem__(self, idx):\n",
    "        path, label = self.files[idx]\n",
    "        wav, sr = torchaudio.load(path)\n",
    "        # resample if needed\n",
    "        if sr != self.sample_rate:\n",
    "            wav = T.Resample(sr, self.sample_rate)(wav)\n",
    "        wav = wav.mean(dim=0, keepdim=True)      # mono\n",
    "\n",
    "        # pad or truncate waveform → fixed max_length\n",
    "        if wav.size(1) < self.max_length:\n",
    "            pad = self.max_length - wav.size(1)\n",
    "            wav = nn.functional.pad(wav, (0, pad))\n",
    "        else:\n",
    "            wav = wav[:, :self.max_length]\n",
    "\n",
    "        # now transform to MFCC → all outputs share same T\n",
    "        mfcc = self.transform(wav)               # [1, n_mfcc, T_fixed]\n",
    "        # per–feature normalization\n",
    "        mfcc = (mfcc - mfcc.mean(dim=-1,keepdim=True)) / (\n",
    "               mfcc.std(dim=-1, keepdim=True) + 1e-5)\n",
    "\n",
    "        return mfcc.to(device), torch.tensor(label, device=device)\n"
   ]
  },
  {
   "cell_type": "markdown",
   "id": "ec1b0ac7",
   "metadata": {},
   "source": [
    "### MFCC Dataloaders\n"
   ]
  },
  {
   "cell_type": "code",
   "execution_count": 74,
   "id": "52ad51e6",
   "metadata": {},
   "outputs": [],
   "source": [
    "\n",
    "mfcc_train_ds = MFCCDataset(\n",
    "    'Train',\n",
    "    transform=mfcc_transform,\n",
    "    num_classes=5,\n",
    "    max_length=16000\n",
    ")\n",
    "mfcc_test_ds = MFCCDataset(\n",
    "    'Test set',\n",
    "    transform=mfcc_transform,\n",
    "    num_classes=5,\n",
    "    max_length=16000\n",
    ")\n",
    "\n",
    "mfcc_train_loader = DataLoader(\n",
    "    mfcc_train_ds,\n",
    "    batch_size=32,\n",
    "    shuffle=True\n",
    ")\n",
    "mfcc_test_loader = DataLoader(\n",
    "    mfcc_test_ds,\n",
    "    batch_size=32\n",
    ")\n",
    "\n"
   ]
  },
  {
   "cell_type": "markdown",
   "id": "500986f5",
   "metadata": {},
   "source": [
    "### 2D CNN"
   ]
  },
  {
   "cell_type": "code",
   "execution_count": 79,
   "id": "c5fd0778",
   "metadata": {},
   "outputs": [],
   "source": [
    "import math\n",
    "\n",
    "class MFCC_CNN(nn.Module):\n",
    "    def __init__(self, num_classes=5, n_mfcc=40, hop_length=160, max_length=16000):\n",
    "        super().__init__()\n",
    "        # 2×2 pooling twice on both axes\n",
    "        self.features = nn.Sequential(\n",
    "            nn.Conv2d(1, 16, kernel_size=3, padding=1),\n",
    "            nn.BatchNorm2d(16), nn.ReLU(),\n",
    "            nn.MaxPool2d((2,2)),\n",
    "            nn.Conv2d(16, 32, kernel_size=3, padding=1),\n",
    "            nn.BatchNorm2d(32), nn.ReLU(),\n",
    "            nn.MaxPool2d((2,2)),\n",
    "            # output shape: [B, 32, freq_dim=10, time_dim=25]\n",
    "        )\n",
    "        freq_dim = n_mfcc // 4             # 40//4=10\n",
    "        time_steps = math.ceil(max_length/hop_length) // 4  # 100//4=25\n",
    "        flat_size = 32 * freq_dim * time_steps  # 32*10*25=8000\n",
    "\n",
    "        self.classifier = nn.Sequential(\n",
    "            nn.Flatten(),\n",
    "            nn.Linear(flat_size, 128),\n",
    "            nn.ReLU(),\n",
    "            nn.Dropout(0.5),\n",
    "            nn.Linear(128, num_classes),\n",
    "        )\n",
    "\n",
    "    def forward(self, x):\n",
    "        x = self.features(x)\n",
    "        return self.classifier(x)\n",
    "\n",
    "# re-instantiate your MFCC model\n",
    "mfcc_model = MFCC_CNN(num_classes=5).to(device)\n"
   ]
  },
  {
   "cell_type": "markdown",
   "id": "46ab1f42",
   "metadata": {},
   "source": [
    "### Train/test loop"
   ]
  },
  {
   "cell_type": "code",
   "execution_count": 80,
   "id": "d8f9b3ab",
   "metadata": {},
   "outputs": [
    {
     "name": "stdout",
     "output_type": "stream",
     "text": [
      "[MFCC] Epoch 01 | Train Acc: 0.2277 | Test Acc: 0.2081\n",
      "[MFCC] Epoch 02 | Train Acc: 0.2401 | Test Acc: 0.2114\n",
      "[MFCC] Epoch 03 | Train Acc: 0.2394 | Test Acc: 0.2081\n",
      "[MFCC] Epoch 04 | Train Acc: 0.2527 | Test Acc: 0.2047\n",
      "[MFCC] Epoch 05 | Train Acc: 0.2865 | Test Acc: 0.2047\n",
      "[MFCC] Epoch 06 | Train Acc: 0.3013 | Test Acc: 0.2114\n",
      "[MFCC] Epoch 07 | Train Acc: 0.3092 | Test Acc: 0.2215\n",
      "[MFCC] Epoch 08 | Train Acc: 0.2944 | Test Acc: 0.1980\n",
      "[MFCC] Epoch 09 | Train Acc: 0.3159 | Test Acc: 0.2114\n",
      "[MFCC] Epoch 10 | Train Acc: 0.3099 | Test Acc: 0.2215\n"
     ]
    }
   ],
   "source": [
    "\n",
    "criterion    = nn.CrossEntropyLoss()\n",
    "mfcc_optimizer = optim.Adam(mfcc_model.parameters(), lr=1e-3)\n",
    "\n",
    "def run_mfcc_epoch(loader, train=True):\n",
    "    model = mfcc_model\n",
    "    model.train() if train else model.eval()\n",
    "    total_loss = correct = total = 0\n",
    "    with torch.set_grad_enabled(train):\n",
    "        for X, y in loader:\n",
    "            logits = model(X)\n",
    "            loss   = criterion(logits, y)\n",
    "            if train:\n",
    "                mfcc_optimizer.zero_grad()\n",
    "                loss.backward()\n",
    "                mfcc_optimizer.step()\n",
    "            total_loss += loss.item() * X.size(0)\n",
    "            correct    += (logits.argmax(1) == y).sum().item()\n",
    "            total      += X.size(0)\n",
    "    return total_loss/total, correct/total\n",
    "\n",
    "for epoch in range(1, 11):\n",
    "    tr_l, tr_a = run_mfcc_epoch(mfcc_train_loader, train=True)\n",
    "    te_l, te_a = run_mfcc_epoch(mfcc_test_loader,  train=False)\n",
    "    print(f\"[MFCC] Epoch {epoch:02d} | Train Acc: {tr_a:.4f} | Test Acc: {te_a:.4f}\")\n"
   ]
  },
  {
   "cell_type": "code",
   "execution_count": 81,
   "id": "2634daf0",
   "metadata": {},
   "outputs": [],
   "source": [
    "# Cell 11: rebuild optimizer & scheduler for MFCC model\n",
    "mfcc_optimizer = optim.Adam(\n",
    "    mfcc_model.parameters(),\n",
    "    lr=1e-3,\n",
    "    weight_decay=1e-4\n",
    ")\n",
    "scheduler = optim.lr_scheduler.StepLR(\n",
    "    mfcc_optimizer,\n",
    "    step_size=5,\n",
    "    gamma=0.5\n",
    ")\n"
   ]
  },
  {
   "cell_type": "code",
   "execution_count": 82,
   "id": "0edef804",
   "metadata": {},
   "outputs": [
    {
     "name": "stdout",
     "output_type": "stream",
     "text": [
      "[Sched] E01 | LR 1.0e-03 | Train Acc 0.320 | Test Acc 0.228\n",
      "[Sched] E02 | LR 1.0e-03 | Train Acc 0.358 | Test Acc 0.248\n",
      "[Sched] E03 | LR 1.0e-03 | Train Acc 0.340 | Test Acc 0.218\n",
      "[Sched] E04 | LR 1.0e-03 | Train Acc 0.373 | Test Acc 0.225\n",
      "[Sched] E05 | LR 5.0e-04 | Train Acc 0.399 | Test Acc 0.198\n",
      "[Sched] E06 | LR 5.0e-04 | Train Acc 0.399 | Test Acc 0.221\n",
      "[Sched] E07 | LR 5.0e-04 | Train Acc 0.436 | Test Acc 0.255\n",
      "[Sched] E08 | LR 5.0e-04 | Train Acc 0.425 | Test Acc 0.238\n",
      "[Sched] E09 | LR 5.0e-04 | Train Acc 0.440 | Test Acc 0.248\n",
      "[Sched] E10 | LR 2.5e-04 | Train Acc 0.462 | Test Acc 0.248\n"
     ]
    }
   ],
   "source": [
    "# Cell 12: train for 10 epochs, stepping the LR scheduler each epoch\n",
    "for epoch in range(1, 11):\n",
    "    tr_l, tr_a = run_mfcc_epoch(mfcc_train_loader, train=True)\n",
    "    scheduler.step()   # decay LR if needed\n",
    "    te_l, te_a = run_mfcc_epoch(mfcc_test_loader, train=False)\n",
    "    print(f\"[Sched] E{epoch:02d} | LR {scheduler.get_last_lr()[0]:.1e} | \"\n",
    "          f\"Train Acc {tr_a:.3f} | Test Acc {te_a:.3f}\")\n"
   ]
  },
  {
   "cell_type": "code",
   "execution_count": 83,
   "id": "6aec6035",
   "metadata": {},
   "outputs": [
    {
     "name": "stdout",
     "output_type": "stream",
     "text": [
      "Ablation results (Test Acc): {'do=0.0_bn=False': 0.26174496644295303, 'do=0.0_bn=True': 0.24161073825503357, 'do=0.3_bn=False': 0.2516778523489933, 'do=0.3_bn=True': 0.2348993288590604, 'do=0.5_bn=False': 0.22483221476510068, 'do=0.5_bn=True': 0.21140939597315436}\n"
     ]
    }
   ],
   "source": [
    "# Cell 13: quick ablation over dropout rates and BN on/off\n",
    "from copy import deepcopy\n",
    "\n",
    "def ablate(dropout, use_bn):\n",
    "    m = deepcopy(mfcc_model)\n",
    "    # adjust dropout & batchnorm modules\n",
    "    for module in m.modules():\n",
    "        if isinstance(module, nn.Dropout):\n",
    "            module.p = dropout\n",
    "        if isinstance(module, nn.BatchNorm2d) and not use_bn:\n",
    "            # replace BN with identity\n",
    "            setattr(module, \"forward\", lambda x: x)\n",
    "    opt = optim.Adam(m.parameters(), lr=1e-3, weight_decay=1e-4)\n",
    "    for _ in range(5):\n",
    "        _ = run_mfcc_epoch(mfcc_train_loader, train=True)\n",
    "    _, acc = run_mfcc_epoch(mfcc_test_loader, train=False)\n",
    "    return acc\n",
    "\n",
    "results = {\n",
    "    f\"do={d}_bn={bn}\": ablate(d, bn)\n",
    "    for d in [0.0, 0.3, 0.5]\n",
    "    for bn in [False, True]\n",
    "}\n",
    "print(\"Ablation results (Test Acc):\", results)\n"
   ]
  },
  {
   "cell_type": "markdown",
   "id": "7375990a",
   "metadata": {},
   "source": [
    "### Augmenting on previous MFCC"
   ]
  },
  {
   "cell_type": "code",
   "execution_count": null,
   "id": "d8eb820e",
   "metadata": {},
   "outputs": [],
   "source": [
    "# Cell 8‑c: Build augmented MFCC train loader (replace original mfcc_train_loader)\n",
    "import random\n",
    "\n",
    "class AugmentedMFCCDataset(MFCCDataset):\n",
    "    def __getitem__(self, idx):\n",
    "        # load fixed‑length waveform & label\n",
    "        wav, label = super(MFCCDataset, self).__getitem__(idx)  # [1, max_length]\n",
    "        # random time‑shift ±10%\n",
    "        max_shift = int(0.1 * self.max_length)\n",
    "        offset = random.randint(-max_shift, max_shift)\n",
    "        if offset > 0:\n",
    "            wav = torch.cat([wav[:, offset:], torch.zeros(1, offset, device=wav.device)], dim=1)\n",
    "        elif offset < 0:\n",
    "            wav = torch.cat([torch.zeros(1, -offset, device=wav.device), wav[:, :offset]], dim=1)\n",
    "        # additive Gaussian noise (SNR ~20dB)\n",
    "        noise = torch.randn_like(wav) * 0.05\n",
    "        wav = wav + noise\n",
    "        # recompute MFCC\n",
    "        mfcc = mfcc_transform(wav)\n",
    "        mfcc = (mfcc - mfcc.mean(dim=-1, keepdim=True)) / (mfcc.std(dim=-1, keepdim=True) + 1e-5)\n",
    "        return mfcc.to(device), label\n",
    "\n",
    "aug_train_ds = AugmentedMFCCDataset(\n",
    "    'Train',\n",
    "    transform=mfcc_transform,\n",
    "    num_classes=5,\n",
    "    max_length=16000\n",
    ")\n",
    "aug_train_loader = DataLoader(aug_train_ds, batch_size=32, shuffle=True)\n",
    "\n",
    "\n",
    "\n"
   ]
  },
  {
   "cell_type": "code",
   "execution_count": 86,
   "id": "600a0661",
   "metadata": {},
   "outputs": [
    {
     "name": "stdout",
     "output_type": "stream",
     "text": [
      "[Sched] E01 | LR 2.5e-04 | Train Acc 0.597 | Test Acc 0.255\n"
     ]
    },
    {
     "ename": "KeyboardInterrupt",
     "evalue": "",
     "output_type": "error",
     "traceback": [
      "\u001b[0;31m---------------------------------------------------------------------------\u001b[0m",
      "\u001b[0;31mKeyboardInterrupt\u001b[0m                         Traceback (most recent call last)",
      "Cell \u001b[0;32mIn[86], line 3\u001b[0m\n\u001b[1;32m      1\u001b[0m \u001b[38;5;66;03m# Cell 12: train for 10 epochs, stepping the LR scheduler each epoch\u001b[39;00m\n\u001b[1;32m      2\u001b[0m \u001b[38;5;28;01mfor\u001b[39;00m epoch \u001b[38;5;129;01min\u001b[39;00m \u001b[38;5;28mrange\u001b[39m(\u001b[38;5;241m1\u001b[39m, \u001b[38;5;241m11\u001b[39m):\n\u001b[0;32m----> 3\u001b[0m     tr_l, tr_a \u001b[38;5;241m=\u001b[39m run_mfcc_epoch(mfcc_train_loader, train\u001b[38;5;241m=\u001b[39m\u001b[38;5;28;01mTrue\u001b[39;00m)\n\u001b[1;32m      4\u001b[0m     scheduler\u001b[38;5;241m.\u001b[39mstep()   \u001b[38;5;66;03m# decay LR if needed\u001b[39;00m\n\u001b[1;32m      5\u001b[0m     te_l, te_a \u001b[38;5;241m=\u001b[39m run_mfcc_epoch(mfcc_test_loader, train\u001b[38;5;241m=\u001b[39m\u001b[38;5;28;01mFalse\u001b[39;00m)\n",
      "Cell \u001b[0;32mIn[80], line 9\u001b[0m, in \u001b[0;36mrun_mfcc_epoch\u001b[0;34m(loader, train)\u001b[0m\n\u001b[1;32m      7\u001b[0m total_loss \u001b[38;5;241m=\u001b[39m correct \u001b[38;5;241m=\u001b[39m total \u001b[38;5;241m=\u001b[39m \u001b[38;5;241m0\u001b[39m\n\u001b[1;32m      8\u001b[0m \u001b[38;5;28;01mwith\u001b[39;00m torch\u001b[38;5;241m.\u001b[39mset_grad_enabled(train):\n\u001b[0;32m----> 9\u001b[0m     \u001b[38;5;28;01mfor\u001b[39;00m X, y \u001b[38;5;129;01min\u001b[39;00m loader:\n\u001b[1;32m     10\u001b[0m         logits \u001b[38;5;241m=\u001b[39m model(X)\n\u001b[1;32m     11\u001b[0m         loss   \u001b[38;5;241m=\u001b[39m criterion(logits, y)\n",
      "File \u001b[0;32m~/anaconda3/lib/python3.11/site-packages/torch/utils/data/dataloader.py:733\u001b[0m, in \u001b[0;36m_BaseDataLoaderIter.__next__\u001b[0;34m(self)\u001b[0m\n\u001b[1;32m    730\u001b[0m \u001b[38;5;28;01mif\u001b[39;00m \u001b[38;5;28mself\u001b[39m\u001b[38;5;241m.\u001b[39m_sampler_iter \u001b[38;5;129;01mis\u001b[39;00m \u001b[38;5;28;01mNone\u001b[39;00m:\n\u001b[1;32m    731\u001b[0m     \u001b[38;5;66;03m# TODO(https://github.com/pytorch/pytorch/issues/76750)\u001b[39;00m\n\u001b[1;32m    732\u001b[0m     \u001b[38;5;28mself\u001b[39m\u001b[38;5;241m.\u001b[39m_reset()  \u001b[38;5;66;03m# type: ignore[call-arg]\u001b[39;00m\n\u001b[0;32m--> 733\u001b[0m data \u001b[38;5;241m=\u001b[39m \u001b[38;5;28mself\u001b[39m\u001b[38;5;241m.\u001b[39m_next_data()\n\u001b[1;32m    734\u001b[0m \u001b[38;5;28mself\u001b[39m\u001b[38;5;241m.\u001b[39m_num_yielded \u001b[38;5;241m+\u001b[39m\u001b[38;5;241m=\u001b[39m \u001b[38;5;241m1\u001b[39m\n\u001b[1;32m    735\u001b[0m \u001b[38;5;28;01mif\u001b[39;00m (\n\u001b[1;32m    736\u001b[0m     \u001b[38;5;28mself\u001b[39m\u001b[38;5;241m.\u001b[39m_dataset_kind \u001b[38;5;241m==\u001b[39m _DatasetKind\u001b[38;5;241m.\u001b[39mIterable\n\u001b[1;32m    737\u001b[0m     \u001b[38;5;129;01mand\u001b[39;00m \u001b[38;5;28mself\u001b[39m\u001b[38;5;241m.\u001b[39m_IterableDataset_len_called \u001b[38;5;129;01mis\u001b[39;00m \u001b[38;5;129;01mnot\u001b[39;00m \u001b[38;5;28;01mNone\u001b[39;00m\n\u001b[1;32m    738\u001b[0m     \u001b[38;5;129;01mand\u001b[39;00m \u001b[38;5;28mself\u001b[39m\u001b[38;5;241m.\u001b[39m_num_yielded \u001b[38;5;241m>\u001b[39m \u001b[38;5;28mself\u001b[39m\u001b[38;5;241m.\u001b[39m_IterableDataset_len_called\n\u001b[1;32m    739\u001b[0m ):\n",
      "File \u001b[0;32m~/anaconda3/lib/python3.11/site-packages/torch/utils/data/dataloader.py:789\u001b[0m, in \u001b[0;36m_SingleProcessDataLoaderIter._next_data\u001b[0;34m(self)\u001b[0m\n\u001b[1;32m    787\u001b[0m \u001b[38;5;28;01mdef\u001b[39;00m \u001b[38;5;21m_next_data\u001b[39m(\u001b[38;5;28mself\u001b[39m):\n\u001b[1;32m    788\u001b[0m     index \u001b[38;5;241m=\u001b[39m \u001b[38;5;28mself\u001b[39m\u001b[38;5;241m.\u001b[39m_next_index()  \u001b[38;5;66;03m# may raise StopIteration\u001b[39;00m\n\u001b[0;32m--> 789\u001b[0m     data \u001b[38;5;241m=\u001b[39m \u001b[38;5;28mself\u001b[39m\u001b[38;5;241m.\u001b[39m_dataset_fetcher\u001b[38;5;241m.\u001b[39mfetch(index)  \u001b[38;5;66;03m# may raise StopIteration\u001b[39;00m\n\u001b[1;32m    790\u001b[0m     \u001b[38;5;28;01mif\u001b[39;00m \u001b[38;5;28mself\u001b[39m\u001b[38;5;241m.\u001b[39m_pin_memory:\n\u001b[1;32m    791\u001b[0m         data \u001b[38;5;241m=\u001b[39m _utils\u001b[38;5;241m.\u001b[39mpin_memory\u001b[38;5;241m.\u001b[39mpin_memory(data, \u001b[38;5;28mself\u001b[39m\u001b[38;5;241m.\u001b[39m_pin_memory_device)\n",
      "File \u001b[0;32m~/anaconda3/lib/python3.11/site-packages/torch/utils/data/_utils/fetch.py:52\u001b[0m, in \u001b[0;36m_MapDatasetFetcher.fetch\u001b[0;34m(self, possibly_batched_index)\u001b[0m\n\u001b[1;32m     50\u001b[0m         data \u001b[38;5;241m=\u001b[39m \u001b[38;5;28mself\u001b[39m\u001b[38;5;241m.\u001b[39mdataset\u001b[38;5;241m.\u001b[39m__getitems__(possibly_batched_index)\n\u001b[1;32m     51\u001b[0m     \u001b[38;5;28;01melse\u001b[39;00m:\n\u001b[0;32m---> 52\u001b[0m         data \u001b[38;5;241m=\u001b[39m [\u001b[38;5;28mself\u001b[39m\u001b[38;5;241m.\u001b[39mdataset[idx] \u001b[38;5;28;01mfor\u001b[39;00m idx \u001b[38;5;129;01min\u001b[39;00m possibly_batched_index]\n\u001b[1;32m     53\u001b[0m \u001b[38;5;28;01melse\u001b[39;00m:\n\u001b[1;32m     54\u001b[0m     data \u001b[38;5;241m=\u001b[39m \u001b[38;5;28mself\u001b[39m\u001b[38;5;241m.\u001b[39mdataset[possibly_batched_index]\n",
      "File \u001b[0;32m~/anaconda3/lib/python3.11/site-packages/torch/utils/data/_utils/fetch.py:52\u001b[0m, in \u001b[0;36m<listcomp>\u001b[0;34m(.0)\u001b[0m\n\u001b[1;32m     50\u001b[0m         data \u001b[38;5;241m=\u001b[39m \u001b[38;5;28mself\u001b[39m\u001b[38;5;241m.\u001b[39mdataset\u001b[38;5;241m.\u001b[39m__getitems__(possibly_batched_index)\n\u001b[1;32m     51\u001b[0m     \u001b[38;5;28;01melse\u001b[39;00m:\n\u001b[0;32m---> 52\u001b[0m         data \u001b[38;5;241m=\u001b[39m [\u001b[38;5;28mself\u001b[39m\u001b[38;5;241m.\u001b[39mdataset[idx] \u001b[38;5;28;01mfor\u001b[39;00m idx \u001b[38;5;129;01min\u001b[39;00m possibly_batched_index]\n\u001b[1;32m     53\u001b[0m \u001b[38;5;28;01melse\u001b[39;00m:\n\u001b[1;32m     54\u001b[0m     data \u001b[38;5;241m=\u001b[39m \u001b[38;5;28mself\u001b[39m\u001b[38;5;241m.\u001b[39mdataset[possibly_batched_index]\n",
      "Cell \u001b[0;32mIn[72], line 42\u001b[0m, in \u001b[0;36mMFCCDataset.__getitem__\u001b[0;34m(self, idx)\u001b[0m\n\u001b[1;32m     39\u001b[0m     wav \u001b[38;5;241m=\u001b[39m wav[:, :\u001b[38;5;28mself\u001b[39m\u001b[38;5;241m.\u001b[39mmax_length]\n\u001b[1;32m     41\u001b[0m \u001b[38;5;66;03m# now transform to MFCC → all outputs share same T\u001b[39;00m\n\u001b[0;32m---> 42\u001b[0m mfcc \u001b[38;5;241m=\u001b[39m \u001b[38;5;28mself\u001b[39m\u001b[38;5;241m.\u001b[39mtransform(wav)               \u001b[38;5;66;03m# [1, n_mfcc, T_fixed]\u001b[39;00m\n\u001b[1;32m     43\u001b[0m \u001b[38;5;66;03m# per–feature normalization\u001b[39;00m\n\u001b[1;32m     44\u001b[0m mfcc \u001b[38;5;241m=\u001b[39m (mfcc \u001b[38;5;241m-\u001b[39m mfcc\u001b[38;5;241m.\u001b[39mmean(dim\u001b[38;5;241m=\u001b[39m\u001b[38;5;241m-\u001b[39m\u001b[38;5;241m1\u001b[39m,keepdim\u001b[38;5;241m=\u001b[39m\u001b[38;5;28;01mTrue\u001b[39;00m)) \u001b[38;5;241m/\u001b[39m (\n\u001b[1;32m     45\u001b[0m        mfcc\u001b[38;5;241m.\u001b[39mstd(dim\u001b[38;5;241m=\u001b[39m\u001b[38;5;241m-\u001b[39m\u001b[38;5;241m1\u001b[39m, keepdim\u001b[38;5;241m=\u001b[39m\u001b[38;5;28;01mTrue\u001b[39;00m) \u001b[38;5;241m+\u001b[39m \u001b[38;5;241m1e-5\u001b[39m)\n",
      "File \u001b[0;32m~/anaconda3/lib/python3.11/site-packages/torch/nn/modules/module.py:1751\u001b[0m, in \u001b[0;36mModule._wrapped_call_impl\u001b[0;34m(self, *args, **kwargs)\u001b[0m\n\u001b[1;32m   1749\u001b[0m     \u001b[38;5;28;01mreturn\u001b[39;00m \u001b[38;5;28mself\u001b[39m\u001b[38;5;241m.\u001b[39m_compiled_call_impl(\u001b[38;5;241m*\u001b[39margs, \u001b[38;5;241m*\u001b[39m\u001b[38;5;241m*\u001b[39mkwargs)  \u001b[38;5;66;03m# type: ignore[misc]\u001b[39;00m\n\u001b[1;32m   1750\u001b[0m \u001b[38;5;28;01melse\u001b[39;00m:\n\u001b[0;32m-> 1751\u001b[0m     \u001b[38;5;28;01mreturn\u001b[39;00m \u001b[38;5;28mself\u001b[39m\u001b[38;5;241m.\u001b[39m_call_impl(\u001b[38;5;241m*\u001b[39margs, \u001b[38;5;241m*\u001b[39m\u001b[38;5;241m*\u001b[39mkwargs)\n",
      "File \u001b[0;32m~/anaconda3/lib/python3.11/site-packages/torch/nn/modules/module.py:1762\u001b[0m, in \u001b[0;36mModule._call_impl\u001b[0;34m(self, *args, **kwargs)\u001b[0m\n\u001b[1;32m   1757\u001b[0m \u001b[38;5;66;03m# If we don't have any hooks, we want to skip the rest of the logic in\u001b[39;00m\n\u001b[1;32m   1758\u001b[0m \u001b[38;5;66;03m# this function, and just call forward.\u001b[39;00m\n\u001b[1;32m   1759\u001b[0m \u001b[38;5;28;01mif\u001b[39;00m \u001b[38;5;129;01mnot\u001b[39;00m (\u001b[38;5;28mself\u001b[39m\u001b[38;5;241m.\u001b[39m_backward_hooks \u001b[38;5;129;01mor\u001b[39;00m \u001b[38;5;28mself\u001b[39m\u001b[38;5;241m.\u001b[39m_backward_pre_hooks \u001b[38;5;129;01mor\u001b[39;00m \u001b[38;5;28mself\u001b[39m\u001b[38;5;241m.\u001b[39m_forward_hooks \u001b[38;5;129;01mor\u001b[39;00m \u001b[38;5;28mself\u001b[39m\u001b[38;5;241m.\u001b[39m_forward_pre_hooks\n\u001b[1;32m   1760\u001b[0m         \u001b[38;5;129;01mor\u001b[39;00m _global_backward_pre_hooks \u001b[38;5;129;01mor\u001b[39;00m _global_backward_hooks\n\u001b[1;32m   1761\u001b[0m         \u001b[38;5;129;01mor\u001b[39;00m _global_forward_hooks \u001b[38;5;129;01mor\u001b[39;00m _global_forward_pre_hooks):\n\u001b[0;32m-> 1762\u001b[0m     \u001b[38;5;28;01mreturn\u001b[39;00m forward_call(\u001b[38;5;241m*\u001b[39margs, \u001b[38;5;241m*\u001b[39m\u001b[38;5;241m*\u001b[39mkwargs)\n\u001b[1;32m   1764\u001b[0m result \u001b[38;5;241m=\u001b[39m \u001b[38;5;28;01mNone\u001b[39;00m\n\u001b[1;32m   1765\u001b[0m called_always_called_hooks \u001b[38;5;241m=\u001b[39m \u001b[38;5;28mset\u001b[39m()\n",
      "File \u001b[0;32m~/anaconda3/lib/python3.11/site-packages/torchaudio/transforms/_transforms.py:699\u001b[0m, in \u001b[0;36mMFCC.forward\u001b[0;34m(self, waveform)\u001b[0m\n\u001b[1;32m    691\u001b[0m \u001b[38;5;28;01mdef\u001b[39;00m \u001b[38;5;21mforward\u001b[39m(\u001b[38;5;28mself\u001b[39m, waveform: Tensor) \u001b[38;5;241m-\u001b[39m\u001b[38;5;241m>\u001b[39m Tensor:\n\u001b[1;32m    692\u001b[0m \u001b[38;5;250m    \u001b[39m\u001b[38;5;124mr\u001b[39m\u001b[38;5;124;03m\"\"\"\u001b[39;00m\n\u001b[1;32m    693\u001b[0m \u001b[38;5;124;03m    Args:\u001b[39;00m\n\u001b[1;32m    694\u001b[0m \u001b[38;5;124;03m        waveform (Tensor): Tensor of audio of dimension (..., time).\u001b[39;00m\n\u001b[0;32m   (...)\u001b[0m\n\u001b[1;32m    697\u001b[0m \u001b[38;5;124;03m        Tensor: specgram_mel_db of size (..., ``n_mfcc``, time).\u001b[39;00m\n\u001b[1;32m    698\u001b[0m \u001b[38;5;124;03m    \"\"\"\u001b[39;00m\n\u001b[0;32m--> 699\u001b[0m     mel_specgram \u001b[38;5;241m=\u001b[39m \u001b[38;5;28mself\u001b[39m\u001b[38;5;241m.\u001b[39mMelSpectrogram(waveform)\n\u001b[1;32m    700\u001b[0m     \u001b[38;5;28;01mif\u001b[39;00m \u001b[38;5;28mself\u001b[39m\u001b[38;5;241m.\u001b[39mlog_mels:\n\u001b[1;32m    701\u001b[0m         log_offset \u001b[38;5;241m=\u001b[39m \u001b[38;5;241m1e-6\u001b[39m\n",
      "File \u001b[0;32m~/anaconda3/lib/python3.11/site-packages/torch/nn/modules/module.py:1751\u001b[0m, in \u001b[0;36mModule._wrapped_call_impl\u001b[0;34m(self, *args, **kwargs)\u001b[0m\n\u001b[1;32m   1749\u001b[0m     \u001b[38;5;28;01mreturn\u001b[39;00m \u001b[38;5;28mself\u001b[39m\u001b[38;5;241m.\u001b[39m_compiled_call_impl(\u001b[38;5;241m*\u001b[39margs, \u001b[38;5;241m*\u001b[39m\u001b[38;5;241m*\u001b[39mkwargs)  \u001b[38;5;66;03m# type: ignore[misc]\u001b[39;00m\n\u001b[1;32m   1750\u001b[0m \u001b[38;5;28;01melse\u001b[39;00m:\n\u001b[0;32m-> 1751\u001b[0m     \u001b[38;5;28;01mreturn\u001b[39;00m \u001b[38;5;28mself\u001b[39m\u001b[38;5;241m.\u001b[39m_call_impl(\u001b[38;5;241m*\u001b[39margs, \u001b[38;5;241m*\u001b[39m\u001b[38;5;241m*\u001b[39mkwargs)\n",
      "File \u001b[0;32m~/anaconda3/lib/python3.11/site-packages/torch/nn/modules/module.py:1762\u001b[0m, in \u001b[0;36mModule._call_impl\u001b[0;34m(self, *args, **kwargs)\u001b[0m\n\u001b[1;32m   1757\u001b[0m \u001b[38;5;66;03m# If we don't have any hooks, we want to skip the rest of the logic in\u001b[39;00m\n\u001b[1;32m   1758\u001b[0m \u001b[38;5;66;03m# this function, and just call forward.\u001b[39;00m\n\u001b[1;32m   1759\u001b[0m \u001b[38;5;28;01mif\u001b[39;00m \u001b[38;5;129;01mnot\u001b[39;00m (\u001b[38;5;28mself\u001b[39m\u001b[38;5;241m.\u001b[39m_backward_hooks \u001b[38;5;129;01mor\u001b[39;00m \u001b[38;5;28mself\u001b[39m\u001b[38;5;241m.\u001b[39m_backward_pre_hooks \u001b[38;5;129;01mor\u001b[39;00m \u001b[38;5;28mself\u001b[39m\u001b[38;5;241m.\u001b[39m_forward_hooks \u001b[38;5;129;01mor\u001b[39;00m \u001b[38;5;28mself\u001b[39m\u001b[38;5;241m.\u001b[39m_forward_pre_hooks\n\u001b[1;32m   1760\u001b[0m         \u001b[38;5;129;01mor\u001b[39;00m _global_backward_pre_hooks \u001b[38;5;129;01mor\u001b[39;00m _global_backward_hooks\n\u001b[1;32m   1761\u001b[0m         \u001b[38;5;129;01mor\u001b[39;00m _global_forward_hooks \u001b[38;5;129;01mor\u001b[39;00m _global_forward_pre_hooks):\n\u001b[0;32m-> 1762\u001b[0m     \u001b[38;5;28;01mreturn\u001b[39;00m forward_call(\u001b[38;5;241m*\u001b[39margs, \u001b[38;5;241m*\u001b[39m\u001b[38;5;241m*\u001b[39mkwargs)\n\u001b[1;32m   1764\u001b[0m result \u001b[38;5;241m=\u001b[39m \u001b[38;5;28;01mNone\u001b[39;00m\n\u001b[1;32m   1765\u001b[0m called_always_called_hooks \u001b[38;5;241m=\u001b[39m \u001b[38;5;28mset\u001b[39m()\n",
      "File \u001b[0;32m~/anaconda3/lib/python3.11/site-packages/torchaudio/transforms/_transforms.py:619\u001b[0m, in \u001b[0;36mMelSpectrogram.forward\u001b[0;34m(self, waveform)\u001b[0m\n\u001b[1;32m    611\u001b[0m \u001b[38;5;28;01mdef\u001b[39;00m \u001b[38;5;21mforward\u001b[39m(\u001b[38;5;28mself\u001b[39m, waveform: Tensor) \u001b[38;5;241m-\u001b[39m\u001b[38;5;241m>\u001b[39m Tensor:\n\u001b[1;32m    612\u001b[0m \u001b[38;5;250m    \u001b[39m\u001b[38;5;124mr\u001b[39m\u001b[38;5;124;03m\"\"\"\u001b[39;00m\n\u001b[1;32m    613\u001b[0m \u001b[38;5;124;03m    Args:\u001b[39;00m\n\u001b[1;32m    614\u001b[0m \u001b[38;5;124;03m        waveform (Tensor): Tensor of audio of dimension (..., time).\u001b[39;00m\n\u001b[0;32m   (...)\u001b[0m\n\u001b[1;32m    617\u001b[0m \u001b[38;5;124;03m        Tensor: Mel frequency spectrogram of size (..., ``n_mels``, time).\u001b[39;00m\n\u001b[1;32m    618\u001b[0m \u001b[38;5;124;03m    \"\"\"\u001b[39;00m\n\u001b[0;32m--> 619\u001b[0m     specgram \u001b[38;5;241m=\u001b[39m \u001b[38;5;28mself\u001b[39m\u001b[38;5;241m.\u001b[39mspectrogram(waveform)\n\u001b[1;32m    620\u001b[0m     mel_specgram \u001b[38;5;241m=\u001b[39m \u001b[38;5;28mself\u001b[39m\u001b[38;5;241m.\u001b[39mmel_scale(specgram)\n\u001b[1;32m    621\u001b[0m     \u001b[38;5;28;01mreturn\u001b[39;00m mel_specgram\n",
      "File \u001b[0;32m~/anaconda3/lib/python3.11/site-packages/torch/nn/modules/module.py:1751\u001b[0m, in \u001b[0;36mModule._wrapped_call_impl\u001b[0;34m(self, *args, **kwargs)\u001b[0m\n\u001b[1;32m   1749\u001b[0m     \u001b[38;5;28;01mreturn\u001b[39;00m \u001b[38;5;28mself\u001b[39m\u001b[38;5;241m.\u001b[39m_compiled_call_impl(\u001b[38;5;241m*\u001b[39margs, \u001b[38;5;241m*\u001b[39m\u001b[38;5;241m*\u001b[39mkwargs)  \u001b[38;5;66;03m# type: ignore[misc]\u001b[39;00m\n\u001b[1;32m   1750\u001b[0m \u001b[38;5;28;01melse\u001b[39;00m:\n\u001b[0;32m-> 1751\u001b[0m     \u001b[38;5;28;01mreturn\u001b[39;00m \u001b[38;5;28mself\u001b[39m\u001b[38;5;241m.\u001b[39m_call_impl(\u001b[38;5;241m*\u001b[39margs, \u001b[38;5;241m*\u001b[39m\u001b[38;5;241m*\u001b[39mkwargs)\n",
      "File \u001b[0;32m~/anaconda3/lib/python3.11/site-packages/torch/nn/modules/module.py:1762\u001b[0m, in \u001b[0;36mModule._call_impl\u001b[0;34m(self, *args, **kwargs)\u001b[0m\n\u001b[1;32m   1757\u001b[0m \u001b[38;5;66;03m# If we don't have any hooks, we want to skip the rest of the logic in\u001b[39;00m\n\u001b[1;32m   1758\u001b[0m \u001b[38;5;66;03m# this function, and just call forward.\u001b[39;00m\n\u001b[1;32m   1759\u001b[0m \u001b[38;5;28;01mif\u001b[39;00m \u001b[38;5;129;01mnot\u001b[39;00m (\u001b[38;5;28mself\u001b[39m\u001b[38;5;241m.\u001b[39m_backward_hooks \u001b[38;5;129;01mor\u001b[39;00m \u001b[38;5;28mself\u001b[39m\u001b[38;5;241m.\u001b[39m_backward_pre_hooks \u001b[38;5;129;01mor\u001b[39;00m \u001b[38;5;28mself\u001b[39m\u001b[38;5;241m.\u001b[39m_forward_hooks \u001b[38;5;129;01mor\u001b[39;00m \u001b[38;5;28mself\u001b[39m\u001b[38;5;241m.\u001b[39m_forward_pre_hooks\n\u001b[1;32m   1760\u001b[0m         \u001b[38;5;129;01mor\u001b[39;00m _global_backward_pre_hooks \u001b[38;5;129;01mor\u001b[39;00m _global_backward_hooks\n\u001b[1;32m   1761\u001b[0m         \u001b[38;5;129;01mor\u001b[39;00m _global_forward_hooks \u001b[38;5;129;01mor\u001b[39;00m _global_forward_pre_hooks):\n\u001b[0;32m-> 1762\u001b[0m     \u001b[38;5;28;01mreturn\u001b[39;00m forward_call(\u001b[38;5;241m*\u001b[39margs, \u001b[38;5;241m*\u001b[39m\u001b[38;5;241m*\u001b[39mkwargs)\n\u001b[1;32m   1764\u001b[0m result \u001b[38;5;241m=\u001b[39m \u001b[38;5;28;01mNone\u001b[39;00m\n\u001b[1;32m   1765\u001b[0m called_always_called_hooks \u001b[38;5;241m=\u001b[39m \u001b[38;5;28mset\u001b[39m()\n",
      "File \u001b[0;32m~/anaconda3/lib/python3.11/site-packages/torchaudio/transforms/_transforms.py:110\u001b[0m, in \u001b[0;36mSpectrogram.forward\u001b[0;34m(self, waveform)\u001b[0m\n\u001b[1;32m    100\u001b[0m \u001b[38;5;28;01mdef\u001b[39;00m \u001b[38;5;21mforward\u001b[39m(\u001b[38;5;28mself\u001b[39m, waveform: Tensor) \u001b[38;5;241m-\u001b[39m\u001b[38;5;241m>\u001b[39m Tensor:\n\u001b[1;32m    101\u001b[0m \u001b[38;5;250m    \u001b[39m\u001b[38;5;124mr\u001b[39m\u001b[38;5;124;03m\"\"\"\u001b[39;00m\n\u001b[1;32m    102\u001b[0m \u001b[38;5;124;03m    Args:\u001b[39;00m\n\u001b[1;32m    103\u001b[0m \u001b[38;5;124;03m        waveform (Tensor): Tensor of audio of dimension (..., time).\u001b[39;00m\n\u001b[0;32m   (...)\u001b[0m\n\u001b[1;32m    108\u001b[0m \u001b[38;5;124;03m        Fourier bins, and time is the number of window hops (n_frame).\u001b[39;00m\n\u001b[1;32m    109\u001b[0m \u001b[38;5;124;03m    \"\"\"\u001b[39;00m\n\u001b[0;32m--> 110\u001b[0m     \u001b[38;5;28;01mreturn\u001b[39;00m F\u001b[38;5;241m.\u001b[39mspectrogram(\n\u001b[1;32m    111\u001b[0m         waveform,\n\u001b[1;32m    112\u001b[0m         \u001b[38;5;28mself\u001b[39m\u001b[38;5;241m.\u001b[39mpad,\n\u001b[1;32m    113\u001b[0m         \u001b[38;5;28mself\u001b[39m\u001b[38;5;241m.\u001b[39mwindow,\n\u001b[1;32m    114\u001b[0m         \u001b[38;5;28mself\u001b[39m\u001b[38;5;241m.\u001b[39mn_fft,\n\u001b[1;32m    115\u001b[0m         \u001b[38;5;28mself\u001b[39m\u001b[38;5;241m.\u001b[39mhop_length,\n\u001b[1;32m    116\u001b[0m         \u001b[38;5;28mself\u001b[39m\u001b[38;5;241m.\u001b[39mwin_length,\n\u001b[1;32m    117\u001b[0m         \u001b[38;5;28mself\u001b[39m\u001b[38;5;241m.\u001b[39mpower,\n\u001b[1;32m    118\u001b[0m         \u001b[38;5;28mself\u001b[39m\u001b[38;5;241m.\u001b[39mnormalized,\n\u001b[1;32m    119\u001b[0m         \u001b[38;5;28mself\u001b[39m\u001b[38;5;241m.\u001b[39mcenter,\n\u001b[1;32m    120\u001b[0m         \u001b[38;5;28mself\u001b[39m\u001b[38;5;241m.\u001b[39mpad_mode,\n\u001b[1;32m    121\u001b[0m         \u001b[38;5;28mself\u001b[39m\u001b[38;5;241m.\u001b[39monesided,\n\u001b[1;32m    122\u001b[0m     )\n",
      "File \u001b[0;32m~/anaconda3/lib/python3.11/site-packages/torchaudio/functional/functional.py:126\u001b[0m, in \u001b[0;36mspectrogram\u001b[0;34m(waveform, pad, window, n_fft, hop_length, win_length, power, normalized, center, pad_mode, onesided, return_complex)\u001b[0m\n\u001b[1;32m    123\u001b[0m waveform \u001b[38;5;241m=\u001b[39m waveform\u001b[38;5;241m.\u001b[39mreshape(\u001b[38;5;241m-\u001b[39m\u001b[38;5;241m1\u001b[39m, shape[\u001b[38;5;241m-\u001b[39m\u001b[38;5;241m1\u001b[39m])\n\u001b[1;32m    125\u001b[0m \u001b[38;5;66;03m# default values are consistent with librosa.core.spectrum._spectrogram\u001b[39;00m\n\u001b[0;32m--> 126\u001b[0m spec_f \u001b[38;5;241m=\u001b[39m torch\u001b[38;5;241m.\u001b[39mstft(\n\u001b[1;32m    127\u001b[0m     \u001b[38;5;28minput\u001b[39m\u001b[38;5;241m=\u001b[39mwaveform,\n\u001b[1;32m    128\u001b[0m     n_fft\u001b[38;5;241m=\u001b[39mn_fft,\n\u001b[1;32m    129\u001b[0m     hop_length\u001b[38;5;241m=\u001b[39mhop_length,\n\u001b[1;32m    130\u001b[0m     win_length\u001b[38;5;241m=\u001b[39mwin_length,\n\u001b[1;32m    131\u001b[0m     window\u001b[38;5;241m=\u001b[39mwindow,\n\u001b[1;32m    132\u001b[0m     center\u001b[38;5;241m=\u001b[39mcenter,\n\u001b[1;32m    133\u001b[0m     pad_mode\u001b[38;5;241m=\u001b[39mpad_mode,\n\u001b[1;32m    134\u001b[0m     normalized\u001b[38;5;241m=\u001b[39mframe_length_norm,\n\u001b[1;32m    135\u001b[0m     onesided\u001b[38;5;241m=\u001b[39monesided,\n\u001b[1;32m    136\u001b[0m     return_complex\u001b[38;5;241m=\u001b[39m\u001b[38;5;28;01mTrue\u001b[39;00m,\n\u001b[1;32m    137\u001b[0m )\n\u001b[1;32m    139\u001b[0m \u001b[38;5;66;03m# unpack batch\u001b[39;00m\n\u001b[1;32m    140\u001b[0m spec_f \u001b[38;5;241m=\u001b[39m spec_f\u001b[38;5;241m.\u001b[39mreshape(shape[:\u001b[38;5;241m-\u001b[39m\u001b[38;5;241m1\u001b[39m] \u001b[38;5;241m+\u001b[39m spec_f\u001b[38;5;241m.\u001b[39mshape[\u001b[38;5;241m-\u001b[39m\u001b[38;5;241m2\u001b[39m:])\n",
      "File \u001b[0;32m~/anaconda3/lib/python3.11/site-packages/torch/functional.py:730\u001b[0m, in \u001b[0;36mstft\u001b[0;34m(input, n_fft, hop_length, win_length, window, center, pad_mode, normalized, onesided, return_complex, align_to_window)\u001b[0m\n\u001b[1;32m    728\u001b[0m     \u001b[38;5;28minput\u001b[39m \u001b[38;5;241m=\u001b[39m F\u001b[38;5;241m.\u001b[39mpad(\u001b[38;5;28minput\u001b[39m\u001b[38;5;241m.\u001b[39mview(extended_shape), [pad, pad], pad_mode)\n\u001b[1;32m    729\u001b[0m     \u001b[38;5;28minput\u001b[39m \u001b[38;5;241m=\u001b[39m \u001b[38;5;28minput\u001b[39m\u001b[38;5;241m.\u001b[39mview(\u001b[38;5;28minput\u001b[39m\u001b[38;5;241m.\u001b[39mshape[\u001b[38;5;241m-\u001b[39msignal_dim:])\n\u001b[0;32m--> 730\u001b[0m \u001b[38;5;28;01mreturn\u001b[39;00m _VF\u001b[38;5;241m.\u001b[39mstft(  \u001b[38;5;66;03m# type: ignore[attr-defined]\u001b[39;00m\n\u001b[1;32m    731\u001b[0m     \u001b[38;5;28minput\u001b[39m,\n\u001b[1;32m    732\u001b[0m     n_fft,\n\u001b[1;32m    733\u001b[0m     hop_length,\n\u001b[1;32m    734\u001b[0m     win_length,\n\u001b[1;32m    735\u001b[0m     window,\n\u001b[1;32m    736\u001b[0m     normalized,\n\u001b[1;32m    737\u001b[0m     onesided,\n\u001b[1;32m    738\u001b[0m     return_complex,\n\u001b[1;32m    739\u001b[0m     align_to_window,\n\u001b[1;32m    740\u001b[0m )\n",
      "\u001b[0;31mKeyboardInterrupt\u001b[0m: "
     ]
    }
   ],
   "source": [
    "# Cell 12: train for 10 epochs, stepping the LR scheduler each epoch\n",
    "for epoch in range(1, 11):\n",
    "    tr_l, tr_a = run_mfcc_epoch(mfcc_train_loader, train=True)\n",
    "    scheduler.step()   # decay LR if needed\n",
    "    te_l, te_a = run_mfcc_epoch(mfcc_test_loader, train=False)\n",
    "    print(f\"[Sched] E{epoch:02d} | LR {scheduler.get_last_lr()[0]:.1e} | \"\n",
    "          f\"Train Acc {tr_a:.3f} | Test Acc {te_a:.3f}\")\n"
   ]
  },
  {
   "cell_type": "code",
   "execution_count": 87,
   "id": "06be0167",
   "metadata": {},
   "outputs": [
    {
     "ename": "NotImplementedError",
     "evalue": "Subclasses of Dataset should implement __getitem__.",
     "output_type": "error",
     "traceback": [
      "\u001b[0;31m---------------------------------------------------------------------------\u001b[0m",
      "\u001b[0;31mNotImplementedError\u001b[0m                       Traceback (most recent call last)",
      "Cell \u001b[0;32mIn[87], line 9\u001b[0m\n\u001b[1;32m      5\u001b[0m scheduler \u001b[38;5;241m=\u001b[39m optim\u001b[38;5;241m.\u001b[39mlr_scheduler\u001b[38;5;241m.\u001b[39mStepLR(mfcc_optimizer, step_size\u001b[38;5;241m=\u001b[39m\u001b[38;5;241m5\u001b[39m, gamma\u001b[38;5;241m=\u001b[39m\u001b[38;5;241m0.5\u001b[39m)\n\u001b[1;32m      7\u001b[0m \u001b[38;5;28;01mfor\u001b[39;00m epoch \u001b[38;5;129;01min\u001b[39;00m \u001b[38;5;28mrange\u001b[39m(\u001b[38;5;241m1\u001b[39m, \u001b[38;5;241m11\u001b[39m):\n\u001b[1;32m      8\u001b[0m     \u001b[38;5;66;03m# train on augmented data\u001b[39;00m\n\u001b[0;32m----> 9\u001b[0m     tr_l, tr_a \u001b[38;5;241m=\u001b[39m run_mfcc_epoch(aug_train_loader, train\u001b[38;5;241m=\u001b[39m\u001b[38;5;28;01mTrue\u001b[39;00m)\n\u001b[1;32m     10\u001b[0m     scheduler\u001b[38;5;241m.\u001b[39mstep()\n\u001b[1;32m     11\u001b[0m     \u001b[38;5;66;03m# test on clean test set\u001b[39;00m\n",
      "Cell \u001b[0;32mIn[80], line 9\u001b[0m, in \u001b[0;36mrun_mfcc_epoch\u001b[0;34m(loader, train)\u001b[0m\n\u001b[1;32m      7\u001b[0m total_loss \u001b[38;5;241m=\u001b[39m correct \u001b[38;5;241m=\u001b[39m total \u001b[38;5;241m=\u001b[39m \u001b[38;5;241m0\u001b[39m\n\u001b[1;32m      8\u001b[0m \u001b[38;5;28;01mwith\u001b[39;00m torch\u001b[38;5;241m.\u001b[39mset_grad_enabled(train):\n\u001b[0;32m----> 9\u001b[0m     \u001b[38;5;28;01mfor\u001b[39;00m X, y \u001b[38;5;129;01min\u001b[39;00m loader:\n\u001b[1;32m     10\u001b[0m         logits \u001b[38;5;241m=\u001b[39m model(X)\n\u001b[1;32m     11\u001b[0m         loss   \u001b[38;5;241m=\u001b[39m criterion(logits, y)\n",
      "File \u001b[0;32m~/anaconda3/lib/python3.11/site-packages/torch/utils/data/dataloader.py:733\u001b[0m, in \u001b[0;36m_BaseDataLoaderIter.__next__\u001b[0;34m(self)\u001b[0m\n\u001b[1;32m    730\u001b[0m \u001b[38;5;28;01mif\u001b[39;00m \u001b[38;5;28mself\u001b[39m\u001b[38;5;241m.\u001b[39m_sampler_iter \u001b[38;5;129;01mis\u001b[39;00m \u001b[38;5;28;01mNone\u001b[39;00m:\n\u001b[1;32m    731\u001b[0m     \u001b[38;5;66;03m# TODO(https://github.com/pytorch/pytorch/issues/76750)\u001b[39;00m\n\u001b[1;32m    732\u001b[0m     \u001b[38;5;28mself\u001b[39m\u001b[38;5;241m.\u001b[39m_reset()  \u001b[38;5;66;03m# type: ignore[call-arg]\u001b[39;00m\n\u001b[0;32m--> 733\u001b[0m data \u001b[38;5;241m=\u001b[39m \u001b[38;5;28mself\u001b[39m\u001b[38;5;241m.\u001b[39m_next_data()\n\u001b[1;32m    734\u001b[0m \u001b[38;5;28mself\u001b[39m\u001b[38;5;241m.\u001b[39m_num_yielded \u001b[38;5;241m+\u001b[39m\u001b[38;5;241m=\u001b[39m \u001b[38;5;241m1\u001b[39m\n\u001b[1;32m    735\u001b[0m \u001b[38;5;28;01mif\u001b[39;00m (\n\u001b[1;32m    736\u001b[0m     \u001b[38;5;28mself\u001b[39m\u001b[38;5;241m.\u001b[39m_dataset_kind \u001b[38;5;241m==\u001b[39m _DatasetKind\u001b[38;5;241m.\u001b[39mIterable\n\u001b[1;32m    737\u001b[0m     \u001b[38;5;129;01mand\u001b[39;00m \u001b[38;5;28mself\u001b[39m\u001b[38;5;241m.\u001b[39m_IterableDataset_len_called \u001b[38;5;129;01mis\u001b[39;00m \u001b[38;5;129;01mnot\u001b[39;00m \u001b[38;5;28;01mNone\u001b[39;00m\n\u001b[1;32m    738\u001b[0m     \u001b[38;5;129;01mand\u001b[39;00m \u001b[38;5;28mself\u001b[39m\u001b[38;5;241m.\u001b[39m_num_yielded \u001b[38;5;241m>\u001b[39m \u001b[38;5;28mself\u001b[39m\u001b[38;5;241m.\u001b[39m_IterableDataset_len_called\n\u001b[1;32m    739\u001b[0m ):\n",
      "File \u001b[0;32m~/anaconda3/lib/python3.11/site-packages/torch/utils/data/dataloader.py:789\u001b[0m, in \u001b[0;36m_SingleProcessDataLoaderIter._next_data\u001b[0;34m(self)\u001b[0m\n\u001b[1;32m    787\u001b[0m \u001b[38;5;28;01mdef\u001b[39;00m \u001b[38;5;21m_next_data\u001b[39m(\u001b[38;5;28mself\u001b[39m):\n\u001b[1;32m    788\u001b[0m     index \u001b[38;5;241m=\u001b[39m \u001b[38;5;28mself\u001b[39m\u001b[38;5;241m.\u001b[39m_next_index()  \u001b[38;5;66;03m# may raise StopIteration\u001b[39;00m\n\u001b[0;32m--> 789\u001b[0m     data \u001b[38;5;241m=\u001b[39m \u001b[38;5;28mself\u001b[39m\u001b[38;5;241m.\u001b[39m_dataset_fetcher\u001b[38;5;241m.\u001b[39mfetch(index)  \u001b[38;5;66;03m# may raise StopIteration\u001b[39;00m\n\u001b[1;32m    790\u001b[0m     \u001b[38;5;28;01mif\u001b[39;00m \u001b[38;5;28mself\u001b[39m\u001b[38;5;241m.\u001b[39m_pin_memory:\n\u001b[1;32m    791\u001b[0m         data \u001b[38;5;241m=\u001b[39m _utils\u001b[38;5;241m.\u001b[39mpin_memory\u001b[38;5;241m.\u001b[39mpin_memory(data, \u001b[38;5;28mself\u001b[39m\u001b[38;5;241m.\u001b[39m_pin_memory_device)\n",
      "File \u001b[0;32m~/anaconda3/lib/python3.11/site-packages/torch/utils/data/_utils/fetch.py:52\u001b[0m, in \u001b[0;36m_MapDatasetFetcher.fetch\u001b[0;34m(self, possibly_batched_index)\u001b[0m\n\u001b[1;32m     50\u001b[0m         data \u001b[38;5;241m=\u001b[39m \u001b[38;5;28mself\u001b[39m\u001b[38;5;241m.\u001b[39mdataset\u001b[38;5;241m.\u001b[39m__getitems__(possibly_batched_index)\n\u001b[1;32m     51\u001b[0m     \u001b[38;5;28;01melse\u001b[39;00m:\n\u001b[0;32m---> 52\u001b[0m         data \u001b[38;5;241m=\u001b[39m [\u001b[38;5;28mself\u001b[39m\u001b[38;5;241m.\u001b[39mdataset[idx] \u001b[38;5;28;01mfor\u001b[39;00m idx \u001b[38;5;129;01min\u001b[39;00m possibly_batched_index]\n\u001b[1;32m     53\u001b[0m \u001b[38;5;28;01melse\u001b[39;00m:\n\u001b[1;32m     54\u001b[0m     data \u001b[38;5;241m=\u001b[39m \u001b[38;5;28mself\u001b[39m\u001b[38;5;241m.\u001b[39mdataset[possibly_batched_index]\n",
      "File \u001b[0;32m~/anaconda3/lib/python3.11/site-packages/torch/utils/data/_utils/fetch.py:52\u001b[0m, in \u001b[0;36m<listcomp>\u001b[0;34m(.0)\u001b[0m\n\u001b[1;32m     50\u001b[0m         data \u001b[38;5;241m=\u001b[39m \u001b[38;5;28mself\u001b[39m\u001b[38;5;241m.\u001b[39mdataset\u001b[38;5;241m.\u001b[39m__getitems__(possibly_batched_index)\n\u001b[1;32m     51\u001b[0m     \u001b[38;5;28;01melse\u001b[39;00m:\n\u001b[0;32m---> 52\u001b[0m         data \u001b[38;5;241m=\u001b[39m [\u001b[38;5;28mself\u001b[39m\u001b[38;5;241m.\u001b[39mdataset[idx] \u001b[38;5;28;01mfor\u001b[39;00m idx \u001b[38;5;129;01min\u001b[39;00m possibly_batched_index]\n\u001b[1;32m     53\u001b[0m \u001b[38;5;28;01melse\u001b[39;00m:\n\u001b[1;32m     54\u001b[0m     data \u001b[38;5;241m=\u001b[39m \u001b[38;5;28mself\u001b[39m\u001b[38;5;241m.\u001b[39mdataset[possibly_batched_index]\n",
      "Cell \u001b[0;32mIn[84], line 6\u001b[0m, in \u001b[0;36mAugmentedMFCCDataset.__getitem__\u001b[0;34m(self, idx)\u001b[0m\n\u001b[1;32m      4\u001b[0m \u001b[38;5;28;01mdef\u001b[39;00m \u001b[38;5;21m__getitem__\u001b[39m(\u001b[38;5;28mself\u001b[39m, idx):\n\u001b[1;32m      5\u001b[0m     \u001b[38;5;66;03m# 1) Load the fixed‐length waveform & label\u001b[39;00m\n\u001b[0;32m----> 6\u001b[0m     wav, label \u001b[38;5;241m=\u001b[39m \u001b[38;5;28msuper\u001b[39m(MFCCDataset, \u001b[38;5;28mself\u001b[39m)\u001b[38;5;241m.\u001b[39m\u001b[38;5;21m__getitem__\u001b[39m(idx)  \u001b[38;5;66;03m# returns [1,max_len]\u001b[39;00m\n\u001b[1;32m      8\u001b[0m     \u001b[38;5;66;03m# 2) Random time‐shift ±10%\u001b[39;00m\n\u001b[1;32m      9\u001b[0m     max_shift \u001b[38;5;241m=\u001b[39m \u001b[38;5;28mint\u001b[39m(\u001b[38;5;241m0.1\u001b[39m \u001b[38;5;241m*\u001b[39m \u001b[38;5;28mself\u001b[39m\u001b[38;5;241m.\u001b[39mmax_length)\n",
      "File \u001b[0;32m~/anaconda3/lib/python3.11/site-packages/torch/utils/data/dataset.py:59\u001b[0m, in \u001b[0;36mDataset.__getitem__\u001b[0;34m(self, index)\u001b[0m\n\u001b[1;32m     58\u001b[0m \u001b[38;5;28;01mdef\u001b[39;00m \u001b[38;5;21m__getitem__\u001b[39m(\u001b[38;5;28mself\u001b[39m, index) \u001b[38;5;241m-\u001b[39m\u001b[38;5;241m>\u001b[39m _T_co:\n\u001b[0;32m---> 59\u001b[0m     \u001b[38;5;28;01mraise\u001b[39;00m \u001b[38;5;167;01mNotImplementedError\u001b[39;00m(\u001b[38;5;124m\"\u001b[39m\u001b[38;5;124mSubclasses of Dataset should implement __getitem__.\u001b[39m\u001b[38;5;124m\"\u001b[39m)\n",
      "\u001b[0;31mNotImplementedError\u001b[0m: Subclasses of Dataset should implement __getitem__."
     ]
    }
   ],
   "source": [
    "# Cell 12‑b: Training loop using augmented data and scheduler\n",
    "\n",
    "# Rebuild optimizer and scheduler after kernel reset\n",
    "mfcc_optimizer = optim.Adam(mfcc_model.parameters(), lr=1e-3, weight_decay=1e-4)\n",
    "scheduler = optim.lr_scheduler.StepLR(mfcc_optimizer, step_size=5, gamma=0.5)\n",
    "\n",
    "for epoch in range(1, 11):\n",
    "    # train on augmented data\n",
    "    tr_l, tr_a = run_mfcc_epoch(aug_train_loader, train=True)\n",
    "    scheduler.step()\n",
    "    # test on clean test set\n",
    "    te_l, te_a = run_mfcc_epoch(mfcc_test_loader, train=False)\n",
    "    print(f\"[Aug+Sched] E{epoch:02d} | LR {scheduler.get_last_lr()[0]:.1e} | \"\n",
    "          f\"Train Acc {tr_a:.3f} | Test Acc {te_a:.3f}\")\n",
    "\n"
   ]
  },
  {
   "cell_type": "markdown",
   "id": "2b139dfd",
   "metadata": {},
   "source": []
  }
 ],
 "metadata": {
  "kernelspec": {
   "display_name": "base",
   "language": "python",
   "name": "python3"
  },
  "language_info": {
   "codemirror_mode": {
    "name": "ipython",
    "version": 3
   },
   "file_extension": ".py",
   "mimetype": "text/x-python",
   "name": "python",
   "nbconvert_exporter": "python",
   "pygments_lexer": "ipython3",
   "version": "3.11.5"
  }
 },
 "nbformat": 4,
 "nbformat_minor": 5
}
