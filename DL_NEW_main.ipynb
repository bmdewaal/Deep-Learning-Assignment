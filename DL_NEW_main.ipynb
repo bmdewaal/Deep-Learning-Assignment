{
 "cells": [
  {
   "cell_type": "markdown",
   "id": "1875b3c1",
   "metadata": {},
   "source": [
    "# Deep Learning assignment\n",
    "\n",
    "## Imports"
   ]
  },
  {
   "cell_type": "code",
   "execution_count": 36,
   "id": "cac379ea",
   "metadata": {},
   "outputs": [
    {
     "name": "stdout",
     "output_type": "stream",
     "text": [
      "Using device: mps\n"
     ]
    }
   ],
   "source": [
    "import os\n",
    "import torch\n",
    "import torchaudio\n",
    "from torch.utils.data import Dataset, DataLoader\n",
    "import torch.nn as nn\n",
    "import torch.optim as optim\n",
    "\n",
    "# Use MPS on Apple Silicon if available\n",
    "device = torch.device(\"mps\") if torch.backends.mps.is_available() else torch.device(\"cpu\")\n",
    "print(f\"Using device: {device}\")\n"
   ]
  },
  {
   "cell_type": "markdown",
   "id": "66954fa6",
   "metadata": {},
   "source": [
    "----------------------"
   ]
  },
  {
   "cell_type": "markdown",
   "id": "7cf823d6",
   "metadata": {},
   "source": [
    "## Exploring the dataset"
   ]
  },
  {
   "cell_type": "code",
   "execution_count": 44,
   "id": "e11a1cd7",
   "metadata": {},
   "outputs": [],
   "source": [
    "class AccentDataset(Dataset):\n",
    "    def __init__(self, data_dir, sample_rate=16000, max_length=16000, num_classes=5):\n",
    "        self.sample_rate = sample_rate\n",
    "        self.max_length  = max_length\n",
    "        self.num_classes = num_classes\n",
    "        self.files = []\n",
    "\n",
    "        for root, _, fns in os.walk(data_dir):\n",
    "            for fn in sorted(fns):\n",
    "                if not fn.lower().endswith('.wav'):\n",
    "                    continue\n",
    "                label = int(fn[0]) - 1\n",
    "                # keep only accents 1–5 → labels 0–4\n",
    "                if 0 <= label < self.num_classes:\n",
    "                    self.files.append(os.path.join(root, fn))\n",
    "\n",
    "    def __len__(self):\n",
    "        return len(self.files)\n",
    "\n",
    "    def __getitem__(self, idx):\n",
    "        path = self.files[idx]\n",
    "        waveform, sr = torchaudio.load(path)\n",
    "        if sr != self.sample_rate:\n",
    "            waveform = torchaudio.transforms.Resample(sr, self.sample_rate)(waveform)\n",
    "        waveform = waveform.mean(dim=0, keepdim=True)  # mono\n",
    "        if waveform.size(1) < self.max_length:\n",
    "            pad = self.max_length - waveform.size(1)\n",
    "            waveform = nn.functional.pad(waveform, (0, pad))\n",
    "        else:\n",
    "            waveform = waveform[:, :self.max_length]\n",
    "        waveform = (waveform - waveform.mean()) / (waveform.std() + 1e-5)\n",
    "        label = int(os.path.basename(path)[0]) - 1\n",
    "        return waveform.to(device), torch.tensor(label, dtype=torch.long, device=device)\n"
   ]
  },
  {
   "cell_type": "code",
   "execution_count": 45,
   "id": "fb683cb0",
   "metadata": {},
   "outputs": [],
   "source": [
    "train_dir = 'Train'        \n",
    "test_dir  = 'Test set'     \n",
    "\n",
    "train_ds     = AccentDataset(train_dir,  num_classes=5)\n",
    "test_ds      = AccentDataset(test_dir,   num_classes=5)\n",
    "train_loader = DataLoader(train_ds, batch_size=32, shuffle=True)\n",
    "test_loader  = DataLoader(test_ds,  batch_size=32)"
   ]
  },
  {
   "cell_type": "code",
   "execution_count": 46,
   "id": "556ad2bd",
   "metadata": {},
   "outputs": [
    {
     "name": "stdout",
     "output_type": "stream",
     "text": [
      "Total train files: 3166\n",
      "Duration (s): min=1.67, max=12.97, mean=5.26, median=5.04\n",
      "Accent distribution: Counter({4: 754, 1: 740, 2: 626, 3: 564, 5: 482})\n",
      "Gender distribution: Counter({'f': 1639, 'm': 1527})\n"
     ]
    }
   ],
   "source": [
    "import os\n",
    "import torchaudio\n",
    "import numpy as np\n",
    "from collections import Counter\n",
    "\n",
    "\n",
    "durations = []\n",
    "accents   = []\n",
    "genders   = []\n",
    "\n",
    "for path in train_ds.files:\n",
    "    info = torchaudio.info(path)\n",
    "    dur = info.num_frames / info.sample_rate\n",
    "    durations.append(dur)\n",
    "    fn = os.path.basename(path)\n",
    "    accents.append(int(fn[0]))\n",
    "    genders.append(fn[1])\n",
    "\n",
    "# 2) Print stats\n",
    "print(f\"Total train files: {len(durations)}\")\n",
    "print(f\"Duration (s): min={min(durations):.2f}, max={max(durations):.2f}, \"\n",
    "      f\"mean={np.mean(durations):.2f}, median={np.median(durations):.2f}\")\n",
    "\n",
    "print(\"Accent distribution:\", Counter(accents))\n",
    "print(\"Gender distribution:\", Counter(genders))\n"
   ]
  },
  {
   "cell_type": "code",
   "execution_count": 47,
   "id": "832f9b8a",
   "metadata": {},
   "outputs": [
    {
     "name": "stdout",
     "output_type": "stream",
     "text": [
      "Axes(0.125,0.11;0.775x0.77)\n",
      "gender    f    m\n",
      "accent          \n",
      "1       520  220\n",
      "2       287  339\n",
      "3       242  322\n",
      "4       357  397\n",
      "5       233  249\n"
     ]
    },
    {
     "data": {
      "image/png": "[encoded data removed]",
      "text/plain": [
       "<Figure size 640x480 with 1 Axes>"
      ]
     },
     "metadata": {},
     "output_type": "display_data"
    }
   ],
   "source": [
    "import pandas as pd\n",
    "\n",
    "df = pd.DataFrame({\n",
    "    \"duration\": durations,\n",
    "    \"accent\":   accents,\n",
    "    \"gender\":   genders,\n",
    "})\n",
    "\n",
    "\n",
    "print(df.duration.hist(bins=10))\n",
    "\n",
    "\n",
    "print(df.groupby([\"accent\",\"gender\"]).size().unstack(fill_value=0))\n"
   ]
  },
  {
   "cell_type": "code",
   "execution_count": 57,
   "id": "6cf8eaf1",
   "metadata": {},
   "outputs": [
    {
     "name": "stdout",
     "output_type": "stream",
     "text": [
      "Found 3166 train files, 298 test files\n"
     ]
    }
   ],
   "source": [
    "\n",
    "import os\n",
    "import torchaudio\n",
    "import torch\n",
    "import matplotlib.pyplot as plt\n",
    "import pandas as pd\n",
    "\n",
    "\n",
    "print(f\"Found {len(train_ds)} train files, {len(test_ds)} test files\")\n"
   ]
  },
  {
   "cell_type": "code",
   "execution_count": 58,
   "id": "7a6e9f71",
   "metadata": {},
   "outputs": [
    {
     "name": "stdout",
     "output_type": "stream",
     "text": [
      "Durations (s): min=1.67, median=5.03, max=12.97\n"
     ]
    }
   ],
   "source": [
    "# Cell 2: gather durations (in seconds) and basic stats\n",
    "durations = []\n",
    "for path in train_ds.files:\n",
    "    info = torchaudio.info(path)\n",
    "    durations.append(info.num_frames / info.sample_rate)\n",
    "\n",
    "durations = torch.tensor(durations)\n",
    "print(f\"Durations (s): min={durations.min():.2f}, \"\n",
    "      f\"median={durations.median():.2f}, max={durations.max():.2f}\")\n"
   ]
  },
  {
   "cell_type": "code",
   "execution_count": 59,
   "id": "27ace593",
   "metadata": {},
   "outputs": [
    {
     "data": {
      "image/png": "[encoded data removed]",
      "text/plain": [
       "<Figure size 600x400 with 1 Axes>"
      ]
     },
     "metadata": {},
     "output_type": "display_data"
    }
   ],
   "source": [
    "# Cell 3: histogram of utterance lengths\n",
    "plt.figure(figsize=(6,4))\n",
    "plt.hist(durations.numpy(), bins=20, edgecolor='black')\n",
    "plt.xlabel(\"Duration (s)\")\n",
    "plt.ylabel(\"Count\")\n",
    "plt.title(\"Train-set Utterance Duration Distribution\")\n",
    "plt.grid(alpha=0.3)\n",
    "plt.show()\n"
   ]
  },
  {
   "cell_type": "code",
   "execution_count": null,
   "id": "e34b5bb9",
   "metadata": {},
   "outputs": [
    {
     "data": {
      "text/html": [
       "<div>\n",
       "<style scoped>\n",
       "    .dataframe tbody tr th:only-of-type {\n",
       "        vertical-align: middle;\n",
       "    }\n",
       "\n",
       "    .dataframe tbody tr th {\n",
       "        vertical-align: top;\n",
       "    }\n",
       "\n",
       "    .dataframe thead th {\n",
       "        text-align: right;\n",
       "    }\n",
       "</style>\n",
       "<table border=\"1\" class=\"dataframe\">\n",
       "  <thead>\n",
       "    <tr style=\"text-align: right;\">\n",
       "      <th></th>\n",
       "      <th>accent</th>\n",
       "      <th>gender</th>\n",
       "    </tr>\n",
       "  </thead>\n",
       "  <tbody>\n",
       "    <tr>\n",
       "      <th>0</th>\n",
       "      <td>1</td>\n",
       "      <td>f</td>\n",
       "    </tr>\n",
       "    <tr>\n",
       "      <th>1</th>\n",
       "      <td>1</td>\n",
       "      <td>f</td>\n",
       "    </tr>\n",
       "    <tr>\n",
       "      <th>2</th>\n",
       "      <td>1</td>\n",
       "      <td>f</td>\n",
       "    </tr>\n",
       "    <tr>\n",
       "      <th>3</th>\n",
       "      <td>1</td>\n",
       "      <td>f</td>\n",
       "    </tr>\n",
       "    <tr>\n",
       "      <th>4</th>\n",
       "      <td>1</td>\n",
       "      <td>f</td>\n",
       "    </tr>\n",
       "  </tbody>\n",
       "</table>\n",
       "</div>"
      ],
      "text/plain": [
       "   accent gender\n",
       "0       1      f\n",
       "1       1      f\n",
       "2       1      f\n",
       "3       1      f\n",
       "4       1      f"
      ]
     },
     "execution_count": 60,
     "metadata": {},
     "output_type": "execute_result"
    }
   ],
   "source": [
    "rows = []\n",
    "for path in train_ds.files:\n",
    "    fn = os.path.basename(path)\n",
    "    accent = int(fn[0])\n",
    "    gender = fn[1]\n",
    "    rows.append({\"accent\": accent, \"gender\": gender})\n",
    "df = pd.DataFrame(rows)\n",
    "df.head()\n"
   ]
  },
  {
   "cell_type": "code",
   "execution_count": 61,
   "id": "a3fee08e",
   "metadata": {},
   "outputs": [
    {
     "name": "stdout",
     "output_type": "stream",
     "text": [
      "Counts per (accent, gender):\n",
      "gender    f    m\n",
      "accent          \n",
      "1       520  220\n",
      "2       287  339\n",
      "3       242  322\n",
      "4       357  397\n",
      "5       233  249\n"
     ]
    }
   ],
   "source": [
    "ct = pd.crosstab(df.accent, df.gender)\n",
    "print(\"Counts per (accent, gender):\")\n",
    "print(ct)\n"
   ]
  },
  {
   "cell_type": "markdown",
   "id": "e8b69ee2",
   "metadata": {},
   "source": [
    "-----"
   ]
  },
  {
   "cell_type": "markdown",
   "id": "b32f4ec3",
   "metadata": {},
   "source": [
    "## Dataset import/definitions"
   ]
  },
  {
   "cell_type": "code",
   "execution_count": 37,
   "id": "25f02b84",
   "metadata": {},
   "outputs": [],
   "source": [
    "class AccentDataset(Dataset):\n",
    "    def __init__(self, data_dir, sample_rate=16000, max_length=16000, num_classes=5):\n",
    "        self.sample_rate = sample_rate\n",
    "        self.max_length  = max_length\n",
    "        self.num_classes = num_classes\n",
    "        self.files = []\n",
    "\n",
    "        for root, _, fns in os.walk(data_dir):\n",
    "            for fn in sorted(fns):\n",
    "                if not fn.lower().endswith('.wav'):\n",
    "                    continue\n",
    "                label = int(fn[0]) - 1\n",
    "                # keep only accents 1–5 → labels 0–4\n",
    "                if 0 <= label < self.num_classes:\n",
    "                    self.files.append(os.path.join(root, fn))\n",
    "\n",
    "    def __len__(self):\n",
    "        return len(self.files)\n",
    "\n",
    "    def __getitem__(self, idx):\n",
    "        path = self.files[idx]\n",
    "        waveform, sr = torchaudio.load(path)\n",
    "        if sr != self.sample_rate:\n",
    "            waveform = torchaudio.transforms.Resample(sr, self.sample_rate)(waveform)\n",
    "        waveform = waveform.mean(dim=0, keepdim=True)  # mono\n",
    "        if waveform.size(1) < self.max_length:\n",
    "            pad = self.max_length - waveform.size(1)\n",
    "            waveform = nn.functional.pad(waveform, (0, pad))\n",
    "        else:\n",
    "            waveform = waveform[:, :self.max_length]\n",
    "        waveform = (waveform - waveform.mean()) / (waveform.std() + 1e-5)\n",
    "        label = int(os.path.basename(path)[0]) - 1\n",
    "        return waveform.to(device), torch.tensor(label, dtype=torch.long, device=device)\n"
   ]
  },
  {
   "cell_type": "markdown",
   "id": "09fcd637",
   "metadata": {},
   "source": [
    "------"
   ]
  },
  {
   "cell_type": "markdown",
   "id": "7e2b8398",
   "metadata": {},
   "source": [
    "## Dataloaders\n",
    "\n",
    "The dataloaders are used for..."
   ]
  },
  {
   "cell_type": "code",
   "execution_count": 38,
   "id": "55d49fcb",
   "metadata": {},
   "outputs": [],
   "source": [
    "train_dir = 'Train'        \n",
    "test_dir  = 'Test set'     \n",
    "\n",
    "train_ds     = AccentDataset(train_dir,  num_classes=5)\n",
    "test_ds      = AccentDataset(test_dir,   num_classes=5)\n",
    "train_loader = DataLoader(train_ds, batch_size=32, shuffle=True)\n",
    "test_loader  = DataLoader(test_ds,  batch_size=32)\n"
   ]
  },
  {
   "cell_type": "markdown",
   "id": "9a6fee6a",
   "metadata": {},
   "source": [
    "---------"
   ]
  },
  {
   "cell_type": "markdown",
   "id": "a33ba5a9",
   "metadata": {},
   "source": [
    "## Model - CNN (task 1.2a)"
   ]
  },
  {
   "cell_type": "code",
   "execution_count": 54,
   "id": "52c126d0",
   "metadata": {},
   "outputs": [],
   "source": [
    "# class RawCNN(nn.Module):\n",
    "#     def __init__(self, num_classes=5, max_length=16000):\n",
    "#         super().__init__()\n",
    "#         self.conv = nn.Sequential(\n",
    "#             nn.Conv1d(1, 16, kernel_size=5, padding=2),\n",
    "#             nn.ReLU(),\n",
    "#             nn.MaxPool1d(2),\n",
    "#             nn.Conv1d(16, 32, kernel_size=5, padding=2),\n",
    "#             nn.ReLU(),\n",
    "#             nn.MaxPool1d(2),\n",
    "#         )\n",
    "#         reduced = max_length // 4  # two poolings of 2\n",
    "#         self.fc = nn.Sequential(\n",
    "#             nn.Flatten(),\n",
    "#             nn.Linear(32 * reduced, 128),\n",
    "#             nn.ReLU(),\n",
    "#             nn.Dropout(0.5),\n",
    "#             nn.Linear(128, num_classes),\n",
    "#         )\n",
    "\n",
    "#     def forward(self, x):\n",
    "#         return self.fc(self.conv(x))\n",
    "\n",
    "# model = RawCNN(num_classes=5, max_length=train_ds.max_length).to(device)\n",
    "\n",
    "class RawCNNVarLen10(nn.Module):\n",
    "    def __init__(self, num_classes=5):\n",
    "        super().__init__()\n",
    "        self.conv = nn.Sequential(\n",
    "            nn.Conv1d(1, 32, kernel_size=5, padding=2),\n",
    "            nn.BatchNorm1d(32), nn.ReLU(),\n",
    "            nn.MaxPool1d(2),\n",
    "            nn.Conv1d(32, 64, kernel_size=5, padding=2),\n",
    "            nn.BatchNorm1d(64), nn.ReLU(),\n",
    "            nn.MaxPool1d(2),\n",
    "        )\n",
    "        # keep 10 time‐steps per channel\n",
    "        self.global_pool = nn.AdaptiveAvgPool1d(10)  \n",
    "        self.classifier = nn.Sequential(\n",
    "            nn.Flatten(),                      # [batch, 64*10 = 640]\n",
    "            nn.Linear(64*10, 256),\n",
    "            nn.ReLU(),\n",
    "            nn.Dropout(0.5),\n",
    "            nn.Linear(256, num_classes),\n",
    "        )\n",
    "\n",
    "    def forward(self, x):\n",
    "        x = self.conv(x)\n",
    "        x = self.global_pool(x)\n",
    "        return self.classifier(x)\n",
    "\n",
    "\n",
    "\n",
    "model = RawCNNVarLen10(num_classes=5).to(device)\n",
    "\n",
    "# Loss and optimizer:\n",
    "criterion = nn.CrossEntropyLoss()\n",
    "optimizer = optim.Adam(model.parameters(), lr=1e-3)\n",
    "\n"
   ]
  },
  {
   "cell_type": "code",
   "execution_count": 55,
   "id": "8222ae8c",
   "metadata": {},
   "outputs": [],
   "source": [
    "def run_epoch(loader, train=True):\n",
    "    if train:\n",
    "        model.train()\n",
    "    else:\n",
    "        model.eval()\n",
    "\n",
    "    total_loss = correct = total = 0\n",
    "    with torch.set_grad_enabled(train):\n",
    "        for X, y in loader:\n",
    "            logits = model(X)\n",
    "            loss   = criterion(logits, y)\n",
    "            if train:\n",
    "                optimizer.zero_grad()\n",
    "                loss.backward()\n",
    "                optimizer.step()\n",
    "            total_loss += loss.item() * X.size(0)\n",
    "            preds = logits.argmax(dim=1)\n",
    "            correct += (preds == y).sum().item()\n",
    "            total   += X.size(0)\n",
    "    return total_loss/total, correct/total\n"
   ]
  },
  {
   "cell_type": "markdown",
   "id": "cb5b92f4",
   "metadata": {},
   "source": [
    "### Training loop"
   ]
  },
  {
   "cell_type": "code",
   "execution_count": 56,
   "id": "308d2c1b",
   "metadata": {},
   "outputs": [
    {
     "name": "stdout",
     "output_type": "stream",
     "text": [
      "Epoch 01 | Train Loss: 1.6039, Acc: 0.2498 | Test  Loss: 1.6442, Acc: 0.2114\n",
      "Epoch 02 | Train Loss: 1.5569, Acc: 0.2884 | Test  Loss: 1.7048, Acc: 0.2215\n",
      "Epoch 03 | Train Loss: 1.5360, Acc: 0.2824 | Test  Loss: 1.6881, Acc: 0.1711\n",
      "Epoch 04 | Train Loss: 1.5256, Acc: 0.3057 | Test  Loss: 1.7248, Acc: 0.2047\n",
      "Epoch 05 | Train Loss: 1.5125, Acc: 0.2982 | Test  Loss: 1.7454, Acc: 0.1913\n",
      "Epoch 06 | Train Loss: 1.4968, Acc: 0.3181 | Test  Loss: 1.8133, Acc: 0.1846\n",
      "Epoch 07 | Train Loss: 1.4859, Acc: 0.3222 | Test  Loss: 1.8212, Acc: 0.1812\n",
      "Epoch 08 | Train Loss: 1.4782, Acc: 0.3225 | Test  Loss: 1.8326, Acc: 0.1946\n",
      "Epoch 09 | Train Loss: 1.4830, Acc: 0.3272 | Test  Loss: 1.7899, Acc: 0.1745\n",
      "Epoch 10 | Train Loss: 1.4639, Acc: 0.3335 | Test  Loss: 1.8084, Acc: 0.2013\n"
     ]
    }
   ],
   "source": [
    "num_epochs = 10\n",
    "\n",
    "for epoch in range(1, num_epochs + 1):\n",
    "    tl, ta = run_epoch(train_loader, train=True)\n",
    "    sl, sa = run_epoch(test_loader,  train=False)  \n",
    "    print(f\"Epoch {epoch:02d} | \"\n",
    "          f\"Train Loss: {tl:.4f}, Acc: {ta:.4f} | \"\n",
    "          f\"Test  Loss: {sl:.4f}, Acc: {sa:.4f}\")\n",
    "\n"
   ]
  },
  {
   "cell_type": "markdown",
   "id": "9218ef6c",
   "metadata": {},
   "source": [
    "-------------------"
   ]
  },
  {
   "cell_type": "code",
   "execution_count": 43,
   "id": "71ac2709",
   "metadata": {},
   "outputs": [
    {
     "name": "stdout",
     "output_type": "stream",
     "text": [
      "Train labels: tensor([740, 626, 564, 754, 482])\n",
      "Test  labels: tensor([54, 58, 65, 62, 59])\n"
     ]
    }
   ],
   "source": [
    "import torch\n",
    "print(\"Train labels:\", torch.bincount(torch.tensor([y for _,y in train_ds])))\n",
    "print(\"Test  labels:\", torch.bincount(torch.tensor([y for _,y in test_ds])))\n",
    "\n"
   ]
  },
  {
   "cell_type": "markdown",
   "id": "c5378aec",
   "metadata": {},
   "source": [
    "-------"
   ]
  },
  {
   "cell_type": "markdown",
   "id": "cda5ac0a",
   "metadata": {},
   "source": [
    "## Task 1.2b"
   ]
  },
  {
   "cell_type": "markdown",
   "id": "03310379",
   "metadata": {},
   "source": [
    "### Importing and assigning transformation from torchaudio"
   ]
  },
  {
   "cell_type": "code",
   "execution_count": 71,
   "id": "573f6776",
   "metadata": {},
   "outputs": [],
   "source": [
    "import torchaudio.transforms as T\n",
    "\n",
    "\n",
    "mfcc_transform = T.MFCC(\n",
    "    sample_rate=16000,\n",
    "    n_mfcc=40,            # common choice: 13–40 coefficients\n",
    "    melkwargs={\n",
    "        \"n_fft\": 400,      # 25 ms window @16 kHz\n",
    "        \"hop_length\": 160, # 10 ms hop\n",
    "        \"n_mels\": 64\n",
    "    }\n",
    ")\n"
   ]
  },
  {
   "cell_type": "markdown",
   "id": "a35bd581",
   "metadata": {},
   "source": [
    "### New MFCCdataset class (like the AccentDataset class, but now for MFCC)"
   ]
  },
  {
   "cell_type": "code",
   "execution_count": 72,
   "id": "ebde6196",
   "metadata": {},
   "outputs": [],
   "source": [
    "class MFCCDataset(Dataset):\n",
    "    def __init__(\n",
    "        self,\n",
    "        data_dir,\n",
    "        transform,\n",
    "        num_classes=5,\n",
    "        sample_rate=16000,\n",
    "        max_length=16000\n",
    "    ):\n",
    "        self.transform    = transform\n",
    "        self.num_classes  = num_classes\n",
    "        self.sample_rate  = sample_rate\n",
    "        self.max_length   = max_length\n",
    "        self.files        = []\n",
    "        for root, _, fns in os.walk(data_dir):\n",
    "            for fn in sorted(fns):\n",
    "                if not fn.lower().endswith('.wav'):\n",
    "                    continue\n",
    "                lbl = int(fn[0]) - 1\n",
    "                if 0 <= lbl < num_classes:\n",
    "                    self.files.append((os.path.join(root, fn), lbl))\n",
    "\n",
    "    def __len__(self):\n",
    "        return len(self.files)\n",
    "\n",
    "    def __getitem__(self, idx):\n",
    "        path, label = self.files[idx]\n",
    "        wav, sr = torchaudio.load(path)\n",
    "        # resample if needed\n",
    "        if sr != self.sample_rate:\n",
    "            wav = T.Resample(sr, self.sample_rate)(wav)\n",
    "        wav = wav.mean(dim=0, keepdim=True)      # mono\n",
    "\n",
    "        # pad or truncate waveform → fixed max_length\n",
    "        if wav.size(1) < self.max_length:\n",
    "            pad = self.max_length - wav.size(1)\n",
    "            wav = nn.functional.pad(wav, (0, pad))\n",
    "        else:\n",
    "            wav = wav[:, :self.max_length]\n",
    "\n",
    "        # now transform to MFCC → all outputs share same T\n",
    "        mfcc = self.transform(wav)               # [1, n_mfcc, T_fixed]\n",
    "        # per–feature normalization\n",
    "        mfcc = (mfcc - mfcc.mean(dim=-1,keepdim=True)) / (\n",
    "               mfcc.std(dim=-1, keepdim=True) + 1e-5)\n",
    "\n",
    "        return mfcc.to(device), torch.tensor(label, device=device)\n"
   ]
  },
  {
   "cell_type": "markdown",
   "id": "ec1b0ac7",
   "metadata": {},
   "source": [
    "### MFCC Dataloaders\n"
   ]
  },
  {
   "cell_type": "code",
   "execution_count": 74,
   "id": "52ad51e6",
   "metadata": {},
   "outputs": [],
   "source": [
    "\n",
    "mfcc_train_ds = MFCCDataset(\n",
    "    'Train',\n",
    "    transform=mfcc_transform,\n",
    "    num_classes=5,\n",
    "    max_length=16000\n",
    ")\n",
    "mfcc_test_ds = MFCCDataset(\n",
    "    'Test set',\n",
    "    transform=mfcc_transform,\n",
    "    num_classes=5,\n",
    "    max_length=16000\n",
    ")\n",
    "\n",
    "mfcc_train_loader = DataLoader(\n",
    "    mfcc_train_ds,\n",
    "    batch_size=32,\n",
    "    shuffle=True\n",
    ")\n",
    "mfcc_test_loader = DataLoader(\n",
    "    mfcc_test_ds,\n",
    "    batch_size=32\n",
    ")\n",
    "\n"
   ]
  },
  {
   "cell_type": "markdown",
   "id": "500986f5",
   "metadata": {},
   "source": [
    "### 2D CNN"
   ]
  },
  {
   "cell_type": "code",
   "execution_count": 79,
   "id": "c5fd0778",
   "metadata": {},
   "outputs": [],
   "source": [
    "import math\n",
    "\n",
    "class MFCC_CNN(nn.Module):\n",
    "    def __init__(self, num_classes=5, n_mfcc=40, hop_length=160, max_length=16000):\n",
    "        super().__init__()\n",
    "        # 2×2 pooling twice on both axes\n",
    "        self.features = nn.Sequential(\n",
    "            nn.Conv2d(1, 16, kernel_size=3, padding=1),\n",
    "            nn.BatchNorm2d(16), nn.ReLU(),\n",
    "            nn.MaxPool2d((2,2)),\n",
    "            nn.Conv2d(16, 32, kernel_size=3, padding=1),\n",
    "            nn.BatchNorm2d(32), nn.ReLU(),\n",
    "            nn.MaxPool2d((2,2)),\n",
    "            # output shape: [B, 32, freq_dim=10, time_dim=25]\n",
    "        )\n",
    "        freq_dim = n_mfcc // 4             # 40//4=10\n",
    "        time_steps = math.ceil(max_length/hop_length) // 4  # 100//4=25\n",
    "        flat_size = 32 * freq_dim * time_steps  # 32*10*25=8000\n",
    "\n",
    "        self.classifier = nn.Sequential(\n",
    "            nn.Flatten(),\n",
    "            nn.Linear(flat_size, 128),\n",
    "            nn.ReLU(),\n",
    "            nn.Dropout(0.5),\n",
    "            nn.Linear(128, num_classes),\n",
    "        )\n",
    "\n",
    "    def forward(self, x):\n",
    "        x = self.features(x)\n",
    "        return self.classifier(x)\n",
    "\n",
    "# re-instantiate your MFCC model\n",
    "mfcc_model = MFCC_CNN(num_classes=5).to(device)\n"
   ]
  },
  {
   "cell_type": "markdown",
   "id": "46ab1f42",
   "metadata": {},
   "source": [
    "### Train/test loop"
   ]
  },
  {
   "cell_type": "code",
   "execution_count": 80,
   "id": "d8f9b3ab",
   "metadata": {},
   "outputs": [
    {
     "name": "stdout",
     "output_type": "stream",
     "text": [
      "[MFCC] Epoch 01 | Train Acc: 0.2277 | Test Acc: 0.2081\n",
      "[MFCC] Epoch 02 | Train Acc: 0.2401 | Test Acc: 0.2114\n",
      "[MFCC] Epoch 03 | Train Acc: 0.2394 | Test Acc: 0.2081\n",
      "[MFCC] Epoch 04 | Train Acc: 0.2527 | Test Acc: 0.2047\n",
      "[MFCC] Epoch 05 | Train Acc: 0.2865 | Test Acc: 0.2047\n",
      "[MFCC] Epoch 06 | Train Acc: 0.3013 | Test Acc: 0.2114\n",
      "[MFCC] Epoch 07 | Train Acc: 0.3092 | Test Acc: 0.2215\n",
      "[MFCC] Epoch 08 | Train Acc: 0.2944 | Test Acc: 0.1980\n",
      "[MFCC] Epoch 09 | Train Acc: 0.3159 | Test Acc: 0.2114\n",
      "[MFCC] Epoch 10 | Train Acc: 0.3099 | Test Acc: 0.2215\n"
     ]
    }
   ],
   "source": [
    "\n",
    "criterion    = nn.CrossEntropyLoss()\n",
    "mfcc_optimizer = optim.Adam(mfcc_model.parameters(), lr=1e-3)\n",
    "\n",
    "def run_mfcc_epoch(loader, train=True):\n",
    "    model = mfcc_model\n",
    "    model.train() if train else model.eval()\n",
    "    total_loss = correct = total = 0\n",
    "    with torch.set_grad_enabled(train):\n",
    "        for X, y in loader:\n",
    "            logits = model(X)\n",
    "            loss   = criterion(logits, y)\n",
    "            if train:\n",
    "                mfcc_optimizer.zero_grad()\n",
    "                loss.backward()\n",
    "                mfcc_optimizer.step()\n",
    "            total_loss += loss.item() * X.size(0)\n",
    "            correct    += (logits.argmax(1) == y).sum().item()\n",
    "            total      += X.size(0)\n",
    "    return total_loss/total, correct/total\n",
    "\n",
    "for epoch in range(1, 11):\n",
    "    tr_l, tr_a = run_mfcc_epoch(mfcc_train_loader, train=True)\n",
    "    te_l, te_a = run_mfcc_epoch(mfcc_test_loader,  train=False)\n",
    "    print(f\"[MFCC] Epoch {epoch:02d} | Train Acc: {tr_a:.4f} | Test Acc: {te_a:.4f}\")\n"
   ]
  },
  {
   "cell_type": "markdown",
   "id": "2b139dfd",
   "metadata": {},
   "source": []
  }
 ],
 "metadata": {
  "kernelspec": {
   "display_name": "base",
   "language": "python",
   "name": "python3"
  },
  "language_info": {
   "codemirror_mode": {
    "name": "ipython",
    "version": 3
   },
   "file_extension": ".py",
   "mimetype": "text/x-python",
   "name": "python",
   "nbconvert_exporter": "python",
   "pygments_lexer": "ipython3",
   "version": "3.11.5"
  }
 },
 "nbformat": 4,
 "nbformat_minor": 5
}
