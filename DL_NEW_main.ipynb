{
 "cells": [
  {
   "cell_type": "markdown",
   "id": "1875b3c1",
   "metadata": {},
   "source": [
    "# Deep Learning assignment\n",
    "\n",
    "## Imports"
   ]
  },
  {
   "cell_type": "code",
   "execution_count": 36,
   "id": "cac379ea",
   "metadata": {},
   "outputs": [
    {
     "name": "stdout",
     "output_type": "stream",
     "text": [
      "Using device: mps\n"
     ]
    }
   ],
   "source": [
    "import os\n",
    "import torch\n",
    "import torchaudio\n",
    "from torch.utils.data import Dataset, DataLoader\n",
    "import torch.nn as nn\n",
    "import torch.optim as optim\n",
    "\n",
    "# Use MPS on Apple Silicon if available\n",
    "device = torch.device(\"mps\") if torch.backends.mps.is_available() else torch.device(\"cpu\")\n",
    "print(f\"Using device: {device}\")\n"
   ]
  },
  {
   "cell_type": "markdown",
   "id": "66954fa6",
   "metadata": {},
   "source": [
    "----------------------"
   ]
  },
  {
   "cell_type": "markdown",
   "id": "7cf823d6",
   "metadata": {},
   "source": [
    "## Exploring the dataset"
   ]
  },
  {
   "cell_type": "code",
   "execution_count": 44,
   "id": "e11a1cd7",
   "metadata": {},
   "outputs": [],
   "source": [
    "class AccentDataset(Dataset):\n",
    "    def __init__(self, data_dir, sample_rate=16000, max_length=16000, num_classes=5):\n",
    "        self.sample_rate = sample_rate\n",
    "        self.max_length  = max_length\n",
    "        self.num_classes = num_classes\n",
    "        self.files = []\n",
    "\n",
    "        for root, _, fns in os.walk(data_dir):\n",
    "            for fn in sorted(fns):\n",
    "                if not fn.lower().endswith('.wav'):\n",
    "                    continue\n",
    "                label = int(fn[0]) - 1\n",
    "                # keep only accents 1–5 → labels 0–4\n",
    "                if 0 <= label < self.num_classes:\n",
    "                    self.files.append(os.path.join(root, fn))\n",
    "\n",
    "    def __len__(self):\n",
    "        return len(self.files)\n",
    "\n",
    "    def __getitem__(self, idx):\n",
    "        path = self.files[idx]\n",
    "        waveform, sr = torchaudio.load(path)\n",
    "        if sr != self.sample_rate:\n",
    "            waveform = torchaudio.transforms.Resample(sr, self.sample_rate)(waveform)\n",
    "        waveform = waveform.mean(dim=0, keepdim=True)  # mono\n",
    "        if waveform.size(1) < self.max_length:\n",
    "            pad = self.max_length - waveform.size(1)\n",
    "            waveform = nn.functional.pad(waveform, (0, pad))\n",
    "        else:\n",
    "            waveform = waveform[:, :self.max_length]\n",
    "        waveform = (waveform - waveform.mean()) / (waveform.std() + 1e-5)\n",
    "        label = int(os.path.basename(path)[0]) - 1\n",
    "        return waveform.to(device), torch.tensor(label, dtype=torch.long, device=device)\n"
   ]
  },
  {
   "cell_type": "code",
   "execution_count": 45,
   "id": "fb683cb0",
   "metadata": {},
   "outputs": [],
   "source": [
    "train_dir = 'Train'        \n",
    "test_dir  = 'Test set'     \n",
    "\n",
    "train_ds     = AccentDataset(train_dir,  num_classes=5)\n",
    "test_ds      = AccentDataset(test_dir,   num_classes=5)\n",
    "train_loader = DataLoader(train_ds, batch_size=32, shuffle=True)\n",
    "test_loader  = DataLoader(test_ds,  batch_size=32)"
   ]
  },
  {
   "cell_type": "code",
   "execution_count": 46,
   "id": "556ad2bd",
   "metadata": {},
   "outputs": [
    {
     "name": "stdout",
     "output_type": "stream",
     "text": [
      "Total train files: 3166\n",
      "Duration (s): min=1.67, max=12.97, mean=5.26, median=5.04\n",
      "Accent distribution: Counter({4: 754, 1: 740, 2: 626, 3: 564, 5: 482})\n",
      "Gender distribution: Counter({'f': 1639, 'm': 1527})\n"
     ]
    }
   ],
   "source": [
    "import os\n",
    "import torchaudio\n",
    "import numpy as np\n",
    "from collections import Counter\n",
    "\n",
    "\n",
    "durations = []\n",
    "accents   = []\n",
    "genders   = []\n",
    "\n",
    "for path in train_ds.files:\n",
    "    info = torchaudio.info(path)\n",
    "    dur = info.num_frames / info.sample_rate\n",
    "    durations.append(dur)\n",
    "    fn = os.path.basename(path)\n",
    "    accents.append(int(fn[0]))\n",
    "    genders.append(fn[1])\n",
    "\n",
    "# 2) Print stats\n",
    "print(f\"Total train files: {len(durations)}\")\n",
    "print(f\"Duration (s): min={min(durations):.2f}, max={max(durations):.2f}, \"\n",
    "      f\"mean={np.mean(durations):.2f}, median={np.median(durations):.2f}\")\n",
    "\n",
    "print(\"Accent distribution:\", Counter(accents))\n",
    "print(\"Gender distribution:\", Counter(genders))\n"
   ]
  },
  {
   "cell_type": "code",
   "execution_count": 47,
   "id": "832f9b8a",
   "metadata": {},
   "outputs": [
    {
     "name": "stdout",
     "output_type": "stream",
     "text": [
      "Axes(0.125,0.11;0.775x0.77)\n",
      "gender    f    m\n",
      "accent          \n",
      "1       520  220\n",
      "2       287  339\n",
      "3       242  322\n",
      "4       357  397\n",
      "5       233  249\n"
     ]
    },
    {
     "data": {
      "image/png": "[encoded data removed]",
      "text/plain": [
       "<Figure size 640x480 with 1 Axes>"
      ]
     },
     "metadata": {},
     "output_type": "display_data"
    }
   ],
   "source": [
    "import pandas as pd\n",
    "\n",
    "df = pd.DataFrame({\n",
    "    \"duration\": durations,\n",
    "    \"accent\":   accents,\n",
    "    \"gender\":   genders,\n",
    "})\n",
    "\n",
    "\n",
    "print(df.duration.hist(bins=10))\n",
    "\n",
    "\n",
    "print(df.groupby([\"accent\",\"gender\"]).size().unstack(fill_value=0))\n"
   ]
  },
  {
   "cell_type": "markdown",
   "id": "e8b69ee2",
   "metadata": {},
   "source": [
    "-----"
   ]
  },
  {
   "cell_type": "markdown",
   "id": "b32f4ec3",
   "metadata": {},
   "source": [
    "## Dataset import/definitions"
   ]
  },
  {
   "cell_type": "code",
   "execution_count": 37,
   "id": "25f02b84",
   "metadata": {},
   "outputs": [],
   "source": [
    "class AccentDataset(Dataset):\n",
    "    def __init__(self, data_dir, sample_rate=16000, max_length=16000, num_classes=5):\n",
    "        self.sample_rate = sample_rate\n",
    "        self.max_length  = max_length\n",
    "        self.num_classes = num_classes\n",
    "        self.files = []\n",
    "\n",
    "        for root, _, fns in os.walk(data_dir):\n",
    "            for fn in sorted(fns):\n",
    "                if not fn.lower().endswith('.wav'):\n",
    "                    continue\n",
    "                label = int(fn[0]) - 1\n",
    "                # keep only accents 1–5 → labels 0–4\n",
    "                if 0 <= label < self.num_classes:\n",
    "                    self.files.append(os.path.join(root, fn))\n",
    "\n",
    "    def __len__(self):\n",
    "        return len(self.files)\n",
    "\n",
    "    def __getitem__(self, idx):\n",
    "        path = self.files[idx]\n",
    "        waveform, sr = torchaudio.load(path)\n",
    "        if sr != self.sample_rate:\n",
    "            waveform = torchaudio.transforms.Resample(sr, self.sample_rate)(waveform)\n",
    "        waveform = waveform.mean(dim=0, keepdim=True)  # mono\n",
    "        if waveform.size(1) < self.max_length:\n",
    "            pad = self.max_length - waveform.size(1)\n",
    "            waveform = nn.functional.pad(waveform, (0, pad))\n",
    "        else:\n",
    "            waveform = waveform[:, :self.max_length]\n",
    "        waveform = (waveform - waveform.mean()) / (waveform.std() + 1e-5)\n",
    "        label = int(os.path.basename(path)[0]) - 1\n",
    "        return waveform.to(device), torch.tensor(label, dtype=torch.long, device=device)\n"
   ]
  },
  {
   "cell_type": "markdown",
   "id": "09fcd637",
   "metadata": {},
   "source": [
    "------"
   ]
  },
  {
   "cell_type": "markdown",
   "id": "7e2b8398",
   "metadata": {},
   "source": [
    "## Dataloaders\n",
    "\n",
    "The dataloaders are used for..."
   ]
  },
  {
   "cell_type": "code",
   "execution_count": 38,
   "id": "55d49fcb",
   "metadata": {},
   "outputs": [],
   "source": [
    "train_dir = 'Train'        \n",
    "test_dir  = 'Test set'     \n",
    "\n",
    "train_ds     = AccentDataset(train_dir,  num_classes=5)\n",
    "test_ds      = AccentDataset(test_dir,   num_classes=5)\n",
    "train_loader = DataLoader(train_ds, batch_size=32, shuffle=True)\n",
    "test_loader  = DataLoader(test_ds,  batch_size=32)\n"
   ]
  },
  {
   "cell_type": "markdown",
   "id": "9a6fee6a",
   "metadata": {},
   "source": [
    "---------"
   ]
  },
  {
   "cell_type": "markdown",
   "id": "a33ba5a9",
   "metadata": {},
   "source": [
    "## Model - CNN (task 1.2a)"
   ]
  },
  {
   "cell_type": "code",
   "execution_count": 54,
   "id": "52c126d0",
   "metadata": {},
   "outputs": [],
   "source": [
    "# class RawCNN(nn.Module):\n",
    "#     def __init__(self, num_classes=5, max_length=16000):\n",
    "#         super().__init__()\n",
    "#         self.conv = nn.Sequential(\n",
    "#             nn.Conv1d(1, 16, kernel_size=5, padding=2),\n",
    "#             nn.ReLU(),\n",
    "#             nn.MaxPool1d(2),\n",
    "#             nn.Conv1d(16, 32, kernel_size=5, padding=2),\n",
    "#             nn.ReLU(),\n",
    "#             nn.MaxPool1d(2),\n",
    "#         )\n",
    "#         reduced = max_length // 4  # two poolings of 2\n",
    "#         self.fc = nn.Sequential(\n",
    "#             nn.Flatten(),\n",
    "#             nn.Linear(32 * reduced, 128),\n",
    "#             nn.ReLU(),\n",
    "#             nn.Dropout(0.5),\n",
    "#             nn.Linear(128, num_classes),\n",
    "#         )\n",
    "\n",
    "#     def forward(self, x):\n",
    "#         return self.fc(self.conv(x))\n",
    "\n",
    "# model = RawCNN(num_classes=5, max_length=train_ds.max_length).to(device)\n",
    "\n",
    "class RawCNNVarLen10(nn.Module):\n",
    "    def __init__(self, num_classes=5):\n",
    "        super().__init__()\n",
    "        self.conv = nn.Sequential(\n",
    "            nn.Conv1d(1, 32, kernel_size=5, padding=2),\n",
    "            nn.BatchNorm1d(32), nn.ReLU(),\n",
    "            nn.MaxPool1d(2),\n",
    "            nn.Conv1d(32, 64, kernel_size=5, padding=2),\n",
    "            nn.BatchNorm1d(64), nn.ReLU(),\n",
    "            nn.MaxPool1d(2),\n",
    "        )\n",
    "        # keep 10 time‐steps per channel\n",
    "        self.global_pool = nn.AdaptiveAvgPool1d(10)  \n",
    "        self.classifier = nn.Sequential(\n",
    "            nn.Flatten(),                      # [batch, 64*10 = 640]\n",
    "            nn.Linear(64*10, 256),\n",
    "            nn.ReLU(),\n",
    "            nn.Dropout(0.5),\n",
    "            nn.Linear(256, num_classes),\n",
    "        )\n",
    "\n",
    "    def forward(self, x):\n",
    "        x = self.conv(x)\n",
    "        x = self.global_pool(x)\n",
    "        return self.classifier(x)\n",
    "\n",
    "\n",
    "\n",
    "model = RawCNNVarLen10(num_classes=5).to(device)\n",
    "\n",
    "# Loss and optimizer:\n",
    "criterion = nn.CrossEntropyLoss()\n",
    "optimizer = optim.Adam(model.parameters(), lr=1e-3)\n",
    "\n"
   ]
  },
  {
   "cell_type": "code",
   "execution_count": 55,
   "id": "8222ae8c",
   "metadata": {},
   "outputs": [],
   "source": [
    "def run_epoch(loader, train=True):\n",
    "    if train:\n",
    "        model.train()\n",
    "    else:\n",
    "        model.eval()\n",
    "\n",
    "    total_loss = correct = total = 0\n",
    "    with torch.set_grad_enabled(train):\n",
    "        for X, y in loader:\n",
    "            logits = model(X)\n",
    "            loss   = criterion(logits, y)\n",
    "            if train:\n",
    "                optimizer.zero_grad()\n",
    "                loss.backward()\n",
    "                optimizer.step()\n",
    "            total_loss += loss.item() * X.size(0)\n",
    "            preds = logits.argmax(dim=1)\n",
    "            correct += (preds == y).sum().item()\n",
    "            total   += X.size(0)\n",
    "    return total_loss/total, correct/total\n"
   ]
  },
  {
   "cell_type": "markdown",
   "id": "cb5b92f4",
   "metadata": {},
   "source": [
    "### Training loop"
   ]
  },
  {
   "cell_type": "code",
   "execution_count": 56,
   "id": "308d2c1b",
   "metadata": {},
   "outputs": [
    {
     "name": "stdout",
     "output_type": "stream",
     "text": [
      "Epoch 01 | Train Loss: 1.6039, Acc: 0.2498 | Test  Loss: 1.6442, Acc: 0.2114\n",
      "Epoch 02 | Train Loss: 1.5569, Acc: 0.2884 | Test  Loss: 1.7048, Acc: 0.2215\n",
      "Epoch 03 | Train Loss: 1.5360, Acc: 0.2824 | Test  Loss: 1.6881, Acc: 0.1711\n",
      "Epoch 04 | Train Loss: 1.5256, Acc: 0.3057 | Test  Loss: 1.7248, Acc: 0.2047\n",
      "Epoch 05 | Train Loss: 1.5125, Acc: 0.2982 | Test  Loss: 1.7454, Acc: 0.1913\n",
      "Epoch 06 | Train Loss: 1.4968, Acc: 0.3181 | Test  Loss: 1.8133, Acc: 0.1846\n",
      "Epoch 07 | Train Loss: 1.4859, Acc: 0.3222 | Test  Loss: 1.8212, Acc: 0.1812\n",
      "Epoch 08 | Train Loss: 1.4782, Acc: 0.3225 | Test  Loss: 1.8326, Acc: 0.1946\n",
      "Epoch 09 | Train Loss: 1.4830, Acc: 0.3272 | Test  Loss: 1.7899, Acc: 0.1745\n",
      "Epoch 10 | Train Loss: 1.4639, Acc: 0.3335 | Test  Loss: 1.8084, Acc: 0.2013\n"
     ]
    }
   ],
   "source": [
    "num_epochs = 10\n",
    "\n",
    "for epoch in range(1, num_epochs + 1):\n",
    "    tl, ta = run_epoch(train_loader, train=True)\n",
    "    sl, sa = run_epoch(test_loader,  train=False)  \n",
    "    print(f\"Epoch {epoch:02d} | \"\n",
    "          f\"Train Loss: {tl:.4f}, Acc: {ta:.4f} | \"\n",
    "          f\"Test  Loss: {sl:.4f}, Acc: {sa:.4f}\")\n",
    "\n"
   ]
  },
  {
   "cell_type": "markdown",
   "id": "9218ef6c",
   "metadata": {},
   "source": [
    "-------------------"
   ]
  },
  {
   "cell_type": "code",
   "execution_count": 43,
   "id": "71ac2709",
   "metadata": {},
   "outputs": [
    {
     "name": "stdout",
     "output_type": "stream",
     "text": [
      "Train labels: tensor([740, 626, 564, 754, 482])\n",
      "Test  labels: tensor([54, 58, 65, 62, 59])\n"
     ]
    }
   ],
   "source": [
    "import torch\n",
    "print(\"Train labels:\", torch.bincount(torch.tensor([y for _,y in train_ds])))\n",
    "print(\"Test  labels:\", torch.bincount(torch.tensor([y for _,y in test_ds])))\n",
    "\n"
   ]
  },
  {
   "cell_type": "markdown",
   "id": "c5378aec",
   "metadata": {},
   "source": []
  }
 ],
 "metadata": {
  "kernelspec": {
   "display_name": "base",
   "language": "python",
   "name": "python3"
  },
  "language_info": {
   "codemirror_mode": {
    "name": "ipython",
    "version": 3
   },
   "file_extension": ".py",
   "mimetype": "text/x-python",
   "name": "python",
   "nbconvert_exporter": "python",
   "pygments_lexer": "ipython3",
   "version": "3.11.5"
  }
 },
 "nbformat": 4,
 "nbformat_minor": 5
}
