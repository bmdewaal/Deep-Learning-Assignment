{
 "cells": [
  {
   "cell_type": "markdown",
   "id": "1875b3c1",
   "metadata": {},
   "source": [
    "# Deep Learning assignment\n",
    "\n",
    "## Imports"
   ]
  },
  {
   "cell_type": "code",
   "execution_count": 1,
   "id": "cac379ea",
   "metadata": {},
   "outputs": [
    {
     "name": "stdout",
     "output_type": "stream",
     "text": [
      "Using device: mps\n"
     ]
    }
   ],
   "source": [
    "import os\n",
    "import torch\n",
    "import torchaudio\n",
    "from torch.utils.data import Dataset, DataLoader\n",
    "import torch.nn as nn\n",
    "import torch.optim as optim\n",
    "\n",
    "\n",
    "device = torch.device(\"mps\") if torch.backends.mps.is_available() else torch.device(\"cpu\")\n",
    "print(f\"Using device: {device}\")\n"
   ]
  },
  {
   "cell_type": "markdown",
   "id": "66954fa6",
   "metadata": {},
   "source": [
    "----------------------"
   ]
  },
  {
   "cell_type": "markdown",
   "id": "b32f4ec3",
   "metadata": {},
   "source": [
    "## Dataset import/definitions"
   ]
  },
  {
   "cell_type": "code",
   "execution_count": 2,
   "id": "a2b966be",
   "metadata": {},
   "outputs": [],
   "source": [
    "class AccentDataset(Dataset):\n",
    "    def __init__(self, data_dir, sample_rate=16000, max_length=16000):\n",
    "        self.sample_rate = sample_rate\n",
    "        self.max_length  = max_length\n",
    "        self.files = []\n",
    "        for root, _, fns in os.walk(data_dir):\n",
    "            for fn in sorted(fns):\n",
    "                if fn.lower().endswith('.wav'):\n",
    "                    self.files.append(os.path.join(root, fn))\n",
    "\n",
    "    def __len__(self):\n",
    "        return len(self.files)\n",
    "\n",
    "    def __getitem__(self, idx):\n",
    "        path = self.files[idx]\n",
    "        waveform, sr = torchaudio.load(path)\n",
    "\n",
    "        # Resample → mono → pad/truncate → standardize\n",
    "        if sr != self.sample_rate:\n",
    "            waveform = torchaudio.transforms.Resample(sr, self.sample_rate)(waveform)\n",
    "        waveform = waveform.mean(dim=0, keepdim=True)\n",
    "        if waveform.size(1) < self.max_length:\n",
    "            pad = self.max_length - waveform.size(1)\n",
    "            waveform = nn.functional.pad(waveform, (0, pad))\n",
    "        else:\n",
    "            waveform = waveform[:, :self.max_length]\n",
    "        waveform = (waveform - waveform.mean()) / (waveform.std() + 1e-5)\n",
    "\n",
    "        # Label from filename: '1...' → 0\n",
    "        label = int(os.path.basename(path)[0]) - 1\n",
    "        return waveform.to(device), torch.tensor(label, dtype=torch.long, device=device)\n"
   ]
  },
  {
   "cell_type": "markdown",
   "id": "09fcd637",
   "metadata": {},
   "source": [
    "------"
   ]
  },
  {
   "cell_type": "markdown",
   "id": "7e2b8398",
   "metadata": {},
   "source": [
    "## Dataloaders\n",
    "\n",
    "The dataloaders are used for..."
   ]
  },
  {
   "cell_type": "code",
   "execution_count": 3,
   "id": "55d49fcb",
   "metadata": {},
   "outputs": [],
   "source": [
    "train_dir = 'Train'       \n",
    "val_dir   = 'Test set'    \n",
    "\n",
    "train_ds = AccentDataset(train_dir)\n",
    "val_ds   = AccentDataset(val_dir)\n",
    "\n",
    "train_loader = DataLoader(train_ds, batch_size=32, shuffle=True)\n",
    "val_loader   = DataLoader(val_ds,   batch_size=32)\n"
   ]
  },
  {
   "cell_type": "markdown",
   "id": "9a6fee6a",
   "metadata": {},
   "source": [
    "---------"
   ]
  },
  {
   "cell_type": "markdown",
   "id": "a33ba5a9",
   "metadata": {},
   "source": [
    "## Model - CNN (task 1.2a)"
   ]
  },
  {
   "cell_type": "code",
   "execution_count": 5,
   "id": "52c126d0",
   "metadata": {},
   "outputs": [],
   "source": [
    "class RawCNN(nn.Module):\n",
    "    def __init__(self, num_classes=5, max_length=16000):\n",
    "        super().__init__()\n",
    "        self.conv = nn.Sequential(\n",
    "            nn.Conv1d(1, 16, kernel_size=5, padding=2),\n",
    "            nn.ReLU(),\n",
    "            nn.MaxPool1d(2),\n",
    "            nn.Conv1d(16, 32, kernel_size=5, padding=2),\n",
    "            nn.ReLU(),\n",
    "            nn.MaxPool1d(2),\n",
    "        )\n",
    "        reduced = max_length // 4  # two poolings of 2\n",
    "        self.fc = nn.Sequential(\n",
    "            nn.Flatten(),\n",
    "            nn.Linear(32 * reduced, 128),\n",
    "            nn.ReLU(),\n",
    "            nn.Dropout(0.5),\n",
    "            nn.Linear(128, num_classes),\n",
    "        )\n",
    "\n",
    "    def forward(self, x):\n",
    "        return self.fc(self.conv(x))\n",
    "\n",
    "model = RawCNN(num_classes=5, max_length=train_ds.max_length).to(device)\n",
    "\n",
    "# Model loss & optimizer\n",
    "criterion = nn.CrossEntropyLoss()\n",
    "optimizer = optim.Adam(model.parameters(), lr=1e-3)\n",
    "\n"
   ]
  },
  {
   "cell_type": "code",
   "execution_count": 6,
   "id": "8222ae8c",
   "metadata": {},
   "outputs": [],
   "source": [
    "# Training and validation functions\n",
    "def run_epoch(loader, train=True):\n",
    "    if train:\n",
    "        model.train()\n",
    "    else:\n",
    "        model.eval()\n",
    "\n",
    "    total_loss = correct = total = 0\n",
    "    with torch.set_grad_enabled(train):\n",
    "        for X, y in loader:\n",
    "            logits = model(X)\n",
    "            loss   = criterion(logits, y)\n",
    "\n",
    "            if train:\n",
    "                optimizer.zero_grad()\n",
    "                loss.backward()\n",
    "                optimizer.step()\n",
    "\n",
    "            total_loss += loss.item() * X.size(0)\n",
    "            preds = logits.argmax(dim=1)\n",
    "            correct += (preds == y).sum().item()\n",
    "            total   += X.size(0)\n",
    "\n",
    "    return total_loss/total, correct/total\n"
   ]
  },
  {
   "cell_type": "markdown",
   "id": "cb5b92f4",
   "metadata": {},
   "source": [
    "### Training loop"
   ]
  },
  {
   "cell_type": "code",
   "execution_count": 7,
   "id": "308d2c1b",
   "metadata": {},
   "outputs": [
    {
     "name": "stdout",
     "output_type": "stream",
     "text": [
      "Epoch 01 | Train Loss: 1.8444, Acc: 0.1936 | Val   Loss: 0.8418, Acc: 0.1084\n",
      "Epoch 02 | Train Loss: 1.5949, Acc: 0.2404 | Val   Loss: 0.8530, Acc: 0.0857\n",
      "Epoch 03 | Train Loss: 1.5665, Acc: 0.2669 | Val   Loss: 0.8704, Acc: 0.1058\n",
      "Epoch 04 | Train Loss: 1.5235, Acc: 0.2966 | Val   Loss: 0.8702, Acc: 0.0970\n",
      "Epoch 05 | Train Loss: 1.4037, Acc: 0.3664 | Val   Loss: 0.8782, Acc: 0.1075\n",
      "Epoch 06 | Train Loss: 1.2951, Acc: 0.4182 | Val   Loss: 0.8854, Acc: 0.1093\n",
      "Epoch 07 | Train Loss: 1.1433, Acc: 0.4978 | Val   Loss: 0.9450, Acc: 0.1233\n",
      "Epoch 08 | Train Loss: 0.9775, Acc: 0.5670 | Val   Loss: 0.9748, Acc: 0.1163\n",
      "Epoch 09 | Train Loss: 0.8912, Acc: 0.6124 | Val   Loss: 1.0344, Acc: 0.1329\n",
      "Epoch 10 | Train Loss: 0.7813, Acc: 0.6576 | Val   Loss: 1.0741, Acc: 0.1241\n"
     ]
    }
   ],
   "source": [
    "num_epochs = 10\n",
    "for epoch in range(1, num_epochs + 1):\n",
    "    tl, ta = run_epoch(train_loader, train=True)\n",
    "    vl, va = run_epoch(val_loader,   train=False)\n",
    "    print(f\"Epoch {epoch:02d} | \"\n",
    "          f\"Train Loss: {tl:.4f}, Acc: {ta:.4f} | \"\n",
    "          f\"Val   Loss: {vl:.4f}, Acc: {va:.4f}\")\n"
   ]
  },
  {
   "cell_type": "markdown",
   "id": "c5378aec",
   "metadata": {},
   "source": []
  }
 ],
 "metadata": {
  "kernelspec": {
   "display_name": "base",
   "language": "python",
   "name": "python3"
  },
  "language_info": {
   "codemirror_mode": {
    "name": "ipython",
    "version": 3
   },
   "file_extension": ".py",
   "mimetype": "text/x-python",
   "name": "python",
   "nbconvert_exporter": "python",
   "pygments_lexer": "ipython3",
   "version": "3.11.5"
  }
 },
 "nbformat": 4,
 "nbformat_minor": 5
}
