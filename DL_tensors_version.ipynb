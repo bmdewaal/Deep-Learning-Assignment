{
 "cells": [
  {
   "cell_type": "markdown",
   "id": "ad517c19",
   "metadata": {},
   "source": [
    "# Group assignment DL - Accent classification\n",
    "\n",
    "## Data pre-processing"
   ]
  },
  {
   "cell_type": "code",
   "execution_count": 1,
   "id": "bbd92b9a",
   "metadata": {},
   "outputs": [],
   "source": [
    "# %pip install torch\n",
    "# %pip install -r requirements.txt # uncomment when all required libraries are defined\n",
    "\n",
    "import os\n",
    "import pandas as pd\n",
    "import torch\n",
    "import torchaudio\n",
    "from torch.utils.data import Dataset, DataLoader\n",
    "import torch.nn.functional as F\n"
   ]
  },
  {
   "cell_type": "markdown",
   "id": "2e89f46c",
   "metadata": {},
   "source": [
    "-------------"
   ]
  },
  {
   "cell_type": "markdown",
   "id": "d0e48761",
   "metadata": {},
   "source": [
    "# Start here"
   ]
  },
  {
   "cell_type": "code",
   "execution_count": 61,
   "id": "075adf02",
   "metadata": {},
   "outputs": [],
   "source": [
    "def build_metadata(data_dir: str):\n",
    "    \"\"\"\n",
    "    Walk through data_dir and collect file paths, accents, and genders.\n",
    "    \"\"\"\n",
    "    records = []\n",
    "    for root, _, files in os.walk(data_dir):\n",
    "        for fname in sorted(files):\n",
    "            if fname.lower().endswith(\".wav\"):\n",
    "                path = os.path.join(root, fname)\n",
    "                accent = int(fname[0])          # '1'–'5'\n",
    "                gender = fname[1].lower()       # 'm' or 'f'\n",
    "                records.append({\"path\": path, \"accent\": accent, \"gender\": gender})\n",
    "    return pd.DataFrame(records)"
   ]
  },
  {
   "cell_type": "code",
   "execution_count": 62,
   "id": "97054ebb",
   "metadata": {},
   "outputs": [
    {
     "name": "stderr",
     "output_type": "stream",
     "text": [
      "/Users/bramdewaal/anaconda3/lib/python3.11/site-packages/torchaudio/functional/functional.py:584: UserWarning: At least one mel filterbank has all zero values. The value for `n_mels` (128) may be set too high. Or, the value for `n_freqs` (201) may be set too low.\n",
      "  warnings.warn(\n"
     ]
    },
    {
     "name": "stdout",
     "output_type": "stream",
     "text": [
      "Loaded 3166 audio samples' MFCCs and saved to 'audio_mfccs.pt'\n"
     ]
    }
   ],
   "source": [
    "import os\n",
    "import torchaudio\n",
    "import torch\n",
    "import torchaudio.transforms as T\n",
    "\n",
    "# Set target sample rate (e.g., 16000 Hz)\n",
    "target_sr = 16000\n",
    "\n",
    "# Directory containing the WAV files\n",
    "wav_dir = '/Users/bramdewaal/Desktop/Uni/VSC/Deep Learning/Assignment/Train'  # Replace with your directory path\n",
    "\n",
    "# Get list of WAV files in the directory\n",
    "wav_files = [os.path.join(wav_dir, f) for f in os.listdir(wav_dir) if f.endswith('.wav')]\n",
    "\n",
    "# Define MFCC transform\n",
    "mfcc_transform = T.MFCC(sample_rate=target_sr, n_mfcc=40)\n",
    "\n",
    "# Function to load and preprocess a single WAV file into MFCCs\n",
    "def load_and_preprocess(wav_path, target_sr, mfcc_transform):\n",
    "    # Load the WAV file\n",
    "    waveform, original_sr = torchaudio.load(wav_path)\n",
    "    \n",
    "    # Resample if the original sample rate differs from the target\n",
    "    if original_sr != target_sr:\n",
    "        resampler = T.Resample(original_sr, target_sr)\n",
    "        waveform = resampler(waveform)\n",
    "    \n",
    "    # Convert stereo to mono by averaging the channels\n",
    "    if waveform.shape[0] > 1:\n",
    "        waveform = waveform.mean(dim=0, keepdim=True)\n",
    "    # else, it's already (1, num_samples)\n",
    "    \n",
    "    # Apply MFCC transform\n",
    "    mfcc = mfcc_transform(waveform)  # shape: (1, num_mfcc, num_frames)\n",
    "    \n",
    "    # Squeeze the channel dimension and transpose\n",
    "    mfcc = mfcc.squeeze(0).T  # shape: (num_frames, num_mfcc)\n",
    "    \n",
    "    return mfcc\n",
    "\n",
    "# Load and preprocess all WAV files into a list of MFCC tensors\n",
    "audio_mfccs = [load_and_preprocess(wav_file, target_sr, mfcc_transform) for wav_file in wav_files]\n",
    "\n",
    "# Save the list of MFCC tensors to a file\n",
    "output_file = 'audio_mfccs.pt'\n",
    "torch.save(audio_mfccs, output_file)\n",
    "\n",
    "print(f\"Loaded {len(audio_mfccs)} audio samples' MFCCs and saved to '{output_file}'\")"
   ]
  },
  {
   "cell_type": "code",
   "execution_count": 63,
   "id": "8356cc8e",
   "metadata": {},
   "outputs": [
    {
     "name": "stdout",
     "output_type": "stream",
     "text": [
      "3166\n",
      "torch.Size([208, 40])\n",
      "torch.Size([335, 40])\n",
      "torch.Size([444, 40])\n",
      "torch.float32\n"
     ]
    }
   ],
   "source": [
    "print(len(audio_mfccs))\n",
    "print(audio_mfccs[0].shape)\n",
    "print(audio_mfccs[1].shape)\n",
    "print(audio_mfccs[2].shape)\n",
    "print(audio_mfccs[0].dtype)"
   ]
  },
  {
   "cell_type": "code",
   "execution_count": 64,
   "id": "f0b1a121",
   "metadata": {},
   "outputs": [
    {
     "name": "stdout",
     "output_type": "stream",
     "text": [
      "3166\n",
      "torch.Size([41400])\n",
      "torch.Size([66901])\n",
      "torch.Size([88746])\n",
      "torch.float32\n"
     ]
    }
   ],
   "source": [
    "audio_tensor = torch.load('audio_tensors.pt')\n",
    "\n",
    "print(len(audio_tensor))\n",
    "print(audio_tensor[0].shape)\n",
    "print(audio_tensor[1].shape)\n",
    "print(audio_tensor[2].shape)\n",
    "print(audio_tensor[0].dtype)"
   ]
  },
  {
   "cell_type": "code",
   "execution_count": 65,
   "id": "7708c1f0",
   "metadata": {},
   "outputs": [
    {
     "name": "stdout",
     "output_type": "stream",
     "text": [
      "                                                   path  accent gender\n",
      "0     /Users/bramdewaal/Desktop/Uni/VSC/Deep Learnin...       1      f\n",
      "1     /Users/bramdewaal/Desktop/Uni/VSC/Deep Learnin...       1      f\n",
      "2     /Users/bramdewaal/Desktop/Uni/VSC/Deep Learnin...       1      f\n",
      "3     /Users/bramdewaal/Desktop/Uni/VSC/Deep Learnin...       1      f\n",
      "4     /Users/bramdewaal/Desktop/Uni/VSC/Deep Learnin...       1      f\n",
      "...                                                 ...     ...    ...\n",
      "3161  /Users/bramdewaal/Desktop/Uni/VSC/Deep Learnin...       5      m\n",
      "3162  /Users/bramdewaal/Desktop/Uni/VSC/Deep Learnin...       5      m\n",
      "3163  /Users/bramdewaal/Desktop/Uni/VSC/Deep Learnin...       5      m\n",
      "3164  /Users/bramdewaal/Desktop/Uni/VSC/Deep Learnin...       5      m\n",
      "3165  /Users/bramdewaal/Desktop/Uni/VSC/Deep Learnin...       5      m\n",
      "\n",
      "[3166 rows x 3 columns]\n"
     ]
    }
   ],
   "source": [
    "wav_dir = '/Users/bramdewaal/Desktop/Uni/VSC/Deep Learning/Assignment/Train'\n",
    "\n",
    "\n",
    "df_meta = build_metadata(wav_dir)  \n",
    "print(df_meta) "
   ]
  },
  {
   "cell_type": "code",
   "execution_count": 76,
   "id": "de4af064",
   "metadata": {},
   "outputs": [
    {
     "name": "stdout",
     "output_type": "stream",
     "text": [
      "torch.Size([3166])\n",
      "torch.int64\n"
     ]
    }
   ],
   "source": [
    "import torch\n",
    "\n",
    "# Suppose df_meta['accent'] is [1, 3, 2, 5, …]\n",
    "all_accents = df_meta['accent'].tolist()\n",
    "\n",
    "# Convert to a torch.LongTensor\n",
    "labels = torch.tensor(all_accents, dtype=torch.long)\n",
    "\n",
    "\n",
    "\n",
    "print(labels.shape)   # → torch.Size([N])\n",
    "print(labels.dtype)   # → torch.int64\n",
    "\n"
   ]
  },
  {
   "cell_type": "code",
   "execution_count": 77,
   "id": "52816a58",
   "metadata": {},
   "outputs": [
    {
     "name": "stdout",
     "output_type": "stream",
     "text": [
      "mfcc_feats shape: torch.Size([3166, 1, 40, 160])\n",
      "labels  shape: torch.Size([3166])\n"
     ]
    }
   ],
   "source": [
    "import torch\n",
    "\n",
    "# ───────────────────────────────────────────────────\n",
    "# Build a 4D feature tensor \"mfcc_feats\" from audio_mfccs\n",
    "# ───────────────────────────────────────────────────\n",
    "\n",
    "# Assume:\n",
    "#   audio_mfccs : list of Tensors [num_frames, n_mfcc]\n",
    "#   labels      : LongTensor shape [N] with values 0–4\n",
    "\n",
    "max_frames = 160                   # number of time-frames per example\n",
    "n_mfcc     = audio_mfccs[0].shape[1]\n",
    "feat_list  = []\n",
    "\n",
    "for m in audio_mfccs:\n",
    "    # m: [num_frames, n_mfcc]\n",
    "    n_frames = m.size(0)\n",
    "\n",
    "    # pad or trim to max_frames\n",
    "    if n_frames < max_frames:\n",
    "        pad_amt = max_frames - n_frames\n",
    "        pad     = torch.zeros(pad_amt, n_mfcc)\n",
    "        m_proc  = torch.cat([m, pad], dim=0)\n",
    "    else:\n",
    "        m_proc = m[:max_frames]\n",
    "\n",
    "    # convert to shape [1, n_mfcc, max_frames]\n",
    "    #   transpose: [num_frames, n_mfcc] -> [n_mfcc, num_frames]\n",
    "    #   unsqueeze: add channel dim -> [1, n_mfcc, max_frames]\n",
    "    feat_list.append(m_proc.T.unsqueeze(0))\n",
    "\n",
    "# stack into [N, 1, n_mfcc, max_frames]\n",
    "mfcc_feats = torch.stack(feat_list, dim=0)\n",
    "\n",
    "print(\"mfcc_feats shape:\", mfcc_feats.shape)  # should be [N, 1, 40, 160]\n",
    "print(\"labels  shape:\", labels.shape)         # should be [N]"
   ]
  },
  {
   "cell_type": "code",
   "execution_count": 79,
   "id": "84a0f434",
   "metadata": {},
   "outputs": [
    {
     "name": "stdout",
     "output_type": "stream",
     "text": [
      "3166\n",
      "(tensor([[[-6.0048e+02, -6.0355e+02, -6.0355e+02,  ..., -6.0355e+02,\n",
      "          -6.0355e+02, -6.0355e+02],\n",
      "         [ 3.6145e+00,  2.4434e-05,  2.4434e-05,  ...,  2.4434e-05,\n",
      "           2.4434e-05,  2.4434e-05],\n",
      "         [ 2.1104e+00, -1.9695e-06, -1.9695e-06,  ..., -1.9695e-06,\n",
      "          -1.9695e-06, -1.9695e-06],\n",
      "         ...,\n",
      "         [ 4.9243e-01,  6.8209e-05,  6.8209e-05,  ...,  6.8209e-05,\n",
      "           6.8209e-05,  6.8209e-05],\n",
      "         [ 2.8180e-01, -1.6886e-04, -1.6886e-04,  ..., -1.6886e-04,\n",
      "          -1.6886e-04, -1.6886e-04],\n",
      "         [-4.7854e-01, -1.4969e-04, -1.4969e-04,  ..., -1.4969e-04,\n",
      "          -1.4969e-04, -1.4969e-04]]]), tensor(1))\n"
     ]
    }
   ],
   "source": [
    "from torch.utils.data import TensorDataset\n",
    "\n",
    "# Suppose `mfcc_feats` is your precomputed feature tensor of shape [N, 1, n_mfcc, T]\n",
    "# and `labels` is your LongTensor of shape [N] with values 0–4.\n",
    "\n",
    "dataset = TensorDataset(mfcc_feats, labels)\n",
    "print(dataset.__len__())\n",
    "print(dataset[0])"
   ]
  },
  {
   "cell_type": "code",
   "execution_count": 69,
   "id": "2f1e3add",
   "metadata": {},
   "outputs": [],
   "source": [
    "from torch.utils.data import TensorDataset, random_split, DataLoader\n",
    "\n",
    "# 1) Create the dataset\n",
    "full_ds = TensorDataset(mfcc_feats, labels)\n",
    "\n",
    "# 2) Split into train/val (80/20)\n",
    "N     = len(full_ds)\n",
    "n_val = int(0.2 * N)\n",
    "n_train = N - n_val\n",
    "train_ds, val_ds = random_split(full_ds, [n_train, n_val],\n",
    "                                generator=torch.Generator().manual_seed(42))\n",
    "\n",
    "# 3) DataLoaders\n",
    "batch_size = 32\n",
    "train_loader_mel = DataLoader(train_ds, batch_size=batch_size,\n",
    "                              shuffle=True, num_workers=0)\n",
    "val_loader_mel   = DataLoader(val_ds,   batch_size=batch_size,\n",
    "                              shuffle=False, num_workers=0)"
   ]
  },
  {
   "cell_type": "code",
   "execution_count": 83,
   "id": "a0a14aaa",
   "metadata": {},
   "outputs": [
    {
     "name": "stdout",
     "output_type": "stream",
     "text": [
      "3166\n"
     ]
    }
   ],
   "source": [
    "print(len(full_ds))"
   ]
  },
  {
   "cell_type": "code",
   "execution_count": 84,
   "id": "133f504b",
   "metadata": {},
   "outputs": [
    {
     "name": "stdout",
     "output_type": "stream",
     "text": [
      "\n",
      "Training MelCNN2D for 10 epochs on mps\n",
      "\n"
     ]
    },
    {
     "data": {
      "application/vnd.jupyter.widget-view+json": {
       "model_id": "74426020a50140e9aeeb2f6c2cfebfbf",
       "version_major": 2,
       "version_minor": 0
      },
      "text/plain": [
       "Epoch 1/10 [TRAIN]:   0%|          | 0/80 [00:00<?, ?it/s]"
      ]
     },
     "metadata": {},
     "output_type": "display_data"
    },
    {
     "data": {
      "application/vnd.jupyter.widget-view+json": {
       "model_id": "d795f93473a9485d827a256e56ad5463",
       "version_major": 2,
       "version_minor": 0
      },
      "text/plain": [
       "Epoch 1/10 [  VAL ]:   0%|          | 0/20 [00:00<?, ?it/s]"
      ]
     },
     "metadata": {},
     "output_type": "display_data"
    },
    {
     "name": "stdout",
     "output_type": "stream",
     "text": [
      "[MelCNN2D] Epoch 1/10  Train ▶ loss=1.6063, acc=0.2341 | Val   ▶ loss=1.5972, acc=0.2480 | Time=1.3s\n"
     ]
    },
    {
     "data": {
      "application/vnd.jupyter.widget-view+json": {
       "model_id": "9663fdc92911433ba64aef9a5ba1c1ca",
       "version_major": 2,
       "version_minor": 0
      },
      "text/plain": [
       "Epoch 2/10 [TRAIN]:   0%|          | 0/80 [00:00<?, ?it/s]"
      ]
     },
     "metadata": {},
     "output_type": "display_data"
    },
    {
     "data": {
      "application/vnd.jupyter.widget-view+json": {
       "model_id": "131f174b680342aaaa7a69498b380885",
       "version_major": 2,
       "version_minor": 0
      },
      "text/plain": [
       "Epoch 2/10 [  VAL ]:   0%|          | 0/20 [00:00<?, ?it/s]"
      ]
     },
     "metadata": {},
     "output_type": "display_data"
    },
    {
     "name": "stdout",
     "output_type": "stream",
     "text": [
      "[MelCNN2D] Epoch 2/10  Train ▶ loss=1.6020, acc=0.2448 | Val   ▶ loss=1.5974, acc=0.2148 | Time=1.1s\n"
     ]
    },
    {
     "data": {
      "application/vnd.jupyter.widget-view+json": {
       "model_id": "bfc94440038244649dc8a6948dc98bcb",
       "version_major": 2,
       "version_minor": 0
      },
      "text/plain": [
       "Epoch 3/10 [TRAIN]:   0%|          | 0/80 [00:00<?, ?it/s]"
      ]
     },
     "metadata": {},
     "output_type": "display_data"
    },
    {
     "data": {
      "application/vnd.jupyter.widget-view+json": {
       "model_id": "a787cfa9e01148e8a73de161461ef15d",
       "version_major": 2,
       "version_minor": 0
      },
      "text/plain": [
       "Epoch 3/10 [  VAL ]:   0%|          | 0/20 [00:00<?, ?it/s]"
      ]
     },
     "metadata": {},
     "output_type": "display_data"
    },
    {
     "name": "stdout",
     "output_type": "stream",
     "text": [
      "[MelCNN2D] Epoch 3/10  Train ▶ loss=1.6052, acc=0.2321 | Val   ▶ loss=1.5961, acc=0.2543 | Time=1.1s\n"
     ]
    },
    {
     "data": {
      "application/vnd.jupyter.widget-view+json": {
       "model_id": "f6383084cd8d4b7da74f19919307c019",
       "version_major": 2,
       "version_minor": 0
      },
      "text/plain": [
       "Epoch 4/10 [TRAIN]:   0%|          | 0/80 [00:00<?, ?it/s]"
      ]
     },
     "metadata": {},
     "output_type": "display_data"
    },
    {
     "data": {
      "application/vnd.jupyter.widget-view+json": {
       "model_id": "ba92cb2cf64848719264d07f2444c7d7",
       "version_major": 2,
       "version_minor": 0
      },
      "text/plain": [
       "Epoch 4/10 [  VAL ]:   0%|          | 0/20 [00:00<?, ?it/s]"
      ]
     },
     "metadata": {},
     "output_type": "display_data"
    },
    {
     "name": "stdout",
     "output_type": "stream",
     "text": [
      "[MelCNN2D] Epoch 4/10  Train ▶ loss=1.6033, acc=0.2298 | Val   ▶ loss=1.5911, acc=0.2654 | Time=1.1s\n"
     ]
    },
    {
     "data": {
      "application/vnd.jupyter.widget-view+json": {
       "model_id": "e79c6c5880964580b8644cf31303f83c",
       "version_major": 2,
       "version_minor": 0
      },
      "text/plain": [
       "Epoch 5/10 [TRAIN]:   0%|          | 0/80 [00:00<?, ?it/s]"
      ]
     },
     "metadata": {},
     "output_type": "display_data"
    },
    {
     "data": {
      "application/vnd.jupyter.widget-view+json": {
       "model_id": "38c874412e204f1ab3761a8d7b737982",
       "version_major": 2,
       "version_minor": 0
      },
      "text/plain": [
       "Epoch 5/10 [  VAL ]:   0%|          | 0/20 [00:00<?, ?it/s]"
      ]
     },
     "metadata": {},
     "output_type": "display_data"
    },
    {
     "name": "stdout",
     "output_type": "stream",
     "text": [
      "[MelCNN2D] Epoch 5/10  Train ▶ loss=1.6003, acc=0.2432 | Val   ▶ loss=1.5953, acc=0.2306 | Time=1.1s\n"
     ]
    },
    {
     "data": {
      "application/vnd.jupyter.widget-view+json": {
       "model_id": "6ba9ae4ad4d94cd9bf656f86d68793d3",
       "version_major": 2,
       "version_minor": 0
      },
      "text/plain": [
       "Epoch 6/10 [TRAIN]:   0%|          | 0/80 [00:00<?, ?it/s]"
      ]
     },
     "metadata": {},
     "output_type": "display_data"
    },
    {
     "data": {
      "application/vnd.jupyter.widget-view+json": {
       "model_id": "794398025fd84a389b673d3620353a1e",
       "version_major": 2,
       "version_minor": 0
      },
      "text/plain": [
       "Epoch 6/10 [  VAL ]:   0%|          | 0/20 [00:00<?, ?it/s]"
      ]
     },
     "metadata": {},
     "output_type": "display_data"
    },
    {
     "name": "stdout",
     "output_type": "stream",
     "text": [
      "[MelCNN2D] Epoch 6/10  Train ▶ loss=1.6018, acc=0.2321 | Val   ▶ loss=1.5916, acc=0.2480 | Time=1.1s\n"
     ]
    },
    {
     "data": {
      "application/vnd.jupyter.widget-view+json": {
       "model_id": "be1ec8e056d245a9bb7373a44a55d3a5",
       "version_major": 2,
       "version_minor": 0
      },
      "text/plain": [
       "Epoch 7/10 [TRAIN]:   0%|          | 0/80 [00:00<?, ?it/s]"
      ]
     },
     "metadata": {},
     "output_type": "display_data"
    },
    {
     "data": {
      "application/vnd.jupyter.widget-view+json": {
       "model_id": "89d8d411d001412d847e0605b30c2779",
       "version_major": 2,
       "version_minor": 0
      },
      "text/plain": [
       "Epoch 7/10 [  VAL ]:   0%|          | 0/20 [00:00<?, ?it/s]"
      ]
     },
     "metadata": {},
     "output_type": "display_data"
    },
    {
     "name": "stdout",
     "output_type": "stream",
     "text": [
      "[MelCNN2D] Epoch 7/10  Train ▶ loss=1.5975, acc=0.2381 | Val   ▶ loss=1.5904, acc=0.2780 | Time=1.1s\n"
     ]
    },
    {
     "data": {
      "application/vnd.jupyter.widget-view+json": {
       "model_id": "0d7ea3b1efcf402bb6524f059051cbd0",
       "version_major": 2,
       "version_minor": 0
      },
      "text/plain": [
       "Epoch 8/10 [TRAIN]:   0%|          | 0/80 [00:00<?, ?it/s]"
      ]
     },
     "metadata": {},
     "output_type": "display_data"
    },
    {
     "data": {
      "application/vnd.jupyter.widget-view+json": {
       "model_id": "8a03d54587d24700bd519b2e25a061cd",
       "version_major": 2,
       "version_minor": 0
      },
      "text/plain": [
       "Epoch 8/10 [  VAL ]:   0%|          | 0/20 [00:00<?, ?it/s]"
      ]
     },
     "metadata": {},
     "output_type": "display_data"
    },
    {
     "name": "stdout",
     "output_type": "stream",
     "text": [
      "[MelCNN2D] Epoch 8/10  Train ▶ loss=1.6019, acc=0.2313 | Val   ▶ loss=1.5906, acc=0.2559 | Time=1.1s\n"
     ]
    },
    {
     "data": {
      "application/vnd.jupyter.widget-view+json": {
       "model_id": "ce4ba0b718f3422dbeb715a820b5350a",
       "version_major": 2,
       "version_minor": 0
      },
      "text/plain": [
       "Epoch 9/10 [TRAIN]:   0%|          | 0/80 [00:00<?, ?it/s]"
      ]
     },
     "metadata": {},
     "output_type": "display_data"
    },
    {
     "data": {
      "application/vnd.jupyter.widget-view+json": {
       "model_id": "d72666b8770d4710bc779abd580ac8c6",
       "version_major": 2,
       "version_minor": 0
      },
      "text/plain": [
       "Epoch 9/10 [  VAL ]:   0%|          | 0/20 [00:00<?, ?it/s]"
      ]
     },
     "metadata": {},
     "output_type": "display_data"
    },
    {
     "name": "stdout",
     "output_type": "stream",
     "text": [
      "[MelCNN2D] Epoch 9/10  Train ▶ loss=1.6027, acc=0.2250 | Val   ▶ loss=1.5931, acc=0.2591 | Time=1.1s\n"
     ]
    },
    {
     "data": {
      "application/vnd.jupyter.widget-view+json": {
       "model_id": "d1af416139234038b8611b865dbc2810",
       "version_major": 2,
       "version_minor": 0
      },
      "text/plain": [
       "Epoch 10/10 [TRAIN]:   0%|          | 0/80 [00:00<?, ?it/s]"
      ]
     },
     "metadata": {},
     "output_type": "display_data"
    },
    {
     "data": {
      "application/vnd.jupyter.widget-view+json": {
       "model_id": "0bd73e38960042079defa34107004ee4",
       "version_major": 2,
       "version_minor": 0
      },
      "text/plain": [
       "Epoch 10/10 [  VAL ]:   0%|          | 0/20 [00:00<?, ?it/s]"
      ]
     },
     "metadata": {},
     "output_type": "display_data"
    },
    {
     "name": "stdout",
     "output_type": "stream",
     "text": [
      "[MelCNN2D] Epoch 10/10  Train ▶ loss=1.5990, acc=0.2416 | Val   ▶ loss=1.5939, acc=0.2370 | Time=1.1s\n",
      "\n",
      "Training complete.\n",
      "\n"
     ]
    }
   ],
   "source": [
    "mel_model, mel_history = run_experiment(\n",
    "    MelCNN2D,\n",
    "    train_loader=train_loader_mel,\n",
    "    val_loader=val_loader_mel,\n",
    "    epochs=10,\n",
    "    num_classes=5,\n",
    "    p_dropout=0.3\n",
    ")"
   ]
  },
  {
   "cell_type": "markdown",
   "id": "cf797abe",
   "metadata": {},
   "source": [
    "---------"
   ]
  },
  {
   "cell_type": "markdown",
   "id": "e2b3c927",
   "metadata": {},
   "source": [
    "# IGNORE FOR NOW"
   ]
  },
  {
   "cell_type": "code",
   "execution_count": 24,
   "id": "6e665cc5",
   "metadata": {},
   "outputs": [
    {
     "name": "stdout",
     "output_type": "stream",
     "text": [
      "Train size: 2532  |  Val size: 634\n"
     ]
    }
   ],
   "source": [
    "# ──────────────────────────────────────────────────────────────────────────────\n",
    "# Cell X: Stratified train/val split of your precomputed MFCCs and metadata\n",
    "# ──────────────────────────────────────────────────────────────────────────────\n",
    "\n",
    "import torch\n",
    "from sklearn.model_selection import train_test_split\n",
    "from torch.utils.data import Dataset, DataLoader\n",
    "\n",
    "# 1) Reload the saved MFCC list and rebuild metadata\n",
    "audio_mfccs = torch.load(\"audio_mfccs.pt\")        # previously saved list\n",
    "df_meta     = build_metadata(wav_dir)             # must be in same order\n",
    "\n",
    "assert len(audio_mfccs) == len(df_meta), \\\n",
    "       \"❌ audio_mfccs length must match metadata rows\"\n",
    "\n",
    "# 2) Stratified split on accent (labels 1–5)\n",
    "df_train, df_val, mfcc_train, mfcc_val = train_test_split(\n",
    "    df_meta, audio_mfccs,\n",
    "    test_size=0.2,\n",
    "    random_state=42,\n",
    "    stratify=df_meta[\"accent\"]\n",
    ")\n",
    "\n",
    "print(f\"Train size: {len(df_train)}  |  Val size: {len(df_val)}\")"
   ]
  },
  {
   "cell_type": "code",
   "execution_count": 25,
   "id": "b2b36e9c",
   "metadata": {},
   "outputs": [],
   "source": [
    "# ──────────────────────────────────────────────────────────────────────────────\n",
    "# Cell X+1: Dataset wrapping precomputed MFCCs for 2D CNN input\n",
    "# ──────────────────────────────────────────────────────────────────────────────\n",
    "\n",
    "import torch\n",
    "from torch.utils.data import Dataset\n",
    "\n",
    "class MFCCDataset(Dataset):\n",
    "    def __init__(self, mfcc_list, metadata_df, max_frames=160):\n",
    "        self.mfccs = mfcc_list\n",
    "        self.meta  = metadata_df.reset_index(drop=True)\n",
    "        self.max_frames = max_frames\n",
    "\n",
    "    def __len__(self):\n",
    "        return len(self.mfccs)\n",
    "\n",
    "    def __getitem__(self, idx):\n",
    "        m = self.mfccs[idx]             # [num_frames, n_mfcc]\n",
    "        n_frames, n_mfcc = m.shape\n",
    "\n",
    "        # Pad / trim to fixed length\n",
    "        if n_frames < self.max_frames:\n",
    "            pad = torch.zeros(self.max_frames - n_frames, n_mfcc)\n",
    "            m = torch.cat([m, pad], dim=0)\n",
    "        else:\n",
    "            m = m[:self.max_frames]\n",
    "\n",
    "        # Format for 2D CNN: [1, n_mfcc, max_frames]\n",
    "        x = m.T.unsqueeze(0)\n",
    "        x = (x - x.mean()) / (x.std() + 1e-6)\n",
    "\n",
    "        # Label 0–4\n",
    "        y = torch.tensor(self.meta.loc[idx, \"accent\"] - 1, dtype=torch.long)\n",
    "        return x, y"
   ]
  },
  {
   "cell_type": "code",
   "execution_count": 26,
   "id": "9d4ccc63",
   "metadata": {},
   "outputs": [
    {
     "name": "stdout",
     "output_type": "stream",
     "text": [
      "Mel train batches: 80, val batches: 20\n"
     ]
    }
   ],
   "source": [
    "# ──────────────────────────────────────────────────────────────────────────────\n",
    "# Cell X+2: Build separate train & val DataLoaders for Mel CNN\n",
    "# ──────────────────────────────────────────────────────────────────────────────\n",
    "\n",
    "batch_size  = 32\n",
    "max_frames  = 160  # adjust if your MFCC produces a different frame count\n",
    "\n",
    "# Train dataset + loader\n",
    "train_ds_mel = MFCCDataset(mfcc_train, df_train, max_frames=max_frames)\n",
    "train_loader_mel = DataLoader(\n",
    "    train_ds_mel,\n",
    "    batch_size=batch_size,\n",
    "    shuffle=True,\n",
    "    num_workers=0,       # single-process on macOS\n",
    "    pin_memory=False\n",
    ")\n",
    "\n",
    "# Val dataset + loader\n",
    "val_ds_mel   = MFCCDataset(mfcc_val, df_val, max_frames=max_frames)\n",
    "val_loader_mel = DataLoader(\n",
    "    val_ds_mel,\n",
    "    batch_size=batch_size,\n",
    "    shuffle=False,\n",
    "    num_workers=0,\n",
    "    pin_memory=False\n",
    ")\n",
    "\n",
    "print(f\"Mel train batches: {len(train_loader_mel)}, val batches: {len(val_loader_mel)}\")"
   ]
  },
  {
   "cell_type": "code",
   "execution_count": 39,
   "id": "6af32f10",
   "metadata": {},
   "outputs": [],
   "source": [
    "class MelCNN2D(nn.Module):\n",
    "    def __init__(self, num_classes=5, p_dropout=0.3):\n",
    "        super().__init__()\n",
    "        self.net = nn.Sequential(\n",
    "            # x: [B,1,n_mels,time]\n",
    "            nn.Conv2d(1, 32, kernel_size=3, padding=1), nn.BatchNorm2d(32), nn.ReLU(),\n",
    "            nn.MaxPool2d(2),  # n_mels/2 × time/2\n",
    "            nn.Conv2d(32,64, kernel_size=3, padding=1), nn.BatchNorm2d(64), nn.ReLU(),\n",
    "            nn.MaxPool2d(2),  # n_mels/4 × time/4\n",
    "            nn.Conv2d(64,128,kernel_size=3,padding=1), nn.BatchNorm2d(128), nn.ReLU(),\n",
    "            nn.AdaptiveAvgPool2d((1,1)), # collapse to [B,128,1,1]\n",
    "            nn.Flatten(),\n",
    "            nn.Dropout(p_dropout)\n",
    "        )\n",
    "        self.classifier = nn.Linear(128, num_classes)\n",
    "\n",
    "    def forward(self, x):\n",
    "        feat = self.net(x)  # [B,128]\n",
    "        return self.classifier(feat)\n"
   ]
  },
  {
   "cell_type": "code",
   "execution_count": 40,
   "id": "7316752c",
   "metadata": {},
   "outputs": [],
   "source": [
    "import time\n",
    "import torch.nn as nn\n",
    "import torch.optim as optim\n",
    "from tqdm.notebook import tqdm\n",
    "\n",
    "criterion = nn.CrossEntropyLoss()\n",
    "\n",
    "def run_experiment(model_cls, train_loader, val_loader, epochs=10, **model_kwargs):\n",
    "    \"\"\"\n",
    "    Trains model_cls for `epochs` epochs on train_loader, validates on val_loader.\n",
    "    model_kwargs → model __init__; epochs is handled here.\n",
    "    \"\"\"\n",
    "    model = model_cls(**model_kwargs).to(device)\n",
    "    optimizer = optim.Adam(model.parameters(), lr=1e-3, weight_decay=1e-4)\n",
    "    history = {\"train_loss\": [], \"train_acc\": [], \"val_loss\": [], \"val_acc\": []}\n",
    "\n",
    "    print(f\"\\nTraining {model_cls.__name__} for {epochs} epochs on {device}\\n\")\n",
    "    for epoch in range(1, epochs + 1):\n",
    "        start = time.time()\n",
    "\n",
    "        # —— TRAINING —— \n",
    "        model.train()\n",
    "        t_loss = correct = count = 0\n",
    "        train_bar = tqdm(train_loader, desc=f\"Epoch {epoch}/{epochs} [TRAIN]\", leave=False)\n",
    "        for x, y in train_bar:\n",
    "            x, y = x.to(device), y.to(device)\n",
    "            optimizer.zero_grad()\n",
    "            logits = model(x)\n",
    "            loss = criterion(logits, y)\n",
    "            loss.backward()\n",
    "            optimizer.step()\n",
    "\n",
    "            t_loss    += loss.item() * x.size(0)\n",
    "            preds     = logits.argmax(1)\n",
    "            correct   += (preds == y).sum().item()\n",
    "            count     += x.size(0)\n",
    "            train_bar.set_postfix(batch_loss=loss.item())\n",
    "\n",
    "        train_loss = t_loss / count\n",
    "        train_acc  = correct / count\n",
    "\n",
    "        # —— VALIDATION —— \n",
    "        model.eval()\n",
    "        v_loss = correct = count = 0\n",
    "        val_bar = tqdm(val_loader, desc=f\"Epoch {epoch}/{epochs} [  VAL ]\", leave=False)\n",
    "        with torch.no_grad():\n",
    "            for x, y in val_bar:\n",
    "                x, y = x.to(device), y.to(device)\n",
    "                logits = model(x)\n",
    "                loss = criterion(logits, y)\n",
    "\n",
    "                v_loss  += loss.item() * x.size(0)\n",
    "                preds   = logits.argmax(1)\n",
    "                correct += (preds == y).sum().item()\n",
    "                count   += x.size(0)\n",
    "                val_bar.set_postfix(batch_loss=loss.item())\n",
    "\n",
    "        val_loss = v_loss / count\n",
    "        val_acc  = correct / count\n",
    "\n",
    "        # record history\n",
    "        history[\"train_loss\"].append(train_loss)\n",
    "        history[\"train_acc\"].append(train_acc)\n",
    "        history[\"val_loss\"].append(val_loss)\n",
    "        history[\"val_acc\"].append(val_acc)\n",
    "\n",
    "        elapsed = time.time() - start\n",
    "        print(f\"[{model_cls.__name__}] Epoch {epoch}/{epochs}  \"\n",
    "              f\"Train ▶ loss={train_loss:.4f}, acc={train_acc:.4f} | \"\n",
    "              f\"Val   ▶ loss={val_loss:.4f}, acc={val_acc:.4f} | \"\n",
    "              f\"Time={elapsed:.1f}s\")\n",
    "\n",
    "    print(\"\\nTraining complete.\\n\")\n",
    "    return model, history"
   ]
  },
  {
   "cell_type": "code",
   "execution_count": 41,
   "id": "cd8716ed",
   "metadata": {},
   "outputs": [
    {
     "name": "stdout",
     "output_type": "stream",
     "text": [
      "\n",
      "Training MelCNN2D for 10 epochs on mps\n",
      "\n"
     ]
    },
    {
     "data": {
      "application/vnd.jupyter.widget-view+json": {
       "model_id": "9b4b8681731948ea970f5725d8bee321",
       "version_major": 2,
       "version_minor": 0
      },
      "text/plain": [
       "Epoch 1/10 [TRAIN]:   0%|          | 0/80 [00:00<?, ?it/s]"
      ]
     },
     "metadata": {},
     "output_type": "display_data"
    },
    {
     "data": {
      "application/vnd.jupyter.widget-view+json": {
       "model_id": "caefe666a3154f7a9419a8ba9c107566",
       "version_major": 2,
       "version_minor": 0
      },
      "text/plain": [
       "Epoch 1/10 [  VAL ]:   0%|          | 0/20 [00:00<?, ?it/s]"
      ]
     },
     "metadata": {},
     "output_type": "display_data"
    },
    {
     "name": "stdout",
     "output_type": "stream",
     "text": [
      "[MelCNN2D] Epoch 1/10  Train ▶ loss=1.5675, acc=0.2812 | Val   ▶ loss=1.4785, acc=0.4069 | Time=2.5s\n"
     ]
    },
    {
     "data": {
      "application/vnd.jupyter.widget-view+json": {
       "model_id": "6426d5d314834c18b94073ec9ecccf6f",
       "version_major": 2,
       "version_minor": 0
      },
      "text/plain": [
       "Epoch 2/10 [TRAIN]:   0%|          | 0/80 [00:00<?, ?it/s]"
      ]
     },
     "metadata": {},
     "output_type": "display_data"
    },
    {
     "data": {
      "application/vnd.jupyter.widget-view+json": {
       "model_id": "4bd04f0af8dd437c806a999864215386",
       "version_major": 2,
       "version_minor": 0
      },
      "text/plain": [
       "Epoch 2/10 [  VAL ]:   0%|          | 0/20 [00:00<?, ?it/s]"
      ]
     },
     "metadata": {},
     "output_type": "display_data"
    },
    {
     "name": "stdout",
     "output_type": "stream",
     "text": [
      "[MelCNN2D] Epoch 2/10  Train ▶ loss=1.4004, acc=0.4040 | Val   ▶ loss=1.4720, acc=0.3912 | Time=1.3s\n"
     ]
    },
    {
     "data": {
      "application/vnd.jupyter.widget-view+json": {
       "model_id": "a1aae02fa1004eb0b71adb58cf91770b",
       "version_major": 2,
       "version_minor": 0
      },
      "text/plain": [
       "Epoch 3/10 [TRAIN]:   0%|          | 0/80 [00:00<?, ?it/s]"
      ]
     },
     "metadata": {},
     "output_type": "display_data"
    },
    {
     "data": {
      "application/vnd.jupyter.widget-view+json": {
       "model_id": "ec327b5808d44782b891654c50b68408",
       "version_major": 2,
       "version_minor": 0
      },
      "text/plain": [
       "Epoch 3/10 [  VAL ]:   0%|          | 0/20 [00:00<?, ?it/s]"
      ]
     },
     "metadata": {},
     "output_type": "display_data"
    },
    {
     "name": "stdout",
     "output_type": "stream",
     "text": [
      "[MelCNN2D] Epoch 3/10  Train ▶ loss=1.2830, acc=0.4621 | Val   ▶ loss=1.2252, acc=0.4527 | Time=1.2s\n"
     ]
    },
    {
     "data": {
      "application/vnd.jupyter.widget-view+json": {
       "model_id": "127c66adb9d44545b79d3a9f979b6333",
       "version_major": 2,
       "version_minor": 0
      },
      "text/plain": [
       "Epoch 4/10 [TRAIN]:   0%|          | 0/80 [00:00<?, ?it/s]"
      ]
     },
     "metadata": {},
     "output_type": "display_data"
    },
    {
     "data": {
      "application/vnd.jupyter.widget-view+json": {
       "model_id": "53cdd43ad44344dcbbbf97fb360aacb8",
       "version_major": 2,
       "version_minor": 0
      },
      "text/plain": [
       "Epoch 4/10 [  VAL ]:   0%|          | 0/20 [00:00<?, ?it/s]"
      ]
     },
     "metadata": {},
     "output_type": "display_data"
    },
    {
     "name": "stdout",
     "output_type": "stream",
     "text": [
      "[MelCNN2D] Epoch 4/10  Train ▶ loss=1.2062, acc=0.5122 | Val   ▶ loss=1.1404, acc=0.5536 | Time=1.2s\n"
     ]
    },
    {
     "data": {
      "application/vnd.jupyter.widget-view+json": {
       "model_id": "ebbf13a6f62b4a91b3193003898991c4",
       "version_major": 2,
       "version_minor": 0
      },
      "text/plain": [
       "Epoch 5/10 [TRAIN]:   0%|          | 0/80 [00:00<?, ?it/s]"
      ]
     },
     "metadata": {},
     "output_type": "display_data"
    },
    {
     "data": {
      "application/vnd.jupyter.widget-view+json": {
       "model_id": "06927bcc17434bffafff01e3eb806527",
       "version_major": 2,
       "version_minor": 0
      },
      "text/plain": [
       "Epoch 5/10 [  VAL ]:   0%|          | 0/20 [00:00<?, ?it/s]"
      ]
     },
     "metadata": {},
     "output_type": "display_data"
    },
    {
     "name": "stdout",
     "output_type": "stream",
     "text": [
      "[MelCNN2D] Epoch 5/10  Train ▶ loss=1.1351, acc=0.5454 | Val   ▶ loss=1.4346, acc=0.4732 | Time=1.2s\n"
     ]
    },
    {
     "data": {
      "application/vnd.jupyter.widget-view+json": {
       "model_id": "d706186d86a34342baf62f852e12ecbc",
       "version_major": 2,
       "version_minor": 0
      },
      "text/plain": [
       "Epoch 6/10 [TRAIN]:   0%|          | 0/80 [00:00<?, ?it/s]"
      ]
     },
     "metadata": {},
     "output_type": "display_data"
    },
    {
     "data": {
      "application/vnd.jupyter.widget-view+json": {
       "model_id": "28b25ccbc4f84f8298cd32755c133339",
       "version_major": 2,
       "version_minor": 0
      },
      "text/plain": [
       "Epoch 6/10 [  VAL ]:   0%|          | 0/20 [00:00<?, ?it/s]"
      ]
     },
     "metadata": {},
     "output_type": "display_data"
    },
    {
     "name": "stdout",
     "output_type": "stream",
     "text": [
      "[MelCNN2D] Epoch 6/10  Train ▶ loss=1.0602, acc=0.5770 | Val   ▶ loss=1.0717, acc=0.5647 | Time=1.3s\n"
     ]
    },
    {
     "data": {
      "application/vnd.jupyter.widget-view+json": {
       "model_id": "8c0a50271a6d40aa8a9810a0c47e29e8",
       "version_major": 2,
       "version_minor": 0
      },
      "text/plain": [
       "Epoch 7/10 [TRAIN]:   0%|          | 0/80 [00:00<?, ?it/s]"
      ]
     },
     "metadata": {},
     "output_type": "display_data"
    },
    {
     "data": {
      "application/vnd.jupyter.widget-view+json": {
       "model_id": "1e25b89331424ab39a3f57a8c2679881",
       "version_major": 2,
       "version_minor": 0
      },
      "text/plain": [
       "Epoch 7/10 [  VAL ]:   0%|          | 0/20 [00:00<?, ?it/s]"
      ]
     },
     "metadata": {},
     "output_type": "display_data"
    },
    {
     "name": "stdout",
     "output_type": "stream",
     "text": [
      "[MelCNN2D] Epoch 7/10  Train ▶ loss=1.0805, acc=0.5920 | Val   ▶ loss=1.1578, acc=0.5110 | Time=1.3s\n"
     ]
    },
    {
     "data": {
      "application/vnd.jupyter.widget-view+json": {
       "model_id": "1e0a56848f4249bd8a02bca89519df4c",
       "version_major": 2,
       "version_minor": 0
      },
      "text/plain": [
       "Epoch 8/10 [TRAIN]:   0%|          | 0/80 [00:00<?, ?it/s]"
      ]
     },
     "metadata": {},
     "output_type": "display_data"
    },
    {
     "data": {
      "application/vnd.jupyter.widget-view+json": {
       "model_id": "eafc37d8d5cf4c0ca4aeccef68a77531",
       "version_major": 2,
       "version_minor": 0
      },
      "text/plain": [
       "Epoch 8/10 [  VAL ]:   0%|          | 0/20 [00:00<?, ?it/s]"
      ]
     },
     "metadata": {},
     "output_type": "display_data"
    },
    {
     "name": "stdout",
     "output_type": "stream",
     "text": [
      "[MelCNN2D] Epoch 8/10  Train ▶ loss=0.9379, acc=0.6556 | Val   ▶ loss=0.8723, acc=0.6483 | Time=1.2s\n"
     ]
    },
    {
     "data": {
      "application/vnd.jupyter.widget-view+json": {
       "model_id": "74156b5879934fa6b382ddedceffd6ce",
       "version_major": 2,
       "version_minor": 0
      },
      "text/plain": [
       "Epoch 9/10 [TRAIN]:   0%|          | 0/80 [00:00<?, ?it/s]"
      ]
     },
     "metadata": {},
     "output_type": "display_data"
    },
    {
     "data": {
      "application/vnd.jupyter.widget-view+json": {
       "model_id": "f015a4eb6477426c86c1858935f865fd",
       "version_major": 2,
       "version_minor": 0
      },
      "text/plain": [
       "Epoch 9/10 [  VAL ]:   0%|          | 0/20 [00:00<?, ?it/s]"
      ]
     },
     "metadata": {},
     "output_type": "display_data"
    },
    {
     "name": "stdout",
     "output_type": "stream",
     "text": [
      "[MelCNN2D] Epoch 9/10  Train ▶ loss=0.9213, acc=0.6568 | Val   ▶ loss=1.2291, acc=0.5536 | Time=1.3s\n"
     ]
    },
    {
     "data": {
      "application/vnd.jupyter.widget-view+json": {
       "model_id": "5fb278072e5947ce9c5d5687f7c313f0",
       "version_major": 2,
       "version_minor": 0
      },
      "text/plain": [
       "Epoch 10/10 [TRAIN]:   0%|          | 0/80 [00:00<?, ?it/s]"
      ]
     },
     "metadata": {},
     "output_type": "display_data"
    },
    {
     "data": {
      "application/vnd.jupyter.widget-view+json": {
       "model_id": "128ab52e2e0741228cd05776ca794281",
       "version_major": 2,
       "version_minor": 0
      },
      "text/plain": [
       "Epoch 10/10 [  VAL ]:   0%|          | 0/20 [00:00<?, ?it/s]"
      ]
     },
     "metadata": {},
     "output_type": "display_data"
    },
    {
     "name": "stdout",
     "output_type": "stream",
     "text": [
      "[MelCNN2D] Epoch 10/10  Train ▶ loss=0.8722, acc=0.6765 | Val   ▶ loss=0.7913, acc=0.7161 | Time=1.2s\n",
      "\n",
      "Training complete.\n",
      "\n"
     ]
    }
   ],
   "source": [
    "mel_model, mel_history = run_experiment(\n",
    "    MelCNN2D,\n",
    "    train_loader=train_loader_mel,\n",
    "    val_loader=val_loader_mel,\n",
    "    epochs=10,          # now correctly handled here\n",
    "    num_classes=5,\n",
    "    p_dropout=0.3\n",
    ")"
   ]
  },
  {
   "cell_type": "markdown",
   "id": "d9ce6e59",
   "metadata": {},
   "source": [
    "-------------"
   ]
  },
  {
   "cell_type": "code",
   "execution_count": 42,
   "id": "44fc844a",
   "metadata": {},
   "outputs": [],
   "source": [
    "# After loading mfcc_list and df_meta:\n",
    "\n",
    "df_train, df_val, mfcc_train, mfcc_val = train_test_split(\n",
    "    df_meta, mfcc_list,\n",
    "    test_size=0.2,\n",
    "    random_state=42,\n",
    "    stratify=df_meta[\"accent\"]\n",
    ")\n",
    "# Build two MFCCDataset instances: one from mfcc_train/df_train, one from mfcc_val/df_val"
   ]
  },
  {
   "cell_type": "code",
   "execution_count": 43,
   "id": "1ce15077",
   "metadata": {},
   "outputs": [
    {
     "name": "stdout",
     "output_type": "stream",
     "text": [
      "\n",
      "Training MelCNN2D for 10 epochs on mps\n",
      "\n"
     ]
    },
    {
     "data": {
      "application/vnd.jupyter.widget-view+json": {
       "model_id": "ae7ee5df8c134cf48348b8ebf40083a6",
       "version_major": 2,
       "version_minor": 0
      },
      "text/plain": [
       "Epoch 1/10 [TRAIN]:   0%|          | 0/80 [00:00<?, ?it/s]"
      ]
     },
     "metadata": {},
     "output_type": "display_data"
    },
    {
     "data": {
      "application/vnd.jupyter.widget-view+json": {
       "model_id": "8af5d8fd56674b1884954382d9d6eb26",
       "version_major": 2,
       "version_minor": 0
      },
      "text/plain": [
       "Epoch 1/10 [  VAL ]:   0%|          | 0/20 [00:00<?, ?it/s]"
      ]
     },
     "metadata": {},
     "output_type": "display_data"
    },
    {
     "name": "stdout",
     "output_type": "stream",
     "text": [
      "[MelCNN2D] Epoch 1/10  Train ▶ loss=1.5206, acc=0.3286 | Val   ▶ loss=1.3953, acc=0.3833 | Time=1.3s\n"
     ]
    },
    {
     "data": {
      "application/vnd.jupyter.widget-view+json": {
       "model_id": "3dfa3d60ac534ac6860ae8e2d3382486",
       "version_major": 2,
       "version_minor": 0
      },
      "text/plain": [
       "Epoch 2/10 [TRAIN]:   0%|          | 0/80 [00:00<?, ?it/s]"
      ]
     },
     "metadata": {},
     "output_type": "display_data"
    },
    {
     "data": {
      "application/vnd.jupyter.widget-view+json": {
       "model_id": "c1ff43c7c2584736b4da110d1a0e2947",
       "version_major": 2,
       "version_minor": 0
      },
      "text/plain": [
       "Epoch 2/10 [  VAL ]:   0%|          | 0/20 [00:00<?, ?it/s]"
      ]
     },
     "metadata": {},
     "output_type": "display_data"
    },
    {
     "name": "stdout",
     "output_type": "stream",
     "text": [
      "[MelCNN2D] Epoch 2/10  Train ▶ loss=1.3315, acc=0.4234 | Val   ▶ loss=1.2607, acc=0.4842 | Time=1.2s\n"
     ]
    },
    {
     "data": {
      "application/vnd.jupyter.widget-view+json": {
       "model_id": "90a290c84e4f40ccb44e63b4c1289457",
       "version_major": 2,
       "version_minor": 0
      },
      "text/plain": [
       "Epoch 3/10 [TRAIN]:   0%|          | 0/80 [00:00<?, ?it/s]"
      ]
     },
     "metadata": {},
     "output_type": "display_data"
    },
    {
     "data": {
      "application/vnd.jupyter.widget-view+json": {
       "model_id": "a837082befe0414faf51ad60067601a6",
       "version_major": 2,
       "version_minor": 0
      },
      "text/plain": [
       "Epoch 3/10 [  VAL ]:   0%|          | 0/20 [00:00<?, ?it/s]"
      ]
     },
     "metadata": {},
     "output_type": "display_data"
    },
    {
     "name": "stdout",
     "output_type": "stream",
     "text": [
      "[MelCNN2D] Epoch 3/10  Train ▶ loss=1.2453, acc=0.4810 | Val   ▶ loss=1.3372, acc=0.4132 | Time=1.2s\n"
     ]
    },
    {
     "data": {
      "application/vnd.jupyter.widget-view+json": {
       "model_id": "ff815fd9673d4b78ba67e386c13e1519",
       "version_major": 2,
       "version_minor": 0
      },
      "text/plain": [
       "Epoch 4/10 [TRAIN]:   0%|          | 0/80 [00:00<?, ?it/s]"
      ]
     },
     "metadata": {},
     "output_type": "display_data"
    },
    {
     "data": {
      "application/vnd.jupyter.widget-view+json": {
       "model_id": "62fad6e6cbf94b30bf5e7326c03c8306",
       "version_major": 2,
       "version_minor": 0
      },
      "text/plain": [
       "Epoch 4/10 [  VAL ]:   0%|          | 0/20 [00:00<?, ?it/s]"
      ]
     },
     "metadata": {},
     "output_type": "display_data"
    },
    {
     "name": "stdout",
     "output_type": "stream",
     "text": [
      "[MelCNN2D] Epoch 4/10  Train ▶ loss=1.1723, acc=0.5213 | Val   ▶ loss=1.0845, acc=0.5994 | Time=1.2s\n"
     ]
    },
    {
     "data": {
      "application/vnd.jupyter.widget-view+json": {
       "model_id": "5bc5c478e8504ce2ab284ccb847ae7b0",
       "version_major": 2,
       "version_minor": 0
      },
      "text/plain": [
       "Epoch 5/10 [TRAIN]:   0%|          | 0/80 [00:00<?, ?it/s]"
      ]
     },
     "metadata": {},
     "output_type": "display_data"
    },
    {
     "data": {
      "application/vnd.jupyter.widget-view+json": {
       "model_id": "6edf85756c484c9f9b2ad177981f2e67",
       "version_major": 2,
       "version_minor": 0
      },
      "text/plain": [
       "Epoch 5/10 [  VAL ]:   0%|          | 0/20 [00:00<?, ?it/s]"
      ]
     },
     "metadata": {},
     "output_type": "display_data"
    },
    {
     "name": "stdout",
     "output_type": "stream",
     "text": [
      "[MelCNN2D] Epoch 5/10  Train ▶ loss=1.1042, acc=0.5671 | Val   ▶ loss=1.0948, acc=0.5300 | Time=1.2s\n"
     ]
    },
    {
     "data": {
      "application/vnd.jupyter.widget-view+json": {
       "model_id": "d9a09935308a45348f65ed8d3f21539d",
       "version_major": 2,
       "version_minor": 0
      },
      "text/plain": [
       "Epoch 6/10 [TRAIN]:   0%|          | 0/80 [00:00<?, ?it/s]"
      ]
     },
     "metadata": {},
     "output_type": "display_data"
    },
    {
     "data": {
      "application/vnd.jupyter.widget-view+json": {
       "model_id": "1f7112135c794401a617bed77bcb7788",
       "version_major": 2,
       "version_minor": 0
      },
      "text/plain": [
       "Epoch 6/10 [  VAL ]:   0%|          | 0/20 [00:00<?, ?it/s]"
      ]
     },
     "metadata": {},
     "output_type": "display_data"
    },
    {
     "name": "stdout",
     "output_type": "stream",
     "text": [
      "[MelCNN2D] Epoch 6/10  Train ▶ loss=1.0272, acc=0.6106 | Val   ▶ loss=1.4262, acc=0.4432 | Time=1.2s\n"
     ]
    },
    {
     "data": {
      "application/vnd.jupyter.widget-view+json": {
       "model_id": "9a7eaa3bc513471ab20502baf1702d50",
       "version_major": 2,
       "version_minor": 0
      },
      "text/plain": [
       "Epoch 7/10 [TRAIN]:   0%|          | 0/80 [00:00<?, ?it/s]"
      ]
     },
     "metadata": {},
     "output_type": "display_data"
    },
    {
     "data": {
      "application/vnd.jupyter.widget-view+json": {
       "model_id": "83534cf152f04e37bfd89f87b447b121",
       "version_major": 2,
       "version_minor": 0
      },
      "text/plain": [
       "Epoch 7/10 [  VAL ]:   0%|          | 0/20 [00:00<?, ?it/s]"
      ]
     },
     "metadata": {},
     "output_type": "display_data"
    },
    {
     "name": "stdout",
     "output_type": "stream",
     "text": [
      "[MelCNN2D] Epoch 7/10  Train ▶ loss=0.9685, acc=0.6224 | Val   ▶ loss=0.9859, acc=0.6230 | Time=1.2s\n"
     ]
    },
    {
     "data": {
      "application/vnd.jupyter.widget-view+json": {
       "model_id": "bc9ab85189be444da53e98f72d8632d8",
       "version_major": 2,
       "version_minor": 0
      },
      "text/plain": [
       "Epoch 8/10 [TRAIN]:   0%|          | 0/80 [00:00<?, ?it/s]"
      ]
     },
     "metadata": {},
     "output_type": "display_data"
    },
    {
     "data": {
      "application/vnd.jupyter.widget-view+json": {
       "model_id": "d4ab62ff50524ee79ec54817f5181f1d",
       "version_major": 2,
       "version_minor": 0
      },
      "text/plain": [
       "Epoch 8/10 [  VAL ]:   0%|          | 0/20 [00:00<?, ?it/s]"
      ]
     },
     "metadata": {},
     "output_type": "display_data"
    },
    {
     "name": "stdout",
     "output_type": "stream",
     "text": [
      "[MelCNN2D] Epoch 8/10  Train ▶ loss=0.9071, acc=0.6746 | Val   ▶ loss=1.9540, acc=0.4401 | Time=1.3s\n"
     ]
    },
    {
     "data": {
      "application/vnd.jupyter.widget-view+json": {
       "model_id": "c120fba8d02f466f9d881978ea37dc9b",
       "version_major": 2,
       "version_minor": 0
      },
      "text/plain": [
       "Epoch 9/10 [TRAIN]:   0%|          | 0/80 [00:00<?, ?it/s]"
      ]
     },
     "metadata": {},
     "output_type": "display_data"
    },
    {
     "data": {
      "application/vnd.jupyter.widget-view+json": {
       "model_id": "d555149b54fb47d3a75fb2f9b3fbe46e",
       "version_major": 2,
       "version_minor": 0
      },
      "text/plain": [
       "Epoch 9/10 [  VAL ]:   0%|          | 0/20 [00:00<?, ?it/s]"
      ]
     },
     "metadata": {},
     "output_type": "display_data"
    },
    {
     "name": "stdout",
     "output_type": "stream",
     "text": [
      "[MelCNN2D] Epoch 9/10  Train ▶ loss=0.9210, acc=0.6588 | Val   ▶ loss=1.2746, acc=0.4700 | Time=1.2s\n"
     ]
    },
    {
     "data": {
      "application/vnd.jupyter.widget-view+json": {
       "model_id": "345189ef14fa4b21832bba3b10d107b9",
       "version_major": 2,
       "version_minor": 0
      },
      "text/plain": [
       "Epoch 10/10 [TRAIN]:   0%|          | 0/80 [00:00<?, ?it/s]"
      ]
     },
     "metadata": {},
     "output_type": "display_data"
    },
    {
     "data": {
      "application/vnd.jupyter.widget-view+json": {
       "model_id": "3c1017f785c74376a0dde0e6b70dd68d",
       "version_major": 2,
       "version_minor": 0
      },
      "text/plain": [
       "Epoch 10/10 [  VAL ]:   0%|          | 0/20 [00:00<?, ?it/s]"
      ]
     },
     "metadata": {},
     "output_type": "display_data"
    },
    {
     "name": "stdout",
     "output_type": "stream",
     "text": [
      "[MelCNN2D] Epoch 10/10  Train ▶ loss=0.8267, acc=0.6884 | Val   ▶ loss=0.8090, acc=0.7177 | Time=1.3s\n",
      "\n",
      "Training complete.\n",
      "\n"
     ]
    }
   ],
   "source": [
    "import torch\n",
    "from sklearn.model_selection import train_test_split\n",
    "from torch.utils.data import Dataset, DataLoader\n",
    "\n",
    "# 1) Load your precomputed MFCCs and metadata\n",
    "audio_mfccs = torch.load(\"audio_mfccs.pt\")  # list of [num_frames, n_mfcc] tensors\n",
    "df_meta     = build_metadata(wav_dir)       # your original DataFrame in same order\n",
    "\n",
    "# sanity check\n",
    "assert len(audio_mfccs) == len(df_meta), \"Features and metadata must align\"\n",
    "\n",
    "# 2) Stratified split on accents *and* split the list in parallel\n",
    "df_train, df_val, mfcc_train, mfcc_val = train_test_split(\n",
    "    df_meta, audio_mfccs,\n",
    "    test_size=0.2,\n",
    "    random_state=42,\n",
    "    stratify=df_meta[\"accent\"]\n",
    ")\n",
    "\n",
    "# 3) Wrap each split into a Dataset\n",
    "class MFCCDataset(Dataset):\n",
    "    def __init__(self, mfcc_list, metadata_df, max_frames=160):\n",
    "        self.mfccs = mfcc_list\n",
    "        self.meta  = metadata_df.reset_index(drop=True)\n",
    "        self.max_frames = max_frames\n",
    "\n",
    "    def __len__(self):\n",
    "        return len(self.mfccs)\n",
    "\n",
    "    def __getitem__(self, idx):\n",
    "        m = self.mfccs[idx]             # [num_frames, n_mfcc]\n",
    "        n_frames, n_mfcc = m.shape\n",
    "        # pad/trim\n",
    "        if n_frames < self.max_frames:\n",
    "            pad = torch.zeros(self.max_frames - n_frames, n_mfcc)\n",
    "            m = torch.cat([m, pad], dim=0)\n",
    "        else:\n",
    "            m = m[:self.max_frames]\n",
    "        # format for 2D CNN: [1, n_mfcc, max_frames]\n",
    "        x = m.T.unsqueeze(0)\n",
    "        x = (x - x.mean())/(x.std()+1e-6)\n",
    "        y = torch.tensor(self.meta.loc[idx, \"accent\"] - 1, dtype=torch.long)\n",
    "        return x, y\n",
    "\n",
    "# 4) Create train & val Datasets\n",
    "max_frames = 160  # adjust if your hop-length/frame-count differs\n",
    "train_ds_mel = MFCCDataset(mfcc_train, df_train, max_frames=max_frames)\n",
    "val_ds_mel   = MFCCDataset(mfcc_val,   df_val,   max_frames=max_frames)\n",
    "\n",
    "# 5) Build separate DataLoaders\n",
    "batch_size = 32\n",
    "train_loader_mel = DataLoader(train_ds_mel, batch_size=batch_size, shuffle=True,  num_workers=0)\n",
    "val_loader_mel   = DataLoader(val_ds_mel,   batch_size=batch_size, shuffle=False, num_workers=0)\n",
    "\n",
    "# 6) Now call run_experiment with distinct loaders\n",
    "mel_model, mel_history = run_experiment(\n",
    "    MelCNN2D,\n",
    "    train_loader=train_loader_mel,\n",
    "    val_loader=val_loader_mel,\n",
    "    epochs=10,         # or 5 for quicker debug\n",
    "    num_classes=5,\n",
    "    p_dropout=0.3\n",
    ")"
   ]
  },
  {
   "cell_type": "code",
   "execution_count": null,
   "id": "a61e8e5a",
   "metadata": {},
   "outputs": [],
   "source": []
  },
  {
   "cell_type": "code",
   "execution_count": 30,
   "id": "f2bf86eb",
   "metadata": {},
   "outputs": [],
   "source": [
    "import torch\n",
    "import torch.nn as nn\n",
    "import torch.optim as optim\n",
    "from sklearn.metrics import classification_report\n",
    "import torch.nn as nn\n",
    "\n",
    "class RawCNN1D(nn.Module):\n",
    "    def __init__(self, num_classes=5, p_dropout=0.3):\n",
    "        super().__init__()\n",
    "        self.net = nn.Sequential(\n",
    "            # Conv + aggressive pooling to cut 80k → 5k → 1\n",
    "            nn.Conv1d(1, 32, kernel_size=9, padding=4), nn.ReLU(),\n",
    "            nn.MaxPool1d(4),  # 80k→20k\n",
    "            nn.Conv1d(32, 64, kernel_size=9, padding=4), nn.ReLU(),\n",
    "            nn.MaxPool1d(4),  # 20k→5k\n",
    "            nn.Conv1d(64, 128, kernel_size=9, padding=4), nn.ReLU(),\n",
    "            nn.AdaptiveAvgPool1d(1),  # 5k→1\n",
    "            nn.Flatten(),\n",
    "            nn.Dropout(p_dropout)\n",
    "        )\n",
    "        self.classifier = nn.Linear(128, num_classes)\n",
    "\n",
    "    def forward(self, x):\n",
    "        # x: [B,1,T]\n",
    "        feat = self.net(x)       # [B,128]\n",
    "        return self.classifier(feat)\n",
    "\n",
    "\n",
    "class MelCNN2D(nn.Module):\n",
    "    def __init__(self, num_epochs, num_classes=5, p_dropout=0.3):\n",
    "        super().__init__()\n",
    "        self.net = nn.Sequential(\n",
    "            # x: [B,1,n_mels,time]\n",
    "            nn.Conv2d(1, 32, kernel_size=3, padding=1), nn.BatchNorm2d(32), nn.ReLU(),\n",
    "            nn.MaxPool2d(2),  # n_mels/2 × time/2\n",
    "            nn.Conv2d(32,64, kernel_size=3, padding=1), nn.BatchNorm2d(64), nn.ReLU(),\n",
    "            nn.MaxPool2d(2),  # n_mels/4 × time/4\n",
    "            nn.Conv2d(64,128,kernel_size=3,padding=1), nn.BatchNorm2d(128), nn.ReLU(),\n",
    "            nn.AdaptiveAvgPool2d((1,1)), # collapse to [B,128,1,1]\n",
    "            nn.Flatten(),\n",
    "            nn.Dropout(p_dropout)\n",
    "        )\n",
    "        self.classifier = nn.Linear(128, num_classes)\n",
    "\n",
    "    def forward(self, x):\n",
    "        feat = self.net(x)  # [B,128]\n",
    "        return self.classifier(feat)\n",
    "\n"
   ]
  },
  {
   "cell_type": "code",
   "execution_count": 17,
   "id": "ce8bd9b4",
   "metadata": {},
   "outputs": [],
   "source": [
    "import matplotlib.pyplot as plt\n",
    "\n",
    "def plot_training_curves(history, model_name=\"Model\"):\n",
    "    \"\"\"\n",
    "    history: dict with keys 'train_loss','val_loss','train_acc','val_acc'\n",
    "             each a list of length = num_epochs\n",
    "    model_name: string for titles/labels\n",
    "    \"\"\"\n",
    "    epochs = range(1, len(history[\"train_loss\"]) + 1)\n",
    "    \n",
    "    # Plot Loss\n",
    "    plt.figure(figsize=(6,4))\n",
    "    plt.plot(epochs, history[\"train_loss\"],  label=\"Train Loss\")\n",
    "    plt.plot(epochs, history[\"val_loss\"],    label=\"Val   Loss\")\n",
    "    plt.title(f\"{model_name} Loss over Epochs\")\n",
    "    plt.xlabel(\"Epoch\")\n",
    "    plt.ylabel(\"Loss\")\n",
    "    plt.legend()\n",
    "    plt.grid(True)\n",
    "    plt.show()\n",
    "    \n",
    "    # Plot Accuracy\n",
    "    plt.figure(figsize=(6,4))\n",
    "    plt.plot(epochs, history[\"train_acc\"],  label=\"Train Acc\")\n",
    "    plt.plot(epochs, history[\"val_acc\"],    label=\"Val   Acc\")\n",
    "    plt.title(f\"{model_name} Accuracy over Epochs\")\n",
    "    plt.xlabel(\"Epoch\")\n",
    "    plt.ylabel(\"Accuracy\")\n",
    "    plt.legend()\n",
    "    plt.grid(True)\n",
    "    plt.show()"
   ]
  },
  {
   "cell_type": "code",
   "execution_count": null,
   "id": "69f0ee43",
   "metadata": {},
   "outputs": [],
   "source": []
  },
  {
   "cell_type": "code",
   "execution_count": 20,
   "id": "a98bad3e",
   "metadata": {},
   "outputs": [
    {
     "name": "stdout",
     "output_type": "stream",
     "text": [
      "🚀 Using Apple MPS on Apple Silicon: mps\n",
      "MelCNN2D Epoch 01  Train: 1.089, 0.232 | Val: 1.044, 0.263\n",
      "MelCNN2D Epoch 02  Train: 1.024, 0.288 | Val: 1.056, 0.253\n",
      "MelCNN2D Epoch 03  Train: 0.939, 0.363 | Val: 1.081, 0.291\n",
      "MelCNN2D Epoch 04  Train: 0.869, 0.404 | Val: 0.935, 0.322\n",
      "MelCNN2D Epoch 05  Train: 0.789, 0.449 | Val: 0.709, 0.522\n",
      "MelCNN2D Epoch 06  Train: 0.731, 0.484 | Val: 0.667, 0.527\n",
      "MelCNN2D Epoch 07  Train: 0.673, 0.506 | Val: 0.626, 0.541\n",
      "MelCNN2D Epoch 08  Train: 0.664, 0.509 | Val: 0.623, 0.516\n",
      "MelCNN2D Epoch 09  Train: 0.628, 0.527 | Val: 0.968, 0.335\n",
      "MelCNN2D Epoch 10  Train: 0.596, 0.539 | Val: 0.794, 0.447\n"
     ]
    },
    {
     "data": {
      "image/png": "[encoded data removed]",
      "text/plain": [
       "<Figure size 600x400 with 1 Axes>"
      ]
     },
     "metadata": {},
     "output_type": "display_data"
    },
    {
     "data": {
      "image/png": "[encoded data removed]",
      "text/plain": [
       "<Figure size 600x400 with 1 Axes>"
      ]
     },
     "metadata": {},
     "output_type": "display_data"
    }
   ],
   "source": [
    "import torch\n",
    "from torch.utils.data import Dataset, DataLoader\n",
    "import pandas as pd\n",
    "import os\n",
    "\n",
    "# 1) Load your saved MFCC list\n",
    "mfcc_list = torch.load(\"audio_mfccs.pt\")   # list of Tensors [num_frames, n_mfcc]\n",
    "\n",
    "# 2) Rebuild metadata so you know each file's accent\n",
    "#    (must match the order you used when saving)\n",
    "wav_dir = \"/Users/bramdewaal/Desktop/Uni/VSC/Deep Learning/Assignment/Train\"\n",
    "df_meta = build_metadata(wav_dir)  # as before, yields DataFrame in the same order\n",
    "\n",
    "assert len(mfcc_list) == len(df_meta), \"Metadata & features must align\"\n",
    "\n",
    "\n",
    "import torch\n",
    "\n",
    "# Cross-platform device selection\n",
    "try:\n",
    "    import torch_directml\n",
    "    device = torch_directml.device()\n",
    "    print(\"🚀 Using DirectML on AMD GPU:\", device)\n",
    "except ImportError:\n",
    "    if torch.backends.mps.is_available():\n",
    "        device = torch.device(\"mps\")\n",
    "        print(\"🚀 Using Apple MPS on Apple Silicon:\", device)\n",
    "    else:\n",
    "        device = torch.device(\"cpu\")\n",
    "        print(\"⚠️  Falling back to CPU:\", device)\n",
    "# 3) Create a Dataset that pads/trims MFCCs to a fixed frame count\n",
    "class MFCCDataset(Dataset):\n",
    "    def __init__(self, mfcc_list, metadata_df, max_frames=160):\n",
    "        self.mfccs = mfcc_list\n",
    "        self.meta  = metadata_df.reset_index(drop=True)\n",
    "        self.max_frames = max_frames\n",
    "        \n",
    "    def __len__(self):\n",
    "        return len(self.mfccs)\n",
    "    \n",
    "    def __getitem__(self, idx):\n",
    "        m = self.mfccs[idx]            # [num_frames, n_mfcc]\n",
    "        n_frames, n_mfcc = m.shape\n",
    "        \n",
    "        # pad or trim to max_frames\n",
    "        if n_frames < self.max_frames:\n",
    "            pad_amt = self.max_frames - n_frames\n",
    "            pad = torch.zeros(pad_amt, n_mfcc)\n",
    "            m = torch.cat([m, pad], dim=0)\n",
    "        else:\n",
    "            m = m[:self.max_frames]\n",
    "        \n",
    "        # now m is [max_frames, n_mfcc]\n",
    "        x = m.T                       # → [n_mfcc, max_frames]\n",
    "        x = x.unsqueeze(0)            # → [1, n_mfcc, max_frames]\n",
    "        \n",
    "        # normalize\n",
    "        x = (x - x.mean())/(x.std()+1e-6)\n",
    "        \n",
    "        # label (0–4)\n",
    "        y = self.meta.loc[idx, \"accent\"] - 1\n",
    "        return x, torch.tensor(y, dtype=torch.long)\n",
    "\n",
    "# 4) Instantiate Dataset + DataLoader\n",
    "# Choose max_frames so it covers most of your signals (e.g., ~160)\n",
    "ds_mfcc = MFCCDataset(mfcc_list, df_meta, max_frames=160)\n",
    "loader_mfcc = DataLoader(ds_mfcc, batch_size=32, shuffle=True, num_workers=0)\n",
    "\n",
    "# 5) Train with your MelCNN2D\n",
    "mel_model, mel_history = run_experiment(\n",
    "    MelCNN2D,\n",
    "    train_loader=loader_mfcc,\n",
    "    val_loader=loader_mfcc,    # replace with a proper val split if you have one\n",
    "\n",
    "    num_classes=5,\n",
    "    p_dropout=0.3\n",
    ")\n",
    "\n",
    "# 6) Plot curves\n",
    "plot_training_curves(mel_history, model_name=\"MelCNN2D (precomputed MFCC)\")"
   ]
  },
  {
   "cell_type": "markdown",
   "id": "f6b30af0",
   "metadata": {},
   "source": [
    "-----------"
   ]
  },
  {
   "cell_type": "markdown",
   "id": "c6dbe1cb",
   "metadata": {},
   "source": []
  },
  {
   "cell_type": "code",
   "execution_count": 6,
   "id": "eb995b41",
   "metadata": {},
   "outputs": [],
   "source": [
    "df = build_metadata(\"/Users/bramdewaal/Desktop/Uni/VSC/Deep Learning/Assignment/Train\") # Training dataframe based on accent & gender metadata\n"
   ]
  },
  {
   "cell_type": "code",
   "execution_count": null,
   "id": "485089f2",
   "metadata": {},
   "outputs": [],
   "source": []
  }
 ],
 "metadata": {
  "kernelspec": {
   "display_name": "base",
   "language": "python",
   "name": "python3"
  },
  "language_info": {
   "codemirror_mode": {
    "name": "ipython",
    "version": 3
   },
   "file_extension": ".py",
   "mimetype": "text/x-python",
   "name": "python",
   "nbconvert_exporter": "python",
   "pygments_lexer": "ipython3",
   "version": "3.11.5"
  }
 },
 "nbformat": 4,
 "nbformat_minor": 5
}
